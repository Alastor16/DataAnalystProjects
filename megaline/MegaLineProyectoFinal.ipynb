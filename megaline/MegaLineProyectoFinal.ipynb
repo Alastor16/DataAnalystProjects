{
 "cells": [
  {
   "cell_type": "markdown",
   "metadata": {},
   "source": [
    "Proyecto Megaline\n",
    "El objetivo de este proyecto es analizar una base de datos de Megalinea sobre llamadas, para ello se limpiaran los datos y se analizaran. "
   ]
  },
  {
   "cell_type": "markdown",
   "metadata": {
    "id": "MQi4IPy70q0y"
   },
   "source": [
    "## Inicialización"
   ]
  },
  {
   "cell_type": "code",
   "execution_count": 1,
   "metadata": {
    "id": "MtYIuBxu0q0z"
   },
   "outputs": [],
   "source": [
    "# Cargar todas las librerías\n",
    "\n",
    "from scipy import stats as st\n",
    "import pandas as pd\n",
    "from matplotlib import pyplot as plt \n",
    "import numpy as np\n",
    "import math #para convertir mb en gygabytes \n"
   ]
  },
  {
   "cell_type": "markdown",
   "metadata": {
    "id": "4ysWWC5i0q00"
   },
   "source": [
    "## Cargar datos"
   ]
  },
  {
   "cell_type": "code",
   "execution_count": 2,
   "metadata": {
    "id": "CCqPW7rS0q01"
   },
   "outputs": [],
   "source": [
    "# Carga los archivos de datos en diferentes DataFrames\n",
    "calls = pd.read_csv('/datasets/megaline_calls.csv')\n",
    "users = pd.read_csv('/datasets/megaline_users.csv')\n",
    "plans  = pd.read_csv('/datasets/megaline_plans.csv')\n",
    "messages =  pd.read_csv('/datasets/megaline_messages.csv') \n",
    "internet = pd.read_csv('/datasets/megaline_internet.csv') \n"
   ]
  },
  {
   "cell_type": "markdown",
   "metadata": {
    "id": "69qqoJ3r0q01"
   },
   "source": [
    "## Preparar los datos"
   ]
  },
  {
   "cell_type": "markdown",
   "metadata": {
    "id": "vUuZw80S0q01"
   },
   "source": [
    "[Los datos para este proyecto se dividen en varias tablas. Explora cada una para tener una comprensión inicial de los datos. Si es necesario, haz las correcciones requeridas en cada tabla.]"
   ]
  },
  {
   "cell_type": "markdown",
   "metadata": {
    "id": "ohBhimvH0q01"
   },
   "source": [
    "## Tarifas"
   ]
  },
  {
   "cell_type": "code",
   "execution_count": 3,
   "metadata": {
    "id": "GptqP3Q40q02"
   },
   "outputs": [
    {
     "data": {
      "text/html": [
       "<div>\n",
       "<style scoped>\n",
       "    .dataframe tbody tr th:only-of-type {\n",
       "        vertical-align: middle;\n",
       "    }\n",
       "\n",
       "    .dataframe tbody tr th {\n",
       "        vertical-align: top;\n",
       "    }\n",
       "\n",
       "    .dataframe thead th {\n",
       "        text-align: right;\n",
       "    }\n",
       "</style>\n",
       "<table border=\"1\" class=\"dataframe\">\n",
       "  <thead>\n",
       "    <tr style=\"text-align: right;\">\n",
       "      <th></th>\n",
       "      <th>messages_included</th>\n",
       "      <th>mb_per_month_included</th>\n",
       "      <th>minutes_included</th>\n",
       "      <th>usd_monthly_pay</th>\n",
       "      <th>usd_per_gb</th>\n",
       "      <th>usd_per_message</th>\n",
       "      <th>usd_per_minute</th>\n",
       "      <th>plan_name</th>\n",
       "    </tr>\n",
       "  </thead>\n",
       "  <tbody>\n",
       "    <tr>\n",
       "      <th>0</th>\n",
       "      <td>50</td>\n",
       "      <td>15360</td>\n",
       "      <td>500</td>\n",
       "      <td>20</td>\n",
       "      <td>10</td>\n",
       "      <td>0.03</td>\n",
       "      <td>0.03</td>\n",
       "      <td>surf</td>\n",
       "    </tr>\n",
       "    <tr>\n",
       "      <th>1</th>\n",
       "      <td>1000</td>\n",
       "      <td>30720</td>\n",
       "      <td>3000</td>\n",
       "      <td>70</td>\n",
       "      <td>7</td>\n",
       "      <td>0.01</td>\n",
       "      <td>0.01</td>\n",
       "      <td>ultimate</td>\n",
       "    </tr>\n",
       "  </tbody>\n",
       "</table>\n",
       "</div>"
      ],
      "text/plain": [
       "   messages_included  mb_per_month_included  minutes_included  \\\n",
       "0                 50                  15360               500   \n",
       "1               1000                  30720              3000   \n",
       "\n",
       "   usd_monthly_pay  usd_per_gb  usd_per_message  usd_per_minute plan_name  \n",
       "0               20          10             0.03            0.03      surf  \n",
       "1               70           7             0.01            0.01  ultimate  "
      ]
     },
     "metadata": {},
     "output_type": "display_data"
    },
    {
     "data": {
      "text/plain": [
       "<bound method DataFrame.info of    messages_included  mb_per_month_included  minutes_included  \\\n",
       "0                 50                  15360               500   \n",
       "1               1000                  30720              3000   \n",
       "\n",
       "   usd_monthly_pay  usd_per_gb  usd_per_message  usd_per_minute plan_name  \n",
       "0               20          10             0.03            0.03      surf  \n",
       "1               70           7             0.01            0.01  ultimate  >"
      ]
     },
     "execution_count": 3,
     "metadata": {},
     "output_type": "execute_result"
    }
   ],
   "source": [
    "# Imprime la información general/resumida sobre el DataFrame de las tarifas\n",
    "display (plans)\n",
    "plans.info"
   ]
  },
  {
   "cell_type": "code",
   "execution_count": 4,
   "metadata": {},
   "outputs": [
    {
     "data": {
      "text/plain": [
       "messages_included          int64\n",
       "mb_per_month_included      int64\n",
       "minutes_included           int64\n",
       "usd_monthly_pay            int64\n",
       "usd_per_gb                 int64\n",
       "usd_per_message          float64\n",
       "usd_per_minute           float64\n",
       "plan_name                 object\n",
       "dtype: object"
      ]
     },
     "metadata": {},
     "output_type": "display_data"
    }
   ],
   "source": [
    "display(plans.dtypes)"
   ]
  },
  {
   "cell_type": "markdown",
   "metadata": {
    "id": "64xzjwL70q02"
   },
   "source": [
    "\n",
    "Los datos de las tarifas son informativos, la mayoria esta en int fuera del costo por mensaje y minuto. No hay datos ausentes\n",
    "al ser un data frame de 2 lineas"
   ]
  },
  {
   "cell_type": "markdown",
   "metadata": {
    "id": "1n2X6WXf0q04"
   },
   "source": [
    "## Usuarios/as"
   ]
  },
  {
   "cell_type": "code",
   "execution_count": 5,
   "metadata": {
    "id": "2NgjWFqx0q05"
   },
   "outputs": [
    {
     "name": "stdout",
     "output_type": "stream",
     "text": [
      "<class 'pandas.core.frame.DataFrame'>\n",
      "RangeIndex: 500 entries, 0 to 499\n",
      "Data columns (total 8 columns):\n",
      " #   Column      Non-Null Count  Dtype \n",
      "---  ------      --------------  ----- \n",
      " 0   user_id     500 non-null    int64 \n",
      " 1   first_name  500 non-null    object\n",
      " 2   last_name   500 non-null    object\n",
      " 3   age         500 non-null    int64 \n",
      " 4   city        500 non-null    object\n",
      " 5   reg_date    500 non-null    object\n",
      " 6   plan        500 non-null    object\n",
      " 7   churn_date  34 non-null     object\n",
      "dtypes: int64(2), object(6)\n",
      "memory usage: 31.4+ KB\n"
     ]
    }
   ],
   "source": [
    "# Imprime la información general/resumida sobre el DataFrame de usuarios\n",
    "\n",
    "users.info(show_counts=True)\n"
   ]
  },
  {
   "cell_type": "code",
   "execution_count": 6,
   "metadata": {
    "id": "1IN1L9uh0q05"
   },
   "outputs": [
    {
     "data": {
      "text/html": [
       "<div>\n",
       "<style scoped>\n",
       "    .dataframe tbody tr th:only-of-type {\n",
       "        vertical-align: middle;\n",
       "    }\n",
       "\n",
       "    .dataframe tbody tr th {\n",
       "        vertical-align: top;\n",
       "    }\n",
       "\n",
       "    .dataframe thead th {\n",
       "        text-align: right;\n",
       "    }\n",
       "</style>\n",
       "<table border=\"1\" class=\"dataframe\">\n",
       "  <thead>\n",
       "    <tr style=\"text-align: right;\">\n",
       "      <th></th>\n",
       "      <th>user_id</th>\n",
       "      <th>first_name</th>\n",
       "      <th>last_name</th>\n",
       "      <th>age</th>\n",
       "      <th>city</th>\n",
       "      <th>reg_date</th>\n",
       "      <th>plan</th>\n",
       "      <th>churn_date</th>\n",
       "    </tr>\n",
       "  </thead>\n",
       "  <tbody>\n",
       "    <tr>\n",
       "      <th>239</th>\n",
       "      <td>1239</td>\n",
       "      <td>Quentin</td>\n",
       "      <td>Hancock</td>\n",
       "      <td>24</td>\n",
       "      <td>Fresno, CA MSA</td>\n",
       "      <td>2018-08-11</td>\n",
       "      <td>surf</td>\n",
       "      <td>NaN</td>\n",
       "    </tr>\n",
       "    <tr>\n",
       "      <th>225</th>\n",
       "      <td>1225</td>\n",
       "      <td>Margarito</td>\n",
       "      <td>Barker</td>\n",
       "      <td>41</td>\n",
       "      <td>Columbia, SC MSA</td>\n",
       "      <td>2018-06-07</td>\n",
       "      <td>surf</td>\n",
       "      <td>NaN</td>\n",
       "    </tr>\n",
       "    <tr>\n",
       "      <th>70</th>\n",
       "      <td>1070</td>\n",
       "      <td>Jacelyn</td>\n",
       "      <td>Contreras</td>\n",
       "      <td>66</td>\n",
       "      <td>Chicago-Naperville-Elgin, IL-IN-WI MSA</td>\n",
       "      <td>2018-05-12</td>\n",
       "      <td>surf</td>\n",
       "      <td>NaN</td>\n",
       "    </tr>\n",
       "    <tr>\n",
       "      <th>151</th>\n",
       "      <td>1151</td>\n",
       "      <td>Ralph</td>\n",
       "      <td>Monroe</td>\n",
       "      <td>21</td>\n",
       "      <td>New York-Newark-Jersey City, NY-NJ-PA MSA</td>\n",
       "      <td>2018-03-20</td>\n",
       "      <td>surf</td>\n",
       "      <td>NaN</td>\n",
       "    </tr>\n",
       "    <tr>\n",
       "      <th>449</th>\n",
       "      <td>1449</td>\n",
       "      <td>Boyd</td>\n",
       "      <td>Kelley</td>\n",
       "      <td>39</td>\n",
       "      <td>Seattle-Tacoma-Bellevue, WA MSA</td>\n",
       "      <td>2018-10-04</td>\n",
       "      <td>surf</td>\n",
       "      <td>NaN</td>\n",
       "    </tr>\n",
       "    <tr>\n",
       "      <th>55</th>\n",
       "      <td>1055</td>\n",
       "      <td>Patrick</td>\n",
       "      <td>Mclean</td>\n",
       "      <td>52</td>\n",
       "      <td>Portland-Vancouver-Hillsboro, OR-WA MSA</td>\n",
       "      <td>2018-01-13</td>\n",
       "      <td>surf</td>\n",
       "      <td>NaN</td>\n",
       "    </tr>\n",
       "    <tr>\n",
       "      <th>457</th>\n",
       "      <td>1457</td>\n",
       "      <td>Janean</td>\n",
       "      <td>Lynch</td>\n",
       "      <td>47</td>\n",
       "      <td>New York-Newark-Jersey City, NY-NJ-PA MSA</td>\n",
       "      <td>2018-02-17</td>\n",
       "      <td>surf</td>\n",
       "      <td>NaN</td>\n",
       "    </tr>\n",
       "    <tr>\n",
       "      <th>472</th>\n",
       "      <td>1472</td>\n",
       "      <td>Maximo</td>\n",
       "      <td>Mendoza</td>\n",
       "      <td>51</td>\n",
       "      <td>San Francisco-Oakland-Berkeley, CA MSA</td>\n",
       "      <td>2018-04-10</td>\n",
       "      <td>surf</td>\n",
       "      <td>NaN</td>\n",
       "    </tr>\n",
       "    <tr>\n",
       "      <th>376</th>\n",
       "      <td>1376</td>\n",
       "      <td>Mika</td>\n",
       "      <td>Williams</td>\n",
       "      <td>58</td>\n",
       "      <td>Columbia, SC MSA</td>\n",
       "      <td>2018-04-16</td>\n",
       "      <td>ultimate</td>\n",
       "      <td>NaN</td>\n",
       "    </tr>\n",
       "    <tr>\n",
       "      <th>489</th>\n",
       "      <td>1489</td>\n",
       "      <td>Londa</td>\n",
       "      <td>Jenkins</td>\n",
       "      <td>72</td>\n",
       "      <td>Detroit-Warren-Dearborn, MI MSA</td>\n",
       "      <td>2018-05-24</td>\n",
       "      <td>surf</td>\n",
       "      <td>NaN</td>\n",
       "    </tr>\n",
       "  </tbody>\n",
       "</table>\n",
       "</div>"
      ],
      "text/plain": [
       "     user_id first_name  last_name  age  \\\n",
       "239     1239    Quentin    Hancock   24   \n",
       "225     1225  Margarito     Barker   41   \n",
       "70      1070    Jacelyn  Contreras   66   \n",
       "151     1151      Ralph     Monroe   21   \n",
       "449     1449       Boyd     Kelley   39   \n",
       "55      1055    Patrick     Mclean   52   \n",
       "457     1457     Janean      Lynch   47   \n",
       "472     1472     Maximo    Mendoza   51   \n",
       "376     1376       Mika   Williams   58   \n",
       "489     1489      Londa    Jenkins   72   \n",
       "\n",
       "                                          city    reg_date      plan  \\\n",
       "239                             Fresno, CA MSA  2018-08-11      surf   \n",
       "225                           Columbia, SC MSA  2018-06-07      surf   \n",
       "70      Chicago-Naperville-Elgin, IL-IN-WI MSA  2018-05-12      surf   \n",
       "151  New York-Newark-Jersey City, NY-NJ-PA MSA  2018-03-20      surf   \n",
       "449            Seattle-Tacoma-Bellevue, WA MSA  2018-10-04      surf   \n",
       "55     Portland-Vancouver-Hillsboro, OR-WA MSA  2018-01-13      surf   \n",
       "457  New York-Newark-Jersey City, NY-NJ-PA MSA  2018-02-17      surf   \n",
       "472     San Francisco-Oakland-Berkeley, CA MSA  2018-04-10      surf   \n",
       "376                           Columbia, SC MSA  2018-04-16  ultimate   \n",
       "489            Detroit-Warren-Dearborn, MI MSA  2018-05-24      surf   \n",
       "\n",
       "    churn_date  \n",
       "239        NaN  \n",
       "225        NaN  \n",
       "70         NaN  \n",
       "151        NaN  \n",
       "449        NaN  \n",
       "55         NaN  \n",
       "457        NaN  \n",
       "472        NaN  \n",
       "376        NaN  \n",
       "489        NaN  "
      ]
     },
     "metadata": {},
     "output_type": "display_data"
    }
   ],
   "source": [
    "# Imprime una muestra de datos para usuarios\n",
    "display(users.sample(10))"
   ]
  },
  {
   "cell_type": "code",
   "execution_count": 7,
   "metadata": {},
   "outputs": [
    {
     "data": {
      "text/plain": [
       "0"
      ]
     },
     "metadata": {},
     "output_type": "display_data"
    }
   ],
   "source": [
    "#Verificamos datos duplicados en la columna de user ID que es la que debe ser unica\n",
    "#usamos duplicated ya que en este caso es imposible tengamos diferencias en esa columna por typos.\n",
    "display (users['user_id'].duplicated().sum()) \n"
   ]
  },
  {
   "cell_type": "code",
   "execution_count": 8,
   "metadata": {},
   "outputs": [
    {
     "data": {
      "text/html": [
       "<div>\n",
       "<style scoped>\n",
       "    .dataframe tbody tr th:only-of-type {\n",
       "        vertical-align: middle;\n",
       "    }\n",
       "\n",
       "    .dataframe tbody tr th {\n",
       "        vertical-align: top;\n",
       "    }\n",
       "\n",
       "    .dataframe thead th {\n",
       "        text-align: right;\n",
       "    }\n",
       "</style>\n",
       "<table border=\"1\" class=\"dataframe\">\n",
       "  <thead>\n",
       "    <tr style=\"text-align: right;\">\n",
       "      <th></th>\n",
       "      <th>user_id</th>\n",
       "      <th>first_name</th>\n",
       "      <th>last_name</th>\n",
       "      <th>age</th>\n",
       "      <th>city</th>\n",
       "      <th>reg_date</th>\n",
       "      <th>plan</th>\n",
       "      <th>churn_date</th>\n",
       "    </tr>\n",
       "  </thead>\n",
       "  <tbody>\n",
       "  </tbody>\n",
       "</table>\n",
       "</div>"
      ],
      "text/plain": [
       "Empty DataFrame\n",
       "Columns: [user_id, first_name, last_name, age, city, reg_date, plan, churn_date]\n",
       "Index: []"
      ]
     },
     "metadata": {},
     "output_type": "display_data"
    }
   ],
   "source": [
    "#ahora checamos duplicados en la combinacion de nombre y apellido, por seguridad si hay homonimos. \n",
    "NombreCompleto = ['first_name', 'last_name']\n",
    "FilasDuplicadas = users[users.duplicated(subset=NombreCompleto, keep=False)]\n",
    "display (FilasDuplicadas) "
   ]
  },
  {
   "cell_type": "markdown",
   "metadata": {},
   "source": [
    "Los datos estan bien, para el analisis hay algunos que podemos consolidar como lo es el nombre con el apellido para buscar duplicados.\n",
    "\n",
    "para el analisis. Igualmente reg_date y chuirn_date son de tipo object asi que habria que cambiarlos a datetime. \n",
    "Asi mismo para facilitar el analisis habria que agregar una columna de duracion si fuera relevante ver una comparacion\n",
    "de cuando recien contratan a los otros meses. "
   ]
  },
  {
   "cell_type": "markdown",
   "metadata": {
    "id": "dCZoUq4f0q06"
   },
   "source": [
    "[Describe lo que ves y observas en la información general y en la muestra de datos impresa para el precio de datos anterior. ¿Hay algún problema (tipos de datos no adecuados, datos ausentes, etc.) que pudieran necesitar investigación y cambios adicionales? ¿Cómo se puede arreglar?]"
   ]
  },
  {
   "cell_type": "markdown",
   "metadata": {
    "id": "dCZoUq4f0q06"
   },
   "source": []
  },
  {
   "cell_type": "markdown",
   "metadata": {
    "id": "BX5FQh_I0q06"
   },
   "source": [
    "### Corregir los datos"
   ]
  },
  {
   "cell_type": "code",
   "execution_count": 9,
   "metadata": {
    "id": "yUqX-K0C0q07"
   },
   "outputs": [
    {
     "name": "stdout",
     "output_type": "stream",
     "text": [
      "<class 'pandas.core.frame.DataFrame'>\n",
      "RangeIndex: 500 entries, 0 to 499\n",
      "Data columns (total 8 columns):\n",
      " #   Column      Non-Null Count  Dtype         \n",
      "---  ------      --------------  -----         \n",
      " 0   user_id     500 non-null    int64         \n",
      " 1   first_name  500 non-null    object        \n",
      " 2   last_name   500 non-null    object        \n",
      " 3   age         500 non-null    int64         \n",
      " 4   city        500 non-null    object        \n",
      " 5   reg_date    500 non-null    datetime64[ns]\n",
      " 6   plan        500 non-null    object        \n",
      " 7   churn_date  34 non-null     datetime64[ns]\n",
      "dtypes: datetime64[ns](2), int64(2), object(4)\n",
      "memory usage: 31.4+ KB\n"
     ]
    }
   ],
   "source": [
    "users['reg_date'] = pd.to_datetime(users['reg_date'], format='%Y-%m-%d') \n",
    "users['churn_date'] = pd.to_datetime(users['churn_date'], format='%Y-%m-%d') \n",
    "users.info()\n",
    "#con eso se pasa reg date y churn date a modo date time\n"
   ]
  },
  {
   "cell_type": "markdown",
   "metadata": {
    "id": "o7MeKCid0q08"
   },
   "source": [
    "## Llamadas"
   ]
  },
  {
   "cell_type": "code",
   "execution_count": 10,
   "metadata": {
    "id": "6dDlnoDm0q08"
   },
   "outputs": [
    {
     "name": "stdout",
     "output_type": "stream",
     "text": [
      "<class 'pandas.core.frame.DataFrame'>\n",
      "RangeIndex: 137735 entries, 0 to 137734\n",
      "Data columns (total 4 columns):\n",
      " #   Column     Non-Null Count   Dtype  \n",
      "---  ------     --------------   -----  \n",
      " 0   id         137735 non-null  object \n",
      " 1   user_id    137735 non-null  int64  \n",
      " 2   call_date  137735 non-null  object \n",
      " 3   duration   137735 non-null  float64\n",
      "dtypes: float64(1), int64(1), object(2)\n",
      "memory usage: 4.2+ MB\n"
     ]
    }
   ],
   "source": [
    "# Imprime la información general/resumida sobre el DataFrame de las llamadas\n",
    "\n",
    "calls.info(show_counts=True)"
   ]
  },
  {
   "cell_type": "code",
   "execution_count": 11,
   "metadata": {
    "id": "kuh1vlNB0q09"
   },
   "outputs": [
    {
     "data": {
      "text/html": [
       "<div>\n",
       "<style scoped>\n",
       "    .dataframe tbody tr th:only-of-type {\n",
       "        vertical-align: middle;\n",
       "    }\n",
       "\n",
       "    .dataframe tbody tr th {\n",
       "        vertical-align: top;\n",
       "    }\n",
       "\n",
       "    .dataframe thead th {\n",
       "        text-align: right;\n",
       "    }\n",
       "</style>\n",
       "<table border=\"1\" class=\"dataframe\">\n",
       "  <thead>\n",
       "    <tr style=\"text-align: right;\">\n",
       "      <th></th>\n",
       "      <th>id</th>\n",
       "      <th>user_id</th>\n",
       "      <th>call_date</th>\n",
       "      <th>duration</th>\n",
       "    </tr>\n",
       "  </thead>\n",
       "  <tbody>\n",
       "    <tr>\n",
       "      <th>83678</th>\n",
       "      <td>1305_99</td>\n",
       "      <td>1305</td>\n",
       "      <td>2018-08-02</td>\n",
       "      <td>12.03</td>\n",
       "    </tr>\n",
       "    <tr>\n",
       "      <th>36499</th>\n",
       "      <td>1138_460</td>\n",
       "      <td>1138</td>\n",
       "      <td>2018-10-28</td>\n",
       "      <td>2.68</td>\n",
       "    </tr>\n",
       "    <tr>\n",
       "      <th>58014</th>\n",
       "      <td>1209_545</td>\n",
       "      <td>1209</td>\n",
       "      <td>2018-10-23</td>\n",
       "      <td>7.54</td>\n",
       "    </tr>\n",
       "    <tr>\n",
       "      <th>62327</th>\n",
       "      <td>1223_510</td>\n",
       "      <td>1223</td>\n",
       "      <td>2018-07-19</td>\n",
       "      <td>6.76</td>\n",
       "    </tr>\n",
       "    <tr>\n",
       "      <th>98215</th>\n",
       "      <td>1352_680</td>\n",
       "      <td>1352</td>\n",
       "      <td>2018-11-01</td>\n",
       "      <td>15.62</td>\n",
       "    </tr>\n",
       "    <tr>\n",
       "      <th>105202</th>\n",
       "      <td>1370_421</td>\n",
       "      <td>1370</td>\n",
       "      <td>2018-09-28</td>\n",
       "      <td>3.62</td>\n",
       "    </tr>\n",
       "    <tr>\n",
       "      <th>79465</th>\n",
       "      <td>1284_834</td>\n",
       "      <td>1284</td>\n",
       "      <td>2018-10-16</td>\n",
       "      <td>1.53</td>\n",
       "    </tr>\n",
       "    <tr>\n",
       "      <th>57387</th>\n",
       "      <td>1206_119</td>\n",
       "      <td>1206</td>\n",
       "      <td>2018-11-01</td>\n",
       "      <td>13.27</td>\n",
       "    </tr>\n",
       "    <tr>\n",
       "      <th>45363</th>\n",
       "      <td>1164_62</td>\n",
       "      <td>1164</td>\n",
       "      <td>2018-10-29</td>\n",
       "      <td>6.75</td>\n",
       "    </tr>\n",
       "    <tr>\n",
       "      <th>96975</th>\n",
       "      <td>1346_201</td>\n",
       "      <td>1346</td>\n",
       "      <td>2018-07-01</td>\n",
       "      <td>14.36</td>\n",
       "    </tr>\n",
       "  </tbody>\n",
       "</table>\n",
       "</div>"
      ],
      "text/plain": [
       "              id  user_id   call_date  duration\n",
       "83678    1305_99     1305  2018-08-02     12.03\n",
       "36499   1138_460     1138  2018-10-28      2.68\n",
       "58014   1209_545     1209  2018-10-23      7.54\n",
       "62327   1223_510     1223  2018-07-19      6.76\n",
       "98215   1352_680     1352  2018-11-01     15.62\n",
       "105202  1370_421     1370  2018-09-28      3.62\n",
       "79465   1284_834     1284  2018-10-16      1.53\n",
       "57387   1206_119     1206  2018-11-01     13.27\n",
       "45363    1164_62     1164  2018-10-29      6.75\n",
       "96975   1346_201     1346  2018-07-01     14.36"
      ]
     },
     "metadata": {},
     "output_type": "display_data"
    }
   ],
   "source": [
    "# Imprime una muestra de datos para las llamadas\n",
    "display(calls.sample(10))"
   ]
  },
  {
   "cell_type": "code",
   "execution_count": 12,
   "metadata": {},
   "outputs": [
    {
     "data": {
      "text/plain": [
       "0"
      ]
     },
     "metadata": {},
     "output_type": "display_data"
    },
    {
     "data": {
      "text/plain": [
       "481"
      ]
     },
     "metadata": {},
     "output_type": "display_data"
    }
   ],
   "source": [
    "#revisar duplicados en la columna donde no debe de haber que es id \n",
    "display (calls['id'].duplicated().sum()) \n",
    "#revisamos cuantos user_id tenemos esto porque tenemos 500 clientes y si hay clientes que no hacen llamadas\n",
    "#es necesario saberlo para poder considerar que habra valores NaN en futuras tablas \n",
    "display( calls['user_id'].nunique())"
   ]
  },
  {
   "cell_type": "markdown",
   "metadata": {},
   "source": [
    "No hay datos duplicados en columnas relevantes o ausentes. \n",
    "Igual que la tabla anterior hay que cambiar call_date a datetime para facilidad de operaciones. \n",
    "Asi mismo duracion de la llamada puede potencialmente causar problemas\n",
    "al estar en base 10 cuando esta como float lo cual puede complicar operaciones ya que el sistema de tiempo es base 60\n",
    "Al ser base 60 operaciones de promedios y similares no se pueden hacer de forma directa en un float porque se harian en base 10. \n",
    "Ahora dado que tenemos valores de 1.80 minutos, podriamos hacer el calculo y solo reconvertir al final.\n",
    "Para este estudio se mantendran asi los tiempos y si es necesario se actualizan. \n",
    "Hay 19 usuarios que no hicieron llamadas asi que esto se debe tomar en cuenta para cuando se compaginen las tablas"
   ]
  },
  {
   "cell_type": "markdown",
   "metadata": {
    "id": "S7hzxmbX0q0-"
   },
   "source": [
    "### Corregir los datos"
   ]
  },
  {
   "cell_type": "code",
   "execution_count": 13,
   "metadata": {
    "id": "S2r8xA4f0q0-"
   },
   "outputs": [
    {
     "data": {
      "text/html": [
       "<div>\n",
       "<style scoped>\n",
       "    .dataframe tbody tr th:only-of-type {\n",
       "        vertical-align: middle;\n",
       "    }\n",
       "\n",
       "    .dataframe tbody tr th {\n",
       "        vertical-align: top;\n",
       "    }\n",
       "\n",
       "    .dataframe thead th {\n",
       "        text-align: right;\n",
       "    }\n",
       "</style>\n",
       "<table border=\"1\" class=\"dataframe\">\n",
       "  <thead>\n",
       "    <tr style=\"text-align: right;\">\n",
       "      <th></th>\n",
       "      <th>id</th>\n",
       "      <th>user_id</th>\n",
       "      <th>call_date</th>\n",
       "      <th>duration</th>\n",
       "    </tr>\n",
       "  </thead>\n",
       "  <tbody>\n",
       "    <tr>\n",
       "      <th>94529</th>\n",
       "      <td>1336_404</td>\n",
       "      <td>1336</td>\n",
       "      <td>2018-09-15</td>\n",
       "      <td>21.55</td>\n",
       "    </tr>\n",
       "    <tr>\n",
       "      <th>27192</th>\n",
       "      <td>1102_42</td>\n",
       "      <td>1102</td>\n",
       "      <td>2018-12-10</td>\n",
       "      <td>9.71</td>\n",
       "    </tr>\n",
       "    <tr>\n",
       "      <th>131231</th>\n",
       "      <td>1472_141</td>\n",
       "      <td>1472</td>\n",
       "      <td>2018-06-28</td>\n",
       "      <td>4.31</td>\n",
       "    </tr>\n",
       "    <tr>\n",
       "      <th>5084</th>\n",
       "      <td>1022_350</td>\n",
       "      <td>1022</td>\n",
       "      <td>2018-05-30</td>\n",
       "      <td>9.40</td>\n",
       "    </tr>\n",
       "    <tr>\n",
       "      <th>33668</th>\n",
       "      <td>1126_439</td>\n",
       "      <td>1126</td>\n",
       "      <td>2018-08-13</td>\n",
       "      <td>0.00</td>\n",
       "    </tr>\n",
       "    <tr>\n",
       "      <th>57166</th>\n",
       "      <td>1203_557</td>\n",
       "      <td>1203</td>\n",
       "      <td>2018-07-07</td>\n",
       "      <td>5.25</td>\n",
       "    </tr>\n",
       "    <tr>\n",
       "      <th>26952</th>\n",
       "      <td>1101_279</td>\n",
       "      <td>1101</td>\n",
       "      <td>2018-05-12</td>\n",
       "      <td>9.38</td>\n",
       "    </tr>\n",
       "    <tr>\n",
       "      <th>115265</th>\n",
       "      <td>1404_59</td>\n",
       "      <td>1404</td>\n",
       "      <td>2018-12-01</td>\n",
       "      <td>2.51</td>\n",
       "    </tr>\n",
       "    <tr>\n",
       "      <th>128539</th>\n",
       "      <td>1461_177</td>\n",
       "      <td>1461</td>\n",
       "      <td>2018-09-23</td>\n",
       "      <td>4.69</td>\n",
       "    </tr>\n",
       "    <tr>\n",
       "      <th>119947</th>\n",
       "      <td>1417_716</td>\n",
       "      <td>1417</td>\n",
       "      <td>2018-12-09</td>\n",
       "      <td>3.03</td>\n",
       "    </tr>\n",
       "  </tbody>\n",
       "</table>\n",
       "</div>"
      ],
      "text/plain": [
       "              id  user_id  call_date  duration\n",
       "94529   1336_404     1336 2018-09-15     21.55\n",
       "27192    1102_42     1102 2018-12-10      9.71\n",
       "131231  1472_141     1472 2018-06-28      4.31\n",
       "5084    1022_350     1022 2018-05-30      9.40\n",
       "33668   1126_439     1126 2018-08-13      0.00\n",
       "57166   1203_557     1203 2018-07-07      5.25\n",
       "26952   1101_279     1101 2018-05-12      9.38\n",
       "115265   1404_59     1404 2018-12-01      2.51\n",
       "128539  1461_177     1461 2018-09-23      4.69\n",
       "119947  1417_716     1417 2018-12-09      3.03"
      ]
     },
     "metadata": {},
     "output_type": "display_data"
    }
   ],
   "source": [
    "calls['call_date'] = pd.to_datetime(calls['call_date'], format='%Y-%m-%d') \n",
    "display( calls.sample(10))"
   ]
  },
  {
   "cell_type": "markdown",
   "metadata": {
    "id": "KrMgTrlG0q0_"
   },
   "source": [
    "### Enriquecer los datos"
   ]
  },
  {
   "cell_type": "code",
   "execution_count": 14,
   "metadata": {
    "id": "iZ1avpA_0q0_"
   },
   "outputs": [],
   "source": [
    "#Dado que el analisis nos pide saber por mes, vamos a crear una columna donde tenemos por mes\n",
    "#cada llamada\n",
    "calls['mes'] = calls['call_date'].dt.month"
   ]
  },
  {
   "cell_type": "markdown",
   "metadata": {
    "id": "mOUZSi180q0_"
   },
   "source": [
    "## Mensajes"
   ]
  },
  {
   "cell_type": "code",
   "execution_count": 15,
   "metadata": {
    "id": "R-bYJpdV0q1A"
   },
   "outputs": [
    {
     "name": "stdout",
     "output_type": "stream",
     "text": [
      "<class 'pandas.core.frame.DataFrame'>\n",
      "RangeIndex: 76051 entries, 0 to 76050\n",
      "Data columns (total 3 columns):\n",
      " #   Column        Non-Null Count  Dtype \n",
      "---  ------        --------------  ----- \n",
      " 0   id            76051 non-null  object\n",
      " 1   user_id       76051 non-null  int64 \n",
      " 2   message_date  76051 non-null  object\n",
      "dtypes: int64(1), object(2)\n",
      "memory usage: 1.7+ MB\n"
     ]
    }
   ],
   "source": [
    "# Imprime la información general/resumida sobre el DataFrame de los mensajes\n",
    "\n",
    "messages.info(show_counts=True)"
   ]
  },
  {
   "cell_type": "code",
   "execution_count": 16,
   "metadata": {
    "id": "mCEl2iGE0q1A"
   },
   "outputs": [
    {
     "data": {
      "text/html": [
       "<div>\n",
       "<style scoped>\n",
       "    .dataframe tbody tr th:only-of-type {\n",
       "        vertical-align: middle;\n",
       "    }\n",
       "\n",
       "    .dataframe tbody tr th {\n",
       "        vertical-align: top;\n",
       "    }\n",
       "\n",
       "    .dataframe thead th {\n",
       "        text-align: right;\n",
       "    }\n",
       "</style>\n",
       "<table border=\"1\" class=\"dataframe\">\n",
       "  <thead>\n",
       "    <tr style=\"text-align: right;\">\n",
       "      <th></th>\n",
       "      <th>id</th>\n",
       "      <th>user_id</th>\n",
       "      <th>message_date</th>\n",
       "    </tr>\n",
       "  </thead>\n",
       "  <tbody>\n",
       "    <tr>\n",
       "      <th>35956</th>\n",
       "      <td>1236_244</td>\n",
       "      <td>1236</td>\n",
       "      <td>2018-11-03</td>\n",
       "    </tr>\n",
       "    <tr>\n",
       "      <th>55363</th>\n",
       "      <td>1348_86</td>\n",
       "      <td>1348</td>\n",
       "      <td>2018-12-10</td>\n",
       "    </tr>\n",
       "    <tr>\n",
       "      <th>14564</th>\n",
       "      <td>1099_126</td>\n",
       "      <td>1099</td>\n",
       "      <td>2018-12-30</td>\n",
       "    </tr>\n",
       "    <tr>\n",
       "      <th>61817</th>\n",
       "      <td>1385_281</td>\n",
       "      <td>1385</td>\n",
       "      <td>2018-09-17</td>\n",
       "    </tr>\n",
       "    <tr>\n",
       "      <th>250</th>\n",
       "      <td>1002_176</td>\n",
       "      <td>1002</td>\n",
       "      <td>2018-12-12</td>\n",
       "    </tr>\n",
       "    <tr>\n",
       "      <th>39495</th>\n",
       "      <td>1257_48</td>\n",
       "      <td>1257</td>\n",
       "      <td>2018-07-08</td>\n",
       "    </tr>\n",
       "    <tr>\n",
       "      <th>32560</th>\n",
       "      <td>1203_205</td>\n",
       "      <td>1203</td>\n",
       "      <td>2018-05-06</td>\n",
       "    </tr>\n",
       "    <tr>\n",
       "      <th>38004</th>\n",
       "      <td>1251_56</td>\n",
       "      <td>1251</td>\n",
       "      <td>2018-04-17</td>\n",
       "    </tr>\n",
       "    <tr>\n",
       "      <th>10235</th>\n",
       "      <td>1076_545</td>\n",
       "      <td>1076</td>\n",
       "      <td>2018-08-16</td>\n",
       "    </tr>\n",
       "    <tr>\n",
       "      <th>65492</th>\n",
       "      <td>1421_77</td>\n",
       "      <td>1421</td>\n",
       "      <td>2018-10-26</td>\n",
       "    </tr>\n",
       "  </tbody>\n",
       "</table>\n",
       "</div>"
      ],
      "text/plain": [
       "             id  user_id message_date\n",
       "35956  1236_244     1236   2018-11-03\n",
       "55363   1348_86     1348   2018-12-10\n",
       "14564  1099_126     1099   2018-12-30\n",
       "61817  1385_281     1385   2018-09-17\n",
       "250    1002_176     1002   2018-12-12\n",
       "39495   1257_48     1257   2018-07-08\n",
       "32560  1203_205     1203   2018-05-06\n",
       "38004   1251_56     1251   2018-04-17\n",
       "10235  1076_545     1076   2018-08-16\n",
       "65492   1421_77     1421   2018-10-26"
      ]
     },
     "metadata": {},
     "output_type": "display_data"
    }
   ],
   "source": [
    "# Imprime una muestra de datos para los mensajes\n",
    "display(messages.sample(10))"
   ]
  },
  {
   "cell_type": "code",
   "execution_count": 17,
   "metadata": {
    "scrolled": true
   },
   "outputs": [
    {
     "data": {
      "text/plain": [
       "0"
      ]
     },
     "metadata": {},
     "output_type": "display_data"
    },
    {
     "data": {
      "text/plain": [
       "402"
      ]
     },
     "metadata": {},
     "output_type": "display_data"
    }
   ],
   "source": [
    "#revisar duplicados en la columna donde no debe de haber que es id \n",
    "display (messages['id'].duplicated().sum()) \n",
    "#revisamos cuantos user_id tenemos esto porque tenemos 500 clientes y si hay clientes que no mandan mensajes\n",
    "#es necesario saberlo para poder considerar que habra valores NaN en futuras tablas \n",
    "display( messages['user_id'].nunique())"
   ]
  },
  {
   "cell_type": "markdown",
   "metadata": {},
   "source": [
    "No se ven datos duplicados o ausentes en los datos. \n",
    "Igualmente hay que cambiar los datos de tiempo al modo correcto. \n",
    "Hay 98 usuarios que no usan mensajes asi que esto se debe tomar en cuenta para cuando se compaginen las tablas"
   ]
  },
  {
   "cell_type": "markdown",
   "metadata": {
    "id": "Sprfak900q1B"
   },
   "source": [
    "### Corregir los datos"
   ]
  },
  {
   "cell_type": "code",
   "execution_count": 18,
   "metadata": {
    "id": "vsllvkoa0q1B"
   },
   "outputs": [],
   "source": [
    "messages['message_date'] = pd.to_datetime(messages['message_date'], format='%Y-%m-%d') "
   ]
  },
  {
   "cell_type": "markdown",
   "metadata": {
    "id": "HvLid7iD0q1B"
   },
   "source": [
    "### Enriquecer los datos"
   ]
  },
  {
   "cell_type": "code",
   "execution_count": 19,
   "metadata": {
    "id": "zYEXZac10q1C"
   },
   "outputs": [],
   "source": [
    "#Dado que el analisis nos pide saber por mes, vamos a crear una columna donde tenemos por mes\n",
    "#cada mensaje\n",
    "messages['mes'] = messages['message_date'].dt.month"
   ]
  },
  {
   "cell_type": "markdown",
   "metadata": {
    "id": "bStkaxn40q1C"
   },
   "source": [
    "## Internet"
   ]
  },
  {
   "cell_type": "code",
   "execution_count": 20,
   "metadata": {
    "id": "e-Uz5qyn0q1C"
   },
   "outputs": [
    {
     "name": "stdout",
     "output_type": "stream",
     "text": [
      "<class 'pandas.core.frame.DataFrame'>\n",
      "RangeIndex: 104825 entries, 0 to 104824\n",
      "Data columns (total 4 columns):\n",
      " #   Column        Non-Null Count   Dtype  \n",
      "---  ------        --------------   -----  \n",
      " 0   id            104825 non-null  object \n",
      " 1   user_id       104825 non-null  int64  \n",
      " 2   session_date  104825 non-null  object \n",
      " 3   mb_used       104825 non-null  float64\n",
      "dtypes: float64(1), int64(1), object(2)\n",
      "memory usage: 3.2+ MB\n"
     ]
    }
   ],
   "source": [
    "# Imprime la información general/resumida sobre el DataFrame de internet\n",
    "internet.info(show_counts=True)\n"
   ]
  },
  {
   "cell_type": "code",
   "execution_count": 21,
   "metadata": {
    "id": "9r3x_XLw0q1C"
   },
   "outputs": [
    {
     "data": {
      "text/html": [
       "<div>\n",
       "<style scoped>\n",
       "    .dataframe tbody tr th:only-of-type {\n",
       "        vertical-align: middle;\n",
       "    }\n",
       "\n",
       "    .dataframe tbody tr th {\n",
       "        vertical-align: top;\n",
       "    }\n",
       "\n",
       "    .dataframe thead th {\n",
       "        text-align: right;\n",
       "    }\n",
       "</style>\n",
       "<table border=\"1\" class=\"dataframe\">\n",
       "  <thead>\n",
       "    <tr style=\"text-align: right;\">\n",
       "      <th></th>\n",
       "      <th>id</th>\n",
       "      <th>user_id</th>\n",
       "      <th>session_date</th>\n",
       "      <th>mb_used</th>\n",
       "    </tr>\n",
       "  </thead>\n",
       "  <tbody>\n",
       "    <tr>\n",
       "      <th>24371</th>\n",
       "      <td>1112_52</td>\n",
       "      <td>1112</td>\n",
       "      <td>2018-12-23</td>\n",
       "      <td>660.36</td>\n",
       "    </tr>\n",
       "    <tr>\n",
       "      <th>101069</th>\n",
       "      <td>1478_220</td>\n",
       "      <td>1478</td>\n",
       "      <td>2018-10-03</td>\n",
       "      <td>0.00</td>\n",
       "    </tr>\n",
       "    <tr>\n",
       "      <th>86499</th>\n",
       "      <td>1402_28</td>\n",
       "      <td>1402</td>\n",
       "      <td>2018-11-11</td>\n",
       "      <td>440.35</td>\n",
       "    </tr>\n",
       "    <tr>\n",
       "      <th>4388</th>\n",
       "      <td>1027_216</td>\n",
       "      <td>1027</td>\n",
       "      <td>2018-08-03</td>\n",
       "      <td>462.32</td>\n",
       "    </tr>\n",
       "    <tr>\n",
       "      <th>25987</th>\n",
       "      <td>1121_80</td>\n",
       "      <td>1121</td>\n",
       "      <td>2018-12-26</td>\n",
       "      <td>515.69</td>\n",
       "    </tr>\n",
       "    <tr>\n",
       "      <th>40974</th>\n",
       "      <td>1185_11</td>\n",
       "      <td>1185</td>\n",
       "      <td>2018-12-15</td>\n",
       "      <td>274.77</td>\n",
       "    </tr>\n",
       "    <tr>\n",
       "      <th>89822</th>\n",
       "      <td>1414_278</td>\n",
       "      <td>1414</td>\n",
       "      <td>2018-09-10</td>\n",
       "      <td>259.31</td>\n",
       "    </tr>\n",
       "    <tr>\n",
       "      <th>22506</th>\n",
       "      <td>1103_51</td>\n",
       "      <td>1103</td>\n",
       "      <td>2018-11-13</td>\n",
       "      <td>357.75</td>\n",
       "    </tr>\n",
       "    <tr>\n",
       "      <th>42053</th>\n",
       "      <td>1187_230</td>\n",
       "      <td>1187</td>\n",
       "      <td>2018-12-24</td>\n",
       "      <td>208.65</td>\n",
       "    </tr>\n",
       "    <tr>\n",
       "      <th>92627</th>\n",
       "      <td>1433_11</td>\n",
       "      <td>1433</td>\n",
       "      <td>2018-10-27</td>\n",
       "      <td>731.89</td>\n",
       "    </tr>\n",
       "  </tbody>\n",
       "</table>\n",
       "</div>"
      ],
      "text/plain": [
       "              id  user_id session_date  mb_used\n",
       "24371    1112_52     1112   2018-12-23   660.36\n",
       "101069  1478_220     1478   2018-10-03     0.00\n",
       "86499    1402_28     1402   2018-11-11   440.35\n",
       "4388    1027_216     1027   2018-08-03   462.32\n",
       "25987    1121_80     1121   2018-12-26   515.69\n",
       "40974    1185_11     1185   2018-12-15   274.77\n",
       "89822   1414_278     1414   2018-09-10   259.31\n",
       "22506    1103_51     1103   2018-11-13   357.75\n",
       "42053   1187_230     1187   2018-12-24   208.65\n",
       "92627    1433_11     1433   2018-10-27   731.89"
      ]
     },
     "metadata": {},
     "output_type": "display_data"
    }
   ],
   "source": [
    "# Imprime una muestra de datos para el tráfico de internet\n",
    "display (internet.sample(10))\n"
   ]
  },
  {
   "cell_type": "code",
   "execution_count": 22,
   "metadata": {},
   "outputs": [
    {
     "data": {
      "text/plain": [
       "0"
      ]
     },
     "metadata": {},
     "output_type": "display_data"
    },
    {
     "data": {
      "text/plain": [
       "489"
      ]
     },
     "metadata": {},
     "output_type": "display_data"
    }
   ],
   "source": [
    "#Duplicados en ID que es el que es unico. \n",
    "display (internet['id'].duplicated().sum()) \n",
    "#revisamos cuantos user_id tenemos esto porque tenemos 500 clientes y si hay clientes que no usan internet\n",
    "#es necesario saberlo para poder considerar que habra valores NaN en futuras tablas \n",
    "display( internet['user_id'].nunique())"
   ]
  },
  {
   "cell_type": "markdown",
   "metadata": {},
   "source": [
    "No hay datos duplicados o ausentes. \n",
    "Igualmente hay que actualizar los datos de tiempo a formato tiempo.\n",
    "Hay 11 usuarios que no usan internet asi que esto se debe tomar en cuenta para cuando se compaginen las tablas\n"
   ]
  },
  {
   "cell_type": "markdown",
   "metadata": {
    "id": "yA0tkPFg0q1D"
   },
   "source": [
    "### Corregir los datos"
   ]
  },
  {
   "cell_type": "code",
   "execution_count": 23,
   "metadata": {
    "id": "zVeanzdd0q1E"
   },
   "outputs": [
    {
     "name": "stdout",
     "output_type": "stream",
     "text": [
      "<class 'pandas.core.frame.DataFrame'>\n",
      "RangeIndex: 104825 entries, 0 to 104824\n",
      "Data columns (total 4 columns):\n",
      " #   Column        Non-Null Count   Dtype         \n",
      "---  ------        --------------   -----         \n",
      " 0   id            104825 non-null  object        \n",
      " 1   user_id       104825 non-null  int64         \n",
      " 2   session_date  104825 non-null  datetime64[ns]\n",
      " 3   mb_used       104825 non-null  float64       \n",
      "dtypes: datetime64[ns](1), float64(1), int64(1), object(1)\n",
      "memory usage: 3.2+ MB\n"
     ]
    }
   ],
   "source": [
    "internet['session_date'] = pd.to_datetime(internet['session_date'], format='%Y-%m-%d') \n",
    "internet.info()"
   ]
  },
  {
   "cell_type": "markdown",
   "metadata": {
    "id": "e8_mLF4a0q1E"
   },
   "source": [
    "### Enriquecer los datos"
   ]
  },
  {
   "cell_type": "code",
   "execution_count": 24,
   "metadata": {
    "id": "ESiYPIEK0q1E"
   },
   "outputs": [],
   "source": [
    "#Dado que el analisis nos pide saber por mes, vamos a crear una columna donde tenemos por mes\n",
    "#cada sesion, posteriormente se puede agrupar si es necesario \n",
    "internet['mes'] = internet['session_date'].dt.month\n"
   ]
  },
  {
   "cell_type": "markdown",
   "metadata": {
    "id": "3UA2cqIW0q1E"
   },
   "source": [
    "## Estudiar las condiciones de las tarifas"
   ]
  },
  {
   "cell_type": "code",
   "execution_count": 25,
   "metadata": {
    "id": "i409op8p0q1F"
   },
   "outputs": [
    {
     "data": {
      "text/html": [
       "<div>\n",
       "<style scoped>\n",
       "    .dataframe tbody tr th:only-of-type {\n",
       "        vertical-align: middle;\n",
       "    }\n",
       "\n",
       "    .dataframe tbody tr th {\n",
       "        vertical-align: top;\n",
       "    }\n",
       "\n",
       "    .dataframe thead th {\n",
       "        text-align: right;\n",
       "    }\n",
       "</style>\n",
       "<table border=\"1\" class=\"dataframe\">\n",
       "  <thead>\n",
       "    <tr style=\"text-align: right;\">\n",
       "      <th></th>\n",
       "      <th>messages_included</th>\n",
       "      <th>mb_per_month_included</th>\n",
       "      <th>minutes_included</th>\n",
       "      <th>usd_monthly_pay</th>\n",
       "      <th>usd_per_gb</th>\n",
       "      <th>usd_per_message</th>\n",
       "      <th>usd_per_minute</th>\n",
       "      <th>plan_name</th>\n",
       "    </tr>\n",
       "  </thead>\n",
       "  <tbody>\n",
       "    <tr>\n",
       "      <th>0</th>\n",
       "      <td>50</td>\n",
       "      <td>15360</td>\n",
       "      <td>500</td>\n",
       "      <td>20</td>\n",
       "      <td>10</td>\n",
       "      <td>0.03</td>\n",
       "      <td>0.03</td>\n",
       "      <td>surf</td>\n",
       "    </tr>\n",
       "    <tr>\n",
       "      <th>1</th>\n",
       "      <td>1000</td>\n",
       "      <td>30720</td>\n",
       "      <td>3000</td>\n",
       "      <td>70</td>\n",
       "      <td>7</td>\n",
       "      <td>0.01</td>\n",
       "      <td>0.01</td>\n",
       "      <td>ultimate</td>\n",
       "    </tr>\n",
       "  </tbody>\n",
       "</table>\n",
       "</div>"
      ],
      "text/plain": [
       "   messages_included  mb_per_month_included  minutes_included  \\\n",
       "0                 50                  15360               500   \n",
       "1               1000                  30720              3000   \n",
       "\n",
       "   usd_monthly_pay  usd_per_gb  usd_per_message  usd_per_minute plan_name  \n",
       "0               20          10             0.03            0.03      surf  \n",
       "1               70           7             0.01            0.01  ultimate  "
      ]
     },
     "metadata": {},
     "output_type": "display_data"
    }
   ],
   "source": [
    "# Imprime las condiciones de la tarifa y asegúrate de que te quedan claras\n",
    "display (plans)"
   ]
  },
  {
   "cell_type": "code",
   "execution_count": 26,
   "metadata": {
    "id": "A332cedB0q1G"
   },
   "outputs": [
    {
     "data": {
      "text/html": [
       "<div>\n",
       "<style scoped>\n",
       "    .dataframe tbody tr th:only-of-type {\n",
       "        vertical-align: middle;\n",
       "    }\n",
       "\n",
       "    .dataframe tbody tr th {\n",
       "        vertical-align: top;\n",
       "    }\n",
       "\n",
       "    .dataframe thead th {\n",
       "        text-align: right;\n",
       "    }\n",
       "</style>\n",
       "<table border=\"1\" class=\"dataframe\">\n",
       "  <thead>\n",
       "    <tr style=\"text-align: right;\">\n",
       "      <th></th>\n",
       "      <th>user_id</th>\n",
       "      <th>mes</th>\n",
       "      <th>N_de_llamadas_mes</th>\n",
       "    </tr>\n",
       "  </thead>\n",
       "  <tbody>\n",
       "    <tr>\n",
       "      <th>0</th>\n",
       "      <td>1000</td>\n",
       "      <td>12</td>\n",
       "      <td>16</td>\n",
       "    </tr>\n",
       "    <tr>\n",
       "      <th>1</th>\n",
       "      <td>1001</td>\n",
       "      <td>8</td>\n",
       "      <td>27</td>\n",
       "    </tr>\n",
       "    <tr>\n",
       "      <th>2</th>\n",
       "      <td>1001</td>\n",
       "      <td>9</td>\n",
       "      <td>49</td>\n",
       "    </tr>\n",
       "    <tr>\n",
       "      <th>3</th>\n",
       "      <td>1001</td>\n",
       "      <td>10</td>\n",
       "      <td>65</td>\n",
       "    </tr>\n",
       "    <tr>\n",
       "      <th>4</th>\n",
       "      <td>1001</td>\n",
       "      <td>11</td>\n",
       "      <td>64</td>\n",
       "    </tr>\n",
       "    <tr>\n",
       "      <th>...</th>\n",
       "      <td>...</td>\n",
       "      <td>...</td>\n",
       "      <td>...</td>\n",
       "    </tr>\n",
       "    <tr>\n",
       "      <th>2253</th>\n",
       "      <td>1498</td>\n",
       "      <td>12</td>\n",
       "      <td>39</td>\n",
       "    </tr>\n",
       "    <tr>\n",
       "      <th>2254</th>\n",
       "      <td>1499</td>\n",
       "      <td>9</td>\n",
       "      <td>41</td>\n",
       "    </tr>\n",
       "    <tr>\n",
       "      <th>2255</th>\n",
       "      <td>1499</td>\n",
       "      <td>10</td>\n",
       "      <td>53</td>\n",
       "    </tr>\n",
       "    <tr>\n",
       "      <th>2256</th>\n",
       "      <td>1499</td>\n",
       "      <td>11</td>\n",
       "      <td>45</td>\n",
       "    </tr>\n",
       "    <tr>\n",
       "      <th>2257</th>\n",
       "      <td>1499</td>\n",
       "      <td>12</td>\n",
       "      <td>65</td>\n",
       "    </tr>\n",
       "  </tbody>\n",
       "</table>\n",
       "<p>2258 rows × 3 columns</p>\n",
       "</div>"
      ],
      "text/plain": [
       "      user_id  mes  N_de_llamadas_mes\n",
       "0        1000   12                 16\n",
       "1        1001    8                 27\n",
       "2        1001    9                 49\n",
       "3        1001   10                 65\n",
       "4        1001   11                 64\n",
       "...       ...  ...                ...\n",
       "2253     1498   12                 39\n",
       "2254     1499    9                 41\n",
       "2255     1499   10                 53\n",
       "2256     1499   11                 45\n",
       "2257     1499   12                 65\n",
       "\n",
       "[2258 rows x 3 columns]"
      ]
     },
     "metadata": {},
     "output_type": "display_data"
    }
   ],
   "source": [
    "# Calcula el número de llamadas hechas por cada usuario al mes. Guarda el resultado. \n",
    "#se agrupan por user id y por mes la columna de id porque estamos contando numero de llamads\n",
    "llamadasPorUsuario = calls.groupby (['user_id','mes'])['id'].count().reset_index(name='N_de_llamadas_mes')\n",
    "display ( llamadasPorUsuario)"
   ]
  },
  {
   "cell_type": "code",
   "execution_count": 27,
   "metadata": {
    "id": "aw2cmuql0q1G"
   },
   "outputs": [
    {
     "data": {
      "text/html": [
       "<div>\n",
       "<style scoped>\n",
       "    .dataframe tbody tr th:only-of-type {\n",
       "        vertical-align: middle;\n",
       "    }\n",
       "\n",
       "    .dataframe tbody tr th {\n",
       "        vertical-align: top;\n",
       "    }\n",
       "\n",
       "    .dataframe thead th {\n",
       "        text-align: right;\n",
       "    }\n",
       "</style>\n",
       "<table border=\"1\" class=\"dataframe\">\n",
       "  <thead>\n",
       "    <tr style=\"text-align: right;\">\n",
       "      <th></th>\n",
       "      <th>user_id</th>\n",
       "      <th>mes</th>\n",
       "      <th>Minutos_mes</th>\n",
       "    </tr>\n",
       "  </thead>\n",
       "  <tbody>\n",
       "    <tr>\n",
       "      <th>0</th>\n",
       "      <td>1000</td>\n",
       "      <td>12</td>\n",
       "      <td>116.83</td>\n",
       "    </tr>\n",
       "    <tr>\n",
       "      <th>1</th>\n",
       "      <td>1001</td>\n",
       "      <td>8</td>\n",
       "      <td>171.14</td>\n",
       "    </tr>\n",
       "    <tr>\n",
       "      <th>2</th>\n",
       "      <td>1001</td>\n",
       "      <td>9</td>\n",
       "      <td>297.69</td>\n",
       "    </tr>\n",
       "    <tr>\n",
       "      <th>3</th>\n",
       "      <td>1001</td>\n",
       "      <td>10</td>\n",
       "      <td>374.11</td>\n",
       "    </tr>\n",
       "    <tr>\n",
       "      <th>4</th>\n",
       "      <td>1001</td>\n",
       "      <td>11</td>\n",
       "      <td>404.59</td>\n",
       "    </tr>\n",
       "    <tr>\n",
       "      <th>...</th>\n",
       "      <td>...</td>\n",
       "      <td>...</td>\n",
       "      <td>...</td>\n",
       "    </tr>\n",
       "    <tr>\n",
       "      <th>2253</th>\n",
       "      <td>1498</td>\n",
       "      <td>12</td>\n",
       "      <td>324.77</td>\n",
       "    </tr>\n",
       "    <tr>\n",
       "      <th>2254</th>\n",
       "      <td>1499</td>\n",
       "      <td>9</td>\n",
       "      <td>330.37</td>\n",
       "    </tr>\n",
       "    <tr>\n",
       "      <th>2255</th>\n",
       "      <td>1499</td>\n",
       "      <td>10</td>\n",
       "      <td>363.28</td>\n",
       "    </tr>\n",
       "    <tr>\n",
       "      <th>2256</th>\n",
       "      <td>1499</td>\n",
       "      <td>11</td>\n",
       "      <td>288.56</td>\n",
       "    </tr>\n",
       "    <tr>\n",
       "      <th>2257</th>\n",
       "      <td>1499</td>\n",
       "      <td>12</td>\n",
       "      <td>468.10</td>\n",
       "    </tr>\n",
       "  </tbody>\n",
       "</table>\n",
       "<p>2258 rows × 3 columns</p>\n",
       "</div>"
      ],
      "text/plain": [
       "      user_id  mes  Minutos_mes\n",
       "0        1000   12       116.83\n",
       "1        1001    8       171.14\n",
       "2        1001    9       297.69\n",
       "3        1001   10       374.11\n",
       "4        1001   11       404.59\n",
       "...       ...  ...          ...\n",
       "2253     1498   12       324.77\n",
       "2254     1499    9       330.37\n",
       "2255     1499   10       363.28\n",
       "2256     1499   11       288.56\n",
       "2257     1499   12       468.10\n",
       "\n",
       "[2258 rows x 3 columns]"
      ]
     },
     "metadata": {},
     "output_type": "display_data"
    }
   ],
   "source": [
    "# Calcula la cantidad de minutos usados por cada usuario al mes. Guarda el resultado.\n",
    "#aqui agrupamos igual pero usamos la suma de la columna duracion. \n",
    "minutosPorUsuario = calls.groupby (['user_id','mes'])['duration'].sum().reset_index(name='Minutos_mes')\n",
    "display ( minutosPorUsuario)\n"
   ]
  },
  {
   "cell_type": "code",
   "execution_count": 28,
   "metadata": {
    "id": "CcQvNHn60q1G"
   },
   "outputs": [
    {
     "data": {
      "text/html": [
       "<div>\n",
       "<style scoped>\n",
       "    .dataframe tbody tr th:only-of-type {\n",
       "        vertical-align: middle;\n",
       "    }\n",
       "\n",
       "    .dataframe tbody tr th {\n",
       "        vertical-align: top;\n",
       "    }\n",
       "\n",
       "    .dataframe thead th {\n",
       "        text-align: right;\n",
       "    }\n",
       "</style>\n",
       "<table border=\"1\" class=\"dataframe\">\n",
       "  <thead>\n",
       "    <tr style=\"text-align: right;\">\n",
       "      <th></th>\n",
       "      <th>user_id</th>\n",
       "      <th>mes</th>\n",
       "      <th>N_de_mensajes_mes</th>\n",
       "    </tr>\n",
       "  </thead>\n",
       "  <tbody>\n",
       "    <tr>\n",
       "      <th>0</th>\n",
       "      <td>1000</td>\n",
       "      <td>12</td>\n",
       "      <td>11</td>\n",
       "    </tr>\n",
       "    <tr>\n",
       "      <th>1</th>\n",
       "      <td>1001</td>\n",
       "      <td>8</td>\n",
       "      <td>30</td>\n",
       "    </tr>\n",
       "    <tr>\n",
       "      <th>2</th>\n",
       "      <td>1001</td>\n",
       "      <td>9</td>\n",
       "      <td>44</td>\n",
       "    </tr>\n",
       "    <tr>\n",
       "      <th>3</th>\n",
       "      <td>1001</td>\n",
       "      <td>10</td>\n",
       "      <td>53</td>\n",
       "    </tr>\n",
       "    <tr>\n",
       "      <th>4</th>\n",
       "      <td>1001</td>\n",
       "      <td>11</td>\n",
       "      <td>36</td>\n",
       "    </tr>\n",
       "    <tr>\n",
       "      <th>...</th>\n",
       "      <td>...</td>\n",
       "      <td>...</td>\n",
       "      <td>...</td>\n",
       "    </tr>\n",
       "    <tr>\n",
       "      <th>1801</th>\n",
       "      <td>1496</td>\n",
       "      <td>9</td>\n",
       "      <td>21</td>\n",
       "    </tr>\n",
       "    <tr>\n",
       "      <th>1802</th>\n",
       "      <td>1496</td>\n",
       "      <td>10</td>\n",
       "      <td>18</td>\n",
       "    </tr>\n",
       "    <tr>\n",
       "      <th>1803</th>\n",
       "      <td>1496</td>\n",
       "      <td>11</td>\n",
       "      <td>13</td>\n",
       "    </tr>\n",
       "    <tr>\n",
       "      <th>1804</th>\n",
       "      <td>1496</td>\n",
       "      <td>12</td>\n",
       "      <td>11</td>\n",
       "    </tr>\n",
       "    <tr>\n",
       "      <th>1805</th>\n",
       "      <td>1497</td>\n",
       "      <td>12</td>\n",
       "      <td>50</td>\n",
       "    </tr>\n",
       "  </tbody>\n",
       "</table>\n",
       "<p>1806 rows × 3 columns</p>\n",
       "</div>"
      ],
      "text/plain": [
       "      user_id  mes  N_de_mensajes_mes\n",
       "0        1000   12                 11\n",
       "1        1001    8                 30\n",
       "2        1001    9                 44\n",
       "3        1001   10                 53\n",
       "4        1001   11                 36\n",
       "...       ...  ...                ...\n",
       "1801     1496    9                 21\n",
       "1802     1496   10                 18\n",
       "1803     1496   11                 13\n",
       "1804     1496   12                 11\n",
       "1805     1497   12                 50\n",
       "\n",
       "[1806 rows x 3 columns]"
      ]
     },
     "metadata": {},
     "output_type": "display_data"
    }
   ],
   "source": [
    "# Calcula el número de mensajes enviados por cada usuario al mes. Guarda el resultado.\n",
    "# se usa el mismo proceso que llamadas\n",
    "MensajesPorUsuario = messages.groupby (['user_id','mes'])['id'].count().reset_index(name='N_de_mensajes_mes')\n",
    "display ( MensajesPorUsuario)\n"
   ]
  },
  {
   "cell_type": "code",
   "execution_count": 29,
   "metadata": {
    "id": "H1AqN2eG0q1H"
   },
   "outputs": [
    {
     "data": {
      "text/html": [
       "<div>\n",
       "<style scoped>\n",
       "    .dataframe tbody tr th:only-of-type {\n",
       "        vertical-align: middle;\n",
       "    }\n",
       "\n",
       "    .dataframe tbody tr th {\n",
       "        vertical-align: top;\n",
       "    }\n",
       "\n",
       "    .dataframe thead th {\n",
       "        text-align: right;\n",
       "    }\n",
       "</style>\n",
       "<table border=\"1\" class=\"dataframe\">\n",
       "  <thead>\n",
       "    <tr style=\"text-align: right;\">\n",
       "      <th></th>\n",
       "      <th>user_id</th>\n",
       "      <th>mes</th>\n",
       "      <th>MB_mes</th>\n",
       "    </tr>\n",
       "  </thead>\n",
       "  <tbody>\n",
       "    <tr>\n",
       "      <th>0</th>\n",
       "      <td>1000</td>\n",
       "      <td>12</td>\n",
       "      <td>1901.47</td>\n",
       "    </tr>\n",
       "    <tr>\n",
       "      <th>1</th>\n",
       "      <td>1001</td>\n",
       "      <td>8</td>\n",
       "      <td>6919.15</td>\n",
       "    </tr>\n",
       "    <tr>\n",
       "      <th>2</th>\n",
       "      <td>1001</td>\n",
       "      <td>9</td>\n",
       "      <td>13314.82</td>\n",
       "    </tr>\n",
       "    <tr>\n",
       "      <th>3</th>\n",
       "      <td>1001</td>\n",
       "      <td>10</td>\n",
       "      <td>22330.49</td>\n",
       "    </tr>\n",
       "    <tr>\n",
       "      <th>4</th>\n",
       "      <td>1001</td>\n",
       "      <td>11</td>\n",
       "      <td>18504.30</td>\n",
       "    </tr>\n",
       "    <tr>\n",
       "      <th>...</th>\n",
       "      <td>...</td>\n",
       "      <td>...</td>\n",
       "      <td>...</td>\n",
       "    </tr>\n",
       "    <tr>\n",
       "      <th>2272</th>\n",
       "      <td>1498</td>\n",
       "      <td>12</td>\n",
       "      <td>23137.69</td>\n",
       "    </tr>\n",
       "    <tr>\n",
       "      <th>2273</th>\n",
       "      <td>1499</td>\n",
       "      <td>9</td>\n",
       "      <td>12984.76</td>\n",
       "    </tr>\n",
       "    <tr>\n",
       "      <th>2274</th>\n",
       "      <td>1499</td>\n",
       "      <td>10</td>\n",
       "      <td>19492.43</td>\n",
       "    </tr>\n",
       "    <tr>\n",
       "      <th>2275</th>\n",
       "      <td>1499</td>\n",
       "      <td>11</td>\n",
       "      <td>16813.83</td>\n",
       "    </tr>\n",
       "    <tr>\n",
       "      <th>2276</th>\n",
       "      <td>1499</td>\n",
       "      <td>12</td>\n",
       "      <td>22059.21</td>\n",
       "    </tr>\n",
       "  </tbody>\n",
       "</table>\n",
       "<p>2277 rows × 3 columns</p>\n",
       "</div>"
      ],
      "text/plain": [
       "      user_id  mes    MB_mes\n",
       "0        1000   12   1901.47\n",
       "1        1001    8   6919.15\n",
       "2        1001    9  13314.82\n",
       "3        1001   10  22330.49\n",
       "4        1001   11  18504.30\n",
       "...       ...  ...       ...\n",
       "2272     1498   12  23137.69\n",
       "2273     1499    9  12984.76\n",
       "2274     1499   10  19492.43\n",
       "2275     1499   11  16813.83\n",
       "2276     1499   12  22059.21\n",
       "\n",
       "[2277 rows x 3 columns]"
      ]
     },
     "metadata": {},
     "output_type": "display_data"
    }
   ],
   "source": [
    "# Calcula el volumen del tráfico de Internet usado por cada usuario al mes. Guarda el resultado.\n",
    "#Se usa el mismo proceso que con los minutos ya que nos interesa el total de uso de internet. \n",
    "MBporUsuario = internet.groupby (['user_id','mes'])['mb_used'].sum().reset_index(name='MB_mes')\n",
    "display ( MBporUsuario) \n"
   ]
  },
  {
   "cell_type": "code",
   "execution_count": 30,
   "metadata": {
    "id": "FW99ykyf0q1H"
   },
   "outputs": [
    {
     "data": {
      "text/html": [
       "<div>\n",
       "<style scoped>\n",
       "    .dataframe tbody tr th:only-of-type {\n",
       "        vertical-align: middle;\n",
       "    }\n",
       "\n",
       "    .dataframe tbody tr th {\n",
       "        vertical-align: top;\n",
       "    }\n",
       "\n",
       "    .dataframe thead th {\n",
       "        text-align: right;\n",
       "    }\n",
       "</style>\n",
       "<table border=\"1\" class=\"dataframe\">\n",
       "  <thead>\n",
       "    <tr style=\"text-align: right;\">\n",
       "      <th></th>\n",
       "      <th>user_id</th>\n",
       "      <th>mes</th>\n",
       "      <th>N_de_llamadas_mes</th>\n",
       "      <th>Minutos_mes</th>\n",
       "      <th>N_de_mensajes_mes</th>\n",
       "      <th>MB_mes</th>\n",
       "    </tr>\n",
       "  </thead>\n",
       "  <tbody>\n",
       "    <tr>\n",
       "      <th>0</th>\n",
       "      <td>1000</td>\n",
       "      <td>12</td>\n",
       "      <td>16.0</td>\n",
       "      <td>116.83</td>\n",
       "      <td>11.0</td>\n",
       "      <td>1901.47</td>\n",
       "    </tr>\n",
       "    <tr>\n",
       "      <th>1</th>\n",
       "      <td>1001</td>\n",
       "      <td>8</td>\n",
       "      <td>27.0</td>\n",
       "      <td>171.14</td>\n",
       "      <td>30.0</td>\n",
       "      <td>6919.15</td>\n",
       "    </tr>\n",
       "    <tr>\n",
       "      <th>2</th>\n",
       "      <td>1001</td>\n",
       "      <td>9</td>\n",
       "      <td>49.0</td>\n",
       "      <td>297.69</td>\n",
       "      <td>44.0</td>\n",
       "      <td>13314.82</td>\n",
       "    </tr>\n",
       "    <tr>\n",
       "      <th>3</th>\n",
       "      <td>1001</td>\n",
       "      <td>10</td>\n",
       "      <td>65.0</td>\n",
       "      <td>374.11</td>\n",
       "      <td>53.0</td>\n",
       "      <td>22330.49</td>\n",
       "    </tr>\n",
       "    <tr>\n",
       "      <th>4</th>\n",
       "      <td>1001</td>\n",
       "      <td>11</td>\n",
       "      <td>64.0</td>\n",
       "      <td>404.59</td>\n",
       "      <td>36.0</td>\n",
       "      <td>18504.30</td>\n",
       "    </tr>\n",
       "    <tr>\n",
       "      <th>...</th>\n",
       "      <td>...</td>\n",
       "      <td>...</td>\n",
       "      <td>...</td>\n",
       "      <td>...</td>\n",
       "      <td>...</td>\n",
       "      <td>...</td>\n",
       "    </tr>\n",
       "    <tr>\n",
       "      <th>2288</th>\n",
       "      <td>1349</td>\n",
       "      <td>12</td>\n",
       "      <td>NaN</td>\n",
       "      <td>NaN</td>\n",
       "      <td>61.0</td>\n",
       "      <td>13039.91</td>\n",
       "    </tr>\n",
       "    <tr>\n",
       "      <th>2289</th>\n",
       "      <td>1361</td>\n",
       "      <td>5</td>\n",
       "      <td>NaN</td>\n",
       "      <td>NaN</td>\n",
       "      <td>2.0</td>\n",
       "      <td>1519.69</td>\n",
       "    </tr>\n",
       "    <tr>\n",
       "      <th>2290</th>\n",
       "      <td>1482</td>\n",
       "      <td>10</td>\n",
       "      <td>NaN</td>\n",
       "      <td>NaN</td>\n",
       "      <td>2.0</td>\n",
       "      <td>NaN</td>\n",
       "    </tr>\n",
       "    <tr>\n",
       "      <th>2291</th>\n",
       "      <td>1108</td>\n",
       "      <td>12</td>\n",
       "      <td>NaN</td>\n",
       "      <td>NaN</td>\n",
       "      <td>NaN</td>\n",
       "      <td>233.17</td>\n",
       "    </tr>\n",
       "    <tr>\n",
       "      <th>2292</th>\n",
       "      <td>1311</td>\n",
       "      <td>6</td>\n",
       "      <td>NaN</td>\n",
       "      <td>NaN</td>\n",
       "      <td>NaN</td>\n",
       "      <td>1498.83</td>\n",
       "    </tr>\n",
       "  </tbody>\n",
       "</table>\n",
       "<p>2293 rows × 6 columns</p>\n",
       "</div>"
      ],
      "text/plain": [
       "      user_id  mes  N_de_llamadas_mes  Minutos_mes  N_de_mensajes_mes  \\\n",
       "0        1000   12               16.0       116.83               11.0   \n",
       "1        1001    8               27.0       171.14               30.0   \n",
       "2        1001    9               49.0       297.69               44.0   \n",
       "3        1001   10               65.0       374.11               53.0   \n",
       "4        1001   11               64.0       404.59               36.0   \n",
       "...       ...  ...                ...          ...                ...   \n",
       "2288     1349   12                NaN          NaN               61.0   \n",
       "2289     1361    5                NaN          NaN                2.0   \n",
       "2290     1482   10                NaN          NaN                2.0   \n",
       "2291     1108   12                NaN          NaN                NaN   \n",
       "2292     1311    6                NaN          NaN                NaN   \n",
       "\n",
       "        MB_mes  \n",
       "0      1901.47  \n",
       "1      6919.15  \n",
       "2     13314.82  \n",
       "3     22330.49  \n",
       "4     18504.30  \n",
       "...        ...  \n",
       "2288  13039.91  \n",
       "2289   1519.69  \n",
       "2290       NaN  \n",
       "2291    233.17  \n",
       "2292   1498.83  \n",
       "\n",
       "[2293 rows x 6 columns]"
      ]
     },
     "metadata": {},
     "output_type": "display_data"
    }
   ],
   "source": [
    "# Fusiona los datos de llamadas, minutos, mensajes e Internet con base en user_id y month\n",
    "# se va a hacer un merge usando user_id y mes \n",
    "\n",
    "ConsumoTotalUsuario = pd.merge(llamadasPorUsuario,minutosPorUsuario, on=['user_id','mes'], how = 'outer')\n",
    "ConsumoTotalUsuario = pd.merge(ConsumoTotalUsuario,MensajesPorUsuario, on=['user_id','mes'], how = 'outer')\n",
    "ConsumoTotalUsuario = pd.merge(ConsumoTotalUsuario,MBporUsuario, on=['user_id','mes'], how = 'outer')\n",
    "#como en este caso nos va a dar muchos NaN en los usuarios que no tengan llamadas,mensjes, o uso de internet\n",
    "#Estos NaN se pueden dejar ya que las funciones estadisticas o de suma no los consideran en los calculos asi que no van a sesgar los datos\n",
    "#como si pasaria si los cambiamos por 0 \n",
    "\n",
    "display (ConsumoTotalUsuario )\n",
    "#2293 filas "
   ]
  },
  {
   "cell_type": "code",
   "execution_count": 31,
   "metadata": {
    "id": "0dNOXHag0q1H"
   },
   "outputs": [],
   "source": [
    "# Añade la información de la tarifa\n",
    "PlanDeCadaUsuario = users[['user_id','plan']] #extraemos solo esas dos columnas para evitar errores \n",
    "ConsumoTotalUsuario = pd.merge(ConsumoTotalUsuario,PlanDeCadaUsuario, on=['user_id'], how = 'left') "
   ]
  },
  {
   "cell_type": "code",
   "execution_count": 32,
   "metadata": {},
   "outputs": [
    {
     "data": {
      "text/html": [
       "<div>\n",
       "<style scoped>\n",
       "    .dataframe tbody tr th:only-of-type {\n",
       "        vertical-align: middle;\n",
       "    }\n",
       "\n",
       "    .dataframe tbody tr th {\n",
       "        vertical-align: top;\n",
       "    }\n",
       "\n",
       "    .dataframe thead th {\n",
       "        text-align: right;\n",
       "    }\n",
       "</style>\n",
       "<table border=\"1\" class=\"dataframe\">\n",
       "  <thead>\n",
       "    <tr style=\"text-align: right;\">\n",
       "      <th></th>\n",
       "      <th>user_id</th>\n",
       "      <th>mes</th>\n",
       "      <th>N_de_llamadas_mes</th>\n",
       "      <th>Minutos_mes</th>\n",
       "      <th>N_de_mensajes_mes</th>\n",
       "      <th>MB_mes</th>\n",
       "      <th>plan</th>\n",
       "      <th>CodigoPlan</th>\n",
       "    </tr>\n",
       "  </thead>\n",
       "  <tbody>\n",
       "    <tr>\n",
       "      <th>0</th>\n",
       "      <td>1000</td>\n",
       "      <td>12</td>\n",
       "      <td>16.0</td>\n",
       "      <td>116.83</td>\n",
       "      <td>11.0</td>\n",
       "      <td>1901.47</td>\n",
       "      <td>ultimate</td>\n",
       "      <td>1</td>\n",
       "    </tr>\n",
       "    <tr>\n",
       "      <th>1</th>\n",
       "      <td>1001</td>\n",
       "      <td>8</td>\n",
       "      <td>27.0</td>\n",
       "      <td>171.14</td>\n",
       "      <td>30.0</td>\n",
       "      <td>6919.15</td>\n",
       "      <td>surf</td>\n",
       "      <td>0</td>\n",
       "    </tr>\n",
       "    <tr>\n",
       "      <th>2</th>\n",
       "      <td>1001</td>\n",
       "      <td>9</td>\n",
       "      <td>49.0</td>\n",
       "      <td>297.69</td>\n",
       "      <td>44.0</td>\n",
       "      <td>13314.82</td>\n",
       "      <td>surf</td>\n",
       "      <td>0</td>\n",
       "    </tr>\n",
       "    <tr>\n",
       "      <th>3</th>\n",
       "      <td>1001</td>\n",
       "      <td>10</td>\n",
       "      <td>65.0</td>\n",
       "      <td>374.11</td>\n",
       "      <td>53.0</td>\n",
       "      <td>22330.49</td>\n",
       "      <td>surf</td>\n",
       "      <td>0</td>\n",
       "    </tr>\n",
       "    <tr>\n",
       "      <th>4</th>\n",
       "      <td>1001</td>\n",
       "      <td>11</td>\n",
       "      <td>64.0</td>\n",
       "      <td>404.59</td>\n",
       "      <td>36.0</td>\n",
       "      <td>18504.30</td>\n",
       "      <td>surf</td>\n",
       "      <td>0</td>\n",
       "    </tr>\n",
       "    <tr>\n",
       "      <th>...</th>\n",
       "      <td>...</td>\n",
       "      <td>...</td>\n",
       "      <td>...</td>\n",
       "      <td>...</td>\n",
       "      <td>...</td>\n",
       "      <td>...</td>\n",
       "      <td>...</td>\n",
       "      <td>...</td>\n",
       "    </tr>\n",
       "    <tr>\n",
       "      <th>2288</th>\n",
       "      <td>1349</td>\n",
       "      <td>12</td>\n",
       "      <td>NaN</td>\n",
       "      <td>NaN</td>\n",
       "      <td>61.0</td>\n",
       "      <td>13039.91</td>\n",
       "      <td>surf</td>\n",
       "      <td>0</td>\n",
       "    </tr>\n",
       "    <tr>\n",
       "      <th>2289</th>\n",
       "      <td>1361</td>\n",
       "      <td>5</td>\n",
       "      <td>NaN</td>\n",
       "      <td>NaN</td>\n",
       "      <td>2.0</td>\n",
       "      <td>1519.69</td>\n",
       "      <td>surf</td>\n",
       "      <td>0</td>\n",
       "    </tr>\n",
       "    <tr>\n",
       "      <th>2290</th>\n",
       "      <td>1482</td>\n",
       "      <td>10</td>\n",
       "      <td>NaN</td>\n",
       "      <td>NaN</td>\n",
       "      <td>2.0</td>\n",
       "      <td>NaN</td>\n",
       "      <td>ultimate</td>\n",
       "      <td>1</td>\n",
       "    </tr>\n",
       "    <tr>\n",
       "      <th>2291</th>\n",
       "      <td>1108</td>\n",
       "      <td>12</td>\n",
       "      <td>NaN</td>\n",
       "      <td>NaN</td>\n",
       "      <td>NaN</td>\n",
       "      <td>233.17</td>\n",
       "      <td>ultimate</td>\n",
       "      <td>1</td>\n",
       "    </tr>\n",
       "    <tr>\n",
       "      <th>2292</th>\n",
       "      <td>1311</td>\n",
       "      <td>6</td>\n",
       "      <td>NaN</td>\n",
       "      <td>NaN</td>\n",
       "      <td>NaN</td>\n",
       "      <td>1498.83</td>\n",
       "      <td>ultimate</td>\n",
       "      <td>1</td>\n",
       "    </tr>\n",
       "  </tbody>\n",
       "</table>\n",
       "<p>2293 rows × 8 columns</p>\n",
       "</div>"
      ],
      "text/plain": [
       "      user_id  mes  N_de_llamadas_mes  Minutos_mes  N_de_mensajes_mes  \\\n",
       "0        1000   12               16.0       116.83               11.0   \n",
       "1        1001    8               27.0       171.14               30.0   \n",
       "2        1001    9               49.0       297.69               44.0   \n",
       "3        1001   10               65.0       374.11               53.0   \n",
       "4        1001   11               64.0       404.59               36.0   \n",
       "...       ...  ...                ...          ...                ...   \n",
       "2288     1349   12                NaN          NaN               61.0   \n",
       "2289     1361    5                NaN          NaN                2.0   \n",
       "2290     1482   10                NaN          NaN                2.0   \n",
       "2291     1108   12                NaN          NaN                NaN   \n",
       "2292     1311    6                NaN          NaN                NaN   \n",
       "\n",
       "        MB_mes      plan  CodigoPlan  \n",
       "0      1901.47  ultimate           1  \n",
       "1      6919.15      surf           0  \n",
       "2     13314.82      surf           0  \n",
       "3     22330.49      surf           0  \n",
       "4     18504.30      surf           0  \n",
       "...        ...       ...         ...  \n",
       "2288  13039.91      surf           0  \n",
       "2289   1519.69      surf           0  \n",
       "2290       NaN  ultimate           1  \n",
       "2291    233.17  ultimate           1  \n",
       "2292   1498.83  ultimate           1  \n",
       "\n",
       "[2293 rows x 8 columns]"
      ]
     },
     "metadata": {},
     "output_type": "display_data"
    }
   ],
   "source": [
    "#vamos a agregar una columna que sea del codigo de fila del data frame de plans, esto para poder eficientizar analisis\n",
    "#se conserva la columna de plan como string por si es necesario tener el nombre\n",
    "def CodificarPlan(plan):\n",
    "    if plan == 'surf':\n",
    "        return 0\n",
    "    else:\n",
    "        return 1  \n",
    "ConsumoTotalUsuario['CodigoPlan']=ConsumoTotalUsuario['plan'].apply(CodificarPlan)\n",
    "\n",
    "display (ConsumoTotalUsuario)"
   ]
  },
  {
   "cell_type": "code",
   "execution_count": 33,
   "metadata": {
    "id": "5FGCf_c60q1I"
   },
   "outputs": [],
   "source": [
    "# Calcula el ingreso mensual para cada usuario\n",
    "#Para ello usamos una funcion que va a trabajar con cada linea.\n",
    "#va a verificar en cada mes cuanto gasto el usuario, comparar con el plan y dar un monton final "
   ]
  },
  {
   "cell_type": "code",
   "execution_count": 34,
   "metadata": {},
   "outputs": [],
   "source": [
    "\n",
    "def IngresoPorUsuario(row):\n",
    "    MonthlyIncome = 0\n",
    "    if row['Minutos_mes'] > plans.loc[row['CodigoPlan']]['minutes_included']:\n",
    "        ExcesoDeLlamadas = row['Minutos_mes'] - plans.loc[row['CodigoPlan']]['minutes_included']\n",
    "        MonthlyIncome = ExcesoDeLlamadas *  plans.loc[row['CodigoPlan']]['usd_per_minute']\n",
    "\n",
    "        #dado que la funcion se ejecuta en orden, esta solo cambiara el 0 si se pasa\n",
    "    #ahora repetimos para mensajes    \n",
    "    \n",
    "    if row['N_de_mensajes_mes'] > plans.loc[row['CodigoPlan']]['messages_included']:\n",
    "        ExcesoDeMensajes = row['N_de_mensajes_mes'] - plans.loc[row['CodigoPlan']]['messages_included']\n",
    "        MonthlyIncome = MonthlyIncome + (ExcesoDeMensajes *  plans.loc[row['CodigoPlan']]['usd_per_message'])\n",
    "        #ahora que si podemos tener un valor diferente en monthly income hay que sumar el valor anterior. \n",
    "        #repetimos con megabytes\n",
    "        \n",
    "    if row['MB_mes'] > plans.loc[row['CodigoPlan']]['mb_per_month_included']:\n",
    "        ExcesoDeMB = row['MB_mes'] - plans.loc[row['CodigoPlan']]['mb_per_month_included']\n",
    "        gygabytes = math.ceil(ExcesoDeMB/1024)                \n",
    "                        #aqui hay que convertir a gygabytes redondeando hacia arriba                 \n",
    "        MonthlyIncome = MonthlyIncome + (gygabytes *  plans.loc[row['CodigoPlan']]['usd_per_gb'])\n",
    "\n",
    "    MonthlyIncome = MonthlyIncome + plans.loc[row['CodigoPlan']]['usd_monthly_pay']\n",
    "    return MonthlyIncome"
   ]
  },
  {
   "cell_type": "code",
   "execution_count": 35,
   "metadata": {},
   "outputs": [
    {
     "data": {
      "text/html": [
       "<div>\n",
       "<style scoped>\n",
       "    .dataframe tbody tr th:only-of-type {\n",
       "        vertical-align: middle;\n",
       "    }\n",
       "\n",
       "    .dataframe tbody tr th {\n",
       "        vertical-align: top;\n",
       "    }\n",
       "\n",
       "    .dataframe thead th {\n",
       "        text-align: right;\n",
       "    }\n",
       "</style>\n",
       "<table border=\"1\" class=\"dataframe\">\n",
       "  <thead>\n",
       "    <tr style=\"text-align: right;\">\n",
       "      <th></th>\n",
       "      <th>user_id</th>\n",
       "      <th>mes</th>\n",
       "      <th>N_de_llamadas_mes</th>\n",
       "      <th>Minutos_mes</th>\n",
       "      <th>N_de_mensajes_mes</th>\n",
       "      <th>MB_mes</th>\n",
       "      <th>plan</th>\n",
       "      <th>CodigoPlan</th>\n",
       "      <th>IngresoGenerado</th>\n",
       "    </tr>\n",
       "  </thead>\n",
       "  <tbody>\n",
       "    <tr>\n",
       "      <th>1120</th>\n",
       "      <td>1245</td>\n",
       "      <td>11</td>\n",
       "      <td>29.0</td>\n",
       "      <td>169.36</td>\n",
       "      <td>15.0</td>\n",
       "      <td>12283.49</td>\n",
       "      <td>surf</td>\n",
       "      <td>0</td>\n",
       "      <td>20.0000</td>\n",
       "    </tr>\n",
       "    <tr>\n",
       "      <th>198</th>\n",
       "      <td>1049</td>\n",
       "      <td>7</td>\n",
       "      <td>44.0</td>\n",
       "      <td>280.21</td>\n",
       "      <td>NaN</td>\n",
       "      <td>8510.51</td>\n",
       "      <td>surf</td>\n",
       "      <td>0</td>\n",
       "      <td>20.0000</td>\n",
       "    </tr>\n",
       "    <tr>\n",
       "      <th>882</th>\n",
       "      <td>1187</td>\n",
       "      <td>12</td>\n",
       "      <td>74.0</td>\n",
       "      <td>555.38</td>\n",
       "      <td>8.0</td>\n",
       "      <td>21052.81</td>\n",
       "      <td>surf</td>\n",
       "      <td>0</td>\n",
       "      <td>81.6614</td>\n",
       "    </tr>\n",
       "    <tr>\n",
       "      <th>927</th>\n",
       "      <td>1198</td>\n",
       "      <td>9</td>\n",
       "      <td>51.0</td>\n",
       "      <td>403.34</td>\n",
       "      <td>7.0</td>\n",
       "      <td>13162.26</td>\n",
       "      <td>surf</td>\n",
       "      <td>0</td>\n",
       "      <td>20.0000</td>\n",
       "    </tr>\n",
       "    <tr>\n",
       "      <th>1006</th>\n",
       "      <td>1215</td>\n",
       "      <td>12</td>\n",
       "      <td>129.0</td>\n",
       "      <td>1108.45</td>\n",
       "      <td>98.0</td>\n",
       "      <td>34298.28</td>\n",
       "      <td>surf</td>\n",
       "      <td>0</td>\n",
       "      <td>229.6935</td>\n",
       "    </tr>\n",
       "    <tr>\n",
       "      <th>1985</th>\n",
       "      <td>1434</td>\n",
       "      <td>10</td>\n",
       "      <td>60.0</td>\n",
       "      <td>441.92</td>\n",
       "      <td>46.0</td>\n",
       "      <td>12090.00</td>\n",
       "      <td>surf</td>\n",
       "      <td>0</td>\n",
       "      <td>20.0000</td>\n",
       "    </tr>\n",
       "    <tr>\n",
       "      <th>1114</th>\n",
       "      <td>1244</td>\n",
       "      <td>11</td>\n",
       "      <td>17.0</td>\n",
       "      <td>143.78</td>\n",
       "      <td>33.0</td>\n",
       "      <td>20203.12</td>\n",
       "      <td>surf</td>\n",
       "      <td>0</td>\n",
       "      <td>70.0000</td>\n",
       "    </tr>\n",
       "    <tr>\n",
       "      <th>1828</th>\n",
       "      <td>1400</td>\n",
       "      <td>9</td>\n",
       "      <td>72.0</td>\n",
       "      <td>571.52</td>\n",
       "      <td>NaN</td>\n",
       "      <td>14336.67</td>\n",
       "      <td>surf</td>\n",
       "      <td>0</td>\n",
       "      <td>22.1456</td>\n",
       "    </tr>\n",
       "    <tr>\n",
       "      <th>1141</th>\n",
       "      <td>1249</td>\n",
       "      <td>8</td>\n",
       "      <td>96.0</td>\n",
       "      <td>518.52</td>\n",
       "      <td>39.0</td>\n",
       "      <td>18809.16</td>\n",
       "      <td>ultimate</td>\n",
       "      <td>1</td>\n",
       "      <td>70.0000</td>\n",
       "    </tr>\n",
       "    <tr>\n",
       "      <th>675</th>\n",
       "      <td>1146</td>\n",
       "      <td>10</td>\n",
       "      <td>39.0</td>\n",
       "      <td>206.48</td>\n",
       "      <td>43.0</td>\n",
       "      <td>11661.46</td>\n",
       "      <td>surf</td>\n",
       "      <td>0</td>\n",
       "      <td>20.0000</td>\n",
       "    </tr>\n",
       "  </tbody>\n",
       "</table>\n",
       "</div>"
      ],
      "text/plain": [
       "      user_id  mes  N_de_llamadas_mes  Minutos_mes  N_de_mensajes_mes  \\\n",
       "1120     1245   11               29.0       169.36               15.0   \n",
       "198      1049    7               44.0       280.21                NaN   \n",
       "882      1187   12               74.0       555.38                8.0   \n",
       "927      1198    9               51.0       403.34                7.0   \n",
       "1006     1215   12              129.0      1108.45               98.0   \n",
       "1985     1434   10               60.0       441.92               46.0   \n",
       "1114     1244   11               17.0       143.78               33.0   \n",
       "1828     1400    9               72.0       571.52                NaN   \n",
       "1141     1249    8               96.0       518.52               39.0   \n",
       "675      1146   10               39.0       206.48               43.0   \n",
       "\n",
       "        MB_mes      plan  CodigoPlan  IngresoGenerado  \n",
       "1120  12283.49      surf           0          20.0000  \n",
       "198    8510.51      surf           0          20.0000  \n",
       "882   21052.81      surf           0          81.6614  \n",
       "927   13162.26      surf           0          20.0000  \n",
       "1006  34298.28      surf           0         229.6935  \n",
       "1985  12090.00      surf           0          20.0000  \n",
       "1114  20203.12      surf           0          70.0000  \n",
       "1828  14336.67      surf           0          22.1456  \n",
       "1141  18809.16  ultimate           1          70.0000  \n",
       "675   11661.46      surf           0          20.0000  "
      ]
     },
     "metadata": {},
     "output_type": "display_data"
    }
   ],
   "source": [
    "#Primero cambiamos a cero en la muestra que se le aplicara la funcion \n",
    "#ConsumoTotalUsuarioIngresos = ConsumoTotalUsuario\n",
    "\n",
    "#aplicamos la funcion \n",
    "ConsumoTotalUsuario['IngresoGenerado'] = ConsumoTotalUsuario.apply(IngresoPorUsuario, axis=1)\n",
    "display (ConsumoTotalUsuario.sample(10))"
   ]
  },
  {
   "cell_type": "markdown",
   "metadata": {
    "id": "-jtyHzJb0q1I"
   },
   "source": [
    "## Estudia el comportamiento de usuario"
   ]
  },
  {
   "cell_type": "markdown",
   "metadata": {
    "id": "vtW4CJEe0q1J"
   },
   "source": [
    "### Llamadas"
   ]
  },
  {
   "cell_type": "code",
   "execution_count": 36,
   "metadata": {},
   "outputs": [],
   "source": [
    "#debido a que las graficas son mas leibles con el nombre del mes en lugar del numero vamos a agregar una columna de codigo mes \n",
    "CambioMes = {\n",
    "    1: 'Ene',\n",
    "    2: 'Feb',\n",
    "    3: 'Mar',\n",
    "    4: 'Abr',\n",
    "    5: 'May',\n",
    "    6: 'Jun',\n",
    "    7: 'Jul',\n",
    "    8: 'Ago',\n",
    "    9: 'Sep',\n",
    "    10: 'Oct',\n",
    "    11: 'Nov',\n",
    "    12: 'Dec'\n",
    "}\n",
    "\n",
    "# agregamos \n",
    "ConsumoTotalUsuario['CodigoMes'] = ConsumoTotalUsuario['mes'].map(CambioMes)\n",
    "ConsumoTotalUsuario = ConsumoTotalUsuario.sort_values(by = 'mes')\n"
   ]
  },
  {
   "cell_type": "code",
   "execution_count": 37,
   "metadata": {
    "id": "Jf5v5--k0q1J"
   },
   "outputs": [
    {
     "data": {
      "image/png": "[encoded data removed]",
      "text/plain": [
       "<Figure size 1440x720 with 1 Axes>"
      ]
     },
     "metadata": {
      "needs_background": "light"
     },
     "output_type": "display_data"
    }
   ],
   "source": [
    "# Compara la duración promedio de llamadas por cada plan y por cada mes. Traza un gráfico de barras para visualizarla.\n",
    "#Primero vamos a separar por plan. \n",
    "PlanSurfAislado = ConsumoTotalUsuario[ConsumoTotalUsuario['plan']== 'surf']\n",
    "PlanUltimateAislado = ConsumoTotalUsuario[ConsumoTotalUsuario['plan']== 'ultimate']\n",
    "\n",
    "#Para esto vamos a calcular la duracion promedio de los minutos y posteriormente el numero de llamadas promedio. \n",
    "PromedioMinutosPlanSurf = PlanSurfAislado.groupby('mes')['Minutos_mes'].mean()\n",
    "\n",
    "PromedioMinutosPlanSurf = PromedioMinutosPlanSurf.rename('PlanSurf Minutos' )\n",
    "PromedioLlamadasPlanSurf = PlanSurfAislado.groupby('mes')['N_de_llamadas_mes'].mean()\n",
    "PromedioLlamadasPlanSurf = PromedioLlamadasPlanSurf.rename('PlanSurf Llamadas' )\n",
    "\n",
    "#procedemos a los mismo con el plan ultimate \n",
    "PromedioMinutosPlanUltimate = PlanUltimateAislado.groupby('mes')['Minutos_mes'].mean()\n",
    "PromedioMinutosPlanUltimate = PromedioMinutosPlanUltimate.rename('PlanUltimate Minutos' )\n",
    "PromedioLlamadasPlanUltimate = PlanUltimateAislado.groupby('mes')['N_de_llamadas_mes'].mean()\n",
    "PromedioLlamadasPlanUltimate = PromedioLlamadasPlanUltimate.rename('PlanUltimate Llamadas' )\n",
    "#Ahora procedemos a dividirlas entre si. \n",
    "\n",
    "PromedioMixtoSurf  = PromedioMinutosPlanSurf / PromedioLlamadasPlanSurf \n",
    "PromedioMixtoSurf = PromedioMixtoSurf.rename('PlanSurf' )\n",
    "PromedioMixtoUltimate =  PromedioMinutosPlanUltimate / PromedioLlamadasPlanUltimate  \n",
    "PromedioMixtoUltimate = PromedioMixtoUltimate.rename('PlanUltimate' )\n",
    "\n",
    "\n",
    "mezcla = pd.concat([PromedioMixtoSurf,PromedioMixtoUltimate], axis = 'columns') #juntamos \n",
    "cols = ['PlanSurf', 'PlanUltimate']  #nombres de las columnas para que no se encimen \n",
    "mezcla.plot(    #si no se pone X se toma el indice como default \n",
    "        y = cols, \n",
    "        title='Promedio de la duracion de llamada por mes',\n",
    "        kind = 'bar',\n",
    "        xlabel='Mes ',\n",
    "        ylabel='Duracion de la llamada en Minutos',\n",
    "         figsize=(20, 10))\n",
    "# escribe tu código aquí\n",
    "\n",
    "plt.legend(['PlanSurf','PlanUltimate'])\n",
    "\n",
    "plt.show()\n",
    "\n",
    "\n"
   ]
  },
  {
   "cell_type": "markdown",
   "metadata": {},
   "source": [
    "Podemos ver que el promedio de las llamadas es de poco mas de 6 minutos. Independientemente del plan. "
   ]
  },
  {
   "cell_type": "code",
   "execution_count": 38,
   "metadata": {
    "id": "QoLqW1S_0q1J",
    "scrolled": true
   },
   "outputs": [
    {
     "data": {
      "image/png": "[encoded data removed]",
      "text/plain": [
       "<Figure size 1440x720 with 1 Axes>"
      ]
     },
     "metadata": {
      "needs_background": "light"
     },
     "output_type": "display_data"
    }
   ],
   "source": [
    "# Compara el número de minutos mensuales que necesitan los usuarios de cada plan. Traza un histograma.\n",
    "#se hace el histograma, podemos reusar nuestra columna CodigoPlan Para facilitar el codigo \n",
    "ConsumoTotalUsuario[ConsumoTotalUsuario['CodigoPlan']==0]['Minutos_mes'].plot(kind = 'hist',bins= 30, figsize=(20, 10))\n",
    "ConsumoTotalUsuario[ConsumoTotalUsuario['CodigoPlan']==1]['Minutos_mes'].plot(kind = 'hist',bins= 30,alpha=0.8, figsize=(20, 10))\n",
    "#se usa un alfa para ver ambos al mismo tiempo. \n",
    "plt.legend(['surf', 'Ultimate'])\n",
    "plt.show() \n",
    "\n"
   ]
  },
  {
   "cell_type": "markdown",
   "metadata": {},
   "source": [
    "Se trazo un histograma y podemos ver que la mayoria e las llamdas caen en el rango de 400-500. Dicho esto seria interesante ver una comparacion con un grafico de barras donde veamos el promedio por mes ya que esto puede variar o darnos mas certeza de lo qu estamos viendo "
   ]
  },
  {
   "cell_type": "code",
   "execution_count": 39,
   "metadata": {},
   "outputs": [
    {
     "data": {
      "image/png": "[encoded data removed]",
      "text/plain": [
       "<Figure size 1440x720 with 1 Axes>"
      ]
     },
     "metadata": {
      "needs_background": "light"
     },
     "output_type": "display_data"
    }
   ],
   "source": [
    "PlanSurfMinutosAlMes2 = PlanSurfAislado.groupby(by = 'mes')['Minutos_mes'].mean() \n",
    "\n",
    "PlanSurfMinutosAlMes2 = PlanSurfMinutosAlMes2.rename('PlanSurf') \n",
    "\n",
    "PlanUltimateMinutosAlMes2 = PlanUltimateAislado.groupby(by = 'mes')['Minutos_mes'].mean() \n",
    "\n",
    "PlanUltimateMinutosAlMes2 = PlanUltimateMinutosAlMes2.rename('PlanUltimate') \n",
    "\n",
    "\n",
    "PromedioMensualLlamadasAmbosPlanes = pd.concat([PlanSurfMinutosAlMes2,PlanUltimateMinutosAlMes2], axis = 'columns') #juntamos \n",
    "\n",
    "cols = ['PlanSurf', 'PlanUltimate']\n",
    "PromedioMensualLlamadasAmbosPlanes.plot(   \n",
    "        y = cols, \n",
    "        title='Promedio de minutos de Ambos planes',\n",
    "        kind = 'bar',\n",
    "        xlabel='Mes ',\n",
    "        ylabel='Promedio de minutos',\n",
    "        figsize=(20, 10))\n",
    "\n",
    "\n",
    "plt.legend(['PlanSurf','PlanUltimate'])\n",
    "\n",
    "plt.show()\n"
   ]
  },
  {
   "cell_type": "markdown",
   "metadata": {},
   "source": [
    "En esta visualizacion por mes podemos ver que el promedio de minutos usados cada mes varia por plan donde los ususarios de surf usan menos minutos al mes excepto en navidad mientras que los usuarios de ultimate usan numeros similares todo el anio"
   ]
  },
  {
   "cell_type": "markdown",
   "metadata": {
    "id": "bLS9T8OH0q1K"
   },
   "source": [
    "[Calcula la media y la variable de la duración de las llamadas para averiguar si los usuarios de los distintos planes se comportan de forma diferente al realizar sus llamadas.]"
   ]
  },
  {
   "cell_type": "code",
   "execution_count": 40,
   "metadata": {},
   "outputs": [
    {
     "data": {
      "text/html": [
       "<div>\n",
       "<style scoped>\n",
       "    .dataframe tbody tr th:only-of-type {\n",
       "        vertical-align: middle;\n",
       "    }\n",
       "\n",
       "    .dataframe tbody tr th {\n",
       "        vertical-align: top;\n",
       "    }\n",
       "\n",
       "    .dataframe thead th {\n",
       "        text-align: right;\n",
       "    }\n",
       "</style>\n",
       "<table border=\"1\" class=\"dataframe\">\n",
       "  <thead>\n",
       "    <tr style=\"text-align: right;\">\n",
       "      <th></th>\n",
       "      <th>user_id</th>\n",
       "      <th>mes</th>\n",
       "      <th>N_de_llamadas_mes</th>\n",
       "      <th>Minutos_mes</th>\n",
       "      <th>N_de_mensajes_mes</th>\n",
       "      <th>MB_mes</th>\n",
       "      <th>plan</th>\n",
       "      <th>CodigoPlan</th>\n",
       "      <th>IngresoGenerado</th>\n",
       "      <th>CodigoMes</th>\n",
       "    </tr>\n",
       "  </thead>\n",
       "  <tbody>\n",
       "    <tr>\n",
       "      <th>913</th>\n",
       "      <td>1196</td>\n",
       "      <td>1</td>\n",
       "      <td>42.0</td>\n",
       "      <td>272.56</td>\n",
       "      <td>23.0</td>\n",
       "      <td>8908.61</td>\n",
       "      <td>ultimate</td>\n",
       "      <td>1</td>\n",
       "      <td>70.000</td>\n",
       "      <td>Ene</td>\n",
       "    </tr>\n",
       "    <tr>\n",
       "      <th>155</th>\n",
       "      <td>1042</td>\n",
       "      <td>1</td>\n",
       "      <td>18.0</td>\n",
       "      <td>106.83</td>\n",
       "      <td>NaN</td>\n",
       "      <td>1854.93</td>\n",
       "      <td>surf</td>\n",
       "      <td>0</td>\n",
       "      <td>20.000</td>\n",
       "      <td>Ene</td>\n",
       "    </tr>\n",
       "    <tr>\n",
       "      <th>360</th>\n",
       "      <td>1077</td>\n",
       "      <td>1</td>\n",
       "      <td>42.0</td>\n",
       "      <td>275.07</td>\n",
       "      <td>37.0</td>\n",
       "      <td>10635.64</td>\n",
       "      <td>ultimate</td>\n",
       "      <td>1</td>\n",
       "      <td>70.000</td>\n",
       "      <td>Ene</td>\n",
       "    </tr>\n",
       "    <tr>\n",
       "      <th>1642</th>\n",
       "      <td>1362</td>\n",
       "      <td>1</td>\n",
       "      <td>42.0</td>\n",
       "      <td>278.85</td>\n",
       "      <td>21.0</td>\n",
       "      <td>7894.79</td>\n",
       "      <td>surf</td>\n",
       "      <td>0</td>\n",
       "      <td>20.000</td>\n",
       "      <td>Ene</td>\n",
       "    </tr>\n",
       "    <tr>\n",
       "      <th>861</th>\n",
       "      <td>1185</td>\n",
       "      <td>1</td>\n",
       "      <td>23.0</td>\n",
       "      <td>170.29</td>\n",
       "      <td>NaN</td>\n",
       "      <td>6812.77</td>\n",
       "      <td>ultimate</td>\n",
       "      <td>1</td>\n",
       "      <td>70.000</td>\n",
       "      <td>Ene</td>\n",
       "    </tr>\n",
       "    <tr>\n",
       "      <th>...</th>\n",
       "      <td>...</td>\n",
       "      <td>...</td>\n",
       "      <td>...</td>\n",
       "      <td>...</td>\n",
       "      <td>...</td>\n",
       "      <td>...</td>\n",
       "      <td>...</td>\n",
       "      <td>...</td>\n",
       "      <td>...</td>\n",
       "      <td>...</td>\n",
       "    </tr>\n",
       "    <tr>\n",
       "      <th>1294</th>\n",
       "      <td>1281</td>\n",
       "      <td>12</td>\n",
       "      <td>88.0</td>\n",
       "      <td>609.80</td>\n",
       "      <td>38.0</td>\n",
       "      <td>8169.07</td>\n",
       "      <td>surf</td>\n",
       "      <td>0</td>\n",
       "      <td>23.294</td>\n",
       "      <td>Dec</td>\n",
       "    </tr>\n",
       "    <tr>\n",
       "      <th>1296</th>\n",
       "      <td>1282</td>\n",
       "      <td>12</td>\n",
       "      <td>74.0</td>\n",
       "      <td>435.55</td>\n",
       "      <td>NaN</td>\n",
       "      <td>24487.10</td>\n",
       "      <td>ultimate</td>\n",
       "      <td>1</td>\n",
       "      <td>70.000</td>\n",
       "      <td>Dec</td>\n",
       "    </tr>\n",
       "    <tr>\n",
       "      <th>1298</th>\n",
       "      <td>1283</td>\n",
       "      <td>12</td>\n",
       "      <td>122.0</td>\n",
       "      <td>881.77</td>\n",
       "      <td>117.0</td>\n",
       "      <td>33067.50</td>\n",
       "      <td>ultimate</td>\n",
       "      <td>1</td>\n",
       "      <td>91.000</td>\n",
       "      <td>Dec</td>\n",
       "    </tr>\n",
       "    <tr>\n",
       "      <th>1262</th>\n",
       "      <td>1273</td>\n",
       "      <td>12</td>\n",
       "      <td>56.0</td>\n",
       "      <td>399.98</td>\n",
       "      <td>52.0</td>\n",
       "      <td>18176.59</td>\n",
       "      <td>ultimate</td>\n",
       "      <td>1</td>\n",
       "      <td>70.000</td>\n",
       "      <td>Dec</td>\n",
       "    </tr>\n",
       "    <tr>\n",
       "      <th>1146</th>\n",
       "      <td>1250</td>\n",
       "      <td>12</td>\n",
       "      <td>69.0</td>\n",
       "      <td>359.07</td>\n",
       "      <td>79.0</td>\n",
       "      <td>8733.20</td>\n",
       "      <td>ultimate</td>\n",
       "      <td>1</td>\n",
       "      <td>70.000</td>\n",
       "      <td>Dec</td>\n",
       "    </tr>\n",
       "  </tbody>\n",
       "</table>\n",
       "<p>2293 rows × 10 columns</p>\n",
       "</div>"
      ],
      "text/plain": [
       "      user_id  mes  N_de_llamadas_mes  Minutos_mes  N_de_mensajes_mes  \\\n",
       "913      1196    1               42.0       272.56               23.0   \n",
       "155      1042    1               18.0       106.83                NaN   \n",
       "360      1077    1               42.0       275.07               37.0   \n",
       "1642     1362    1               42.0       278.85               21.0   \n",
       "861      1185    1               23.0       170.29                NaN   \n",
       "...       ...  ...                ...          ...                ...   \n",
       "1294     1281   12               88.0       609.80               38.0   \n",
       "1296     1282   12               74.0       435.55                NaN   \n",
       "1298     1283   12              122.0       881.77              117.0   \n",
       "1262     1273   12               56.0       399.98               52.0   \n",
       "1146     1250   12               69.0       359.07               79.0   \n",
       "\n",
       "        MB_mes      plan  CodigoPlan  IngresoGenerado CodigoMes  \n",
       "913    8908.61  ultimate           1           70.000       Ene  \n",
       "155    1854.93      surf           0           20.000       Ene  \n",
       "360   10635.64  ultimate           1           70.000       Ene  \n",
       "1642   7894.79      surf           0           20.000       Ene  \n",
       "861    6812.77  ultimate           1           70.000       Ene  \n",
       "...        ...       ...         ...              ...       ...  \n",
       "1294   8169.07      surf           0           23.294       Dec  \n",
       "1296  24487.10  ultimate           1           70.000       Dec  \n",
       "1298  33067.50  ultimate           1           91.000       Dec  \n",
       "1262  18176.59  ultimate           1           70.000       Dec  \n",
       "1146   8733.20  ultimate           1           70.000       Dec  \n",
       "\n",
       "[2293 rows x 10 columns]"
      ]
     },
     "metadata": {},
     "output_type": "display_data"
    }
   ],
   "source": [
    "display(ConsumoTotalUsuario)"
   ]
  },
  {
   "cell_type": "code",
   "execution_count": 41,
   "metadata": {
    "id": "oSndbAnt0q1K",
    "scrolled": true
   },
   "outputs": [
    {
     "name": "stdout",
     "output_type": "stream",
     "text": [
      "La media de los planes en conjunto es 411.4925863596103\n",
      "La media del plan surf es  412.0978899676375\n",
      "La media del plan ultimate es  410.18095371669006\n",
      "La varianza de los planes en conjunto es 48067.00576337274\n",
      "La varianza del plan surf es  46970.83270700408\n",
      "La varianza del plan ultimate es  50439.789304279766\n"
     ]
    }
   ],
   "source": [
    "# Calcula la media y la varianza de la duración mensual de llamadas.\n",
    "#aqui se probo ver la media y varianza de tanto juntos como aislados cada plan pero al ser datos similares se uso solo la del\n",
    "#conjunto de ambos \n",
    "MediaDuracionLlamadasConjunto = ConsumoTotalUsuario['Minutos_mes'].mean()\n",
    "MediaDuracionMensualPlanSurf = PlanSurfAislado['Minutos_mes'].mean()\n",
    "MediaDuracionMensualPlanUltimate = PlanUltimateAislado['Minutos_mes'].mean()\n",
    "#varianzas \n",
    "\n",
    "VarDuracionLlamadasConjunto =np.var(ConsumoTotalUsuario['Minutos_mes'])\n",
    "VarDuracionMensualPlanSurf = np.var(PlanSurfAislado['Minutos_mes'])\n",
    "VarDuracionMensualPlanUltimate = np.var(PlanUltimateAislado['Minutos_mes'])\n",
    "\n",
    "\n",
    "# se usa print para que el output sea mas ordenado\n",
    "\n",
    "print ('La media de los planes en conjunto es', MediaDuracionLlamadasConjunto )\n",
    "print ('La media del plan surf es ', MediaDuracionMensualPlanSurf )\n",
    "print ('La media del plan ultimate es ', MediaDuracionMensualPlanUltimate )\n",
    "\n",
    "print ('La varianza de los planes en conjunto es', VarDuracionLlamadasConjunto )\n",
    "print ('La varianza del plan surf es ', VarDuracionMensualPlanSurf )\n",
    "print ('La varianza del plan ultimate es ', VarDuracionMensualPlanUltimate )\n",
    "\n"
   ]
  },
  {
   "cell_type": "markdown",
   "metadata": {},
   "source": [
    "Podemos ver que el comportamiento de ambos planes es muy similar. "
   ]
  },
  {
   "cell_type": "code",
   "execution_count": null,
   "metadata": {},
   "outputs": [],
   "source": []
  },
  {
   "cell_type": "code",
   "execution_count": 42,
   "metadata": {
    "id": "nZzoRUKc0q1K"
   },
   "outputs": [
    {
     "data": {
      "image/png": "[encoded data removed]",
      "text/plain": [
       "<Figure size 720x432 with 1 Axes>"
      ]
     },
     "metadata": {
      "needs_background": "light"
     },
     "output_type": "display_data"
    },
    {
     "data": {
      "image/png": "[encoded data removed]",
      "text/plain": [
       "<Figure size 720x432 with 1 Axes>"
      ]
     },
     "metadata": {
      "needs_background": "light"
     },
     "output_type": "display_data"
    },
    {
     "data": {
      "image/png": "[encoded data removed]",
      "text/plain": [
       "<Figure size 720x432 with 1 Axes>"
      ]
     },
     "metadata": {
      "needs_background": "light"
     },
     "output_type": "display_data"
    }
   ],
   "source": [
    "# Traza un diagrama de caja para visualizar la distribución de la duración mensual de llamadas\n",
    "#para hacer un data frame de las llamadas en base al mes \n",
    "#Se tuvo que regresar a cambiar los resultados de NaN. Porque si no el box plot fallaba. \n",
    "NaNColumnas = ['N_de_llamadas_mes', 'Minutos_mes', 'N_de_mensajes_mes','MB_mes']\n",
    "DiagramaOrdenada = ConsumoTotalUsuario.sort_values(by = 'mes') # para que el boxplot aparezca en orden\n",
    "DiagramaOrdenada[NaNColumnas] = DiagramaOrdenada[NaNColumnas].fillna(0)\n",
    "\n",
    "\n",
    "\n",
    "\n",
    "\n",
    "plt.figure(figsize=(10, 6)) \n",
    "plt.boxplot([DiagramaOrdenada[DiagramaOrdenada['CodigoMes'] == mes]['Minutos_mes'] for mes in DiagramaOrdenada['CodigoMes'].unique()],\n",
    "            labels=DiagramaOrdenada['CodigoMes'].unique())\n",
    "plt.title('Minutos por llamada por mes Ambos planes ')\n",
    "plt.xlabel('Mes')\n",
    "plt.ylabel('Minutos por llamada')\n",
    "plt.show()\n",
    "\n",
    "DiagramaSurf = PlanSurfAislado.sort_values(by = 'mes') # para que el boxplot aparezca en orden\n",
    "DiagramaSurf[NaNColumnas] = DiagramaSurf[NaNColumnas].fillna(0)\n",
    "\n",
    "plt.figure(figsize=(10, 6)) \n",
    "plt.boxplot([DiagramaSurf[DiagramaSurf['CodigoMes'] == mes]['Minutos_mes'] for mes in DiagramaSurf['CodigoMes'].unique()],\n",
    "            labels=DiagramaSurf['CodigoMes'].unique())\n",
    "plt.title('Minutos por llamada por mes surf')\n",
    "plt.xlabel('Mes')\n",
    "plt.ylabel('Minutos por llamada')\n",
    "plt.show()\n",
    "\n",
    "\n",
    "DiagramaUltimate = PlanUltimateAislado.sort_values(by = 'mes') # para que el boxplot aparezca en orden\n",
    "DiagramaUltimate[NaNColumnas] = DiagramaUltimate[NaNColumnas].fillna(0)\n",
    "plt.figure(figsize=(10, 6)) \n",
    "plt.boxplot([DiagramaUltimate[DiagramaUltimate['CodigoMes'] == mes]['Minutos_mes'] for mes in DiagramaUltimate['CodigoMes'].unique()],\n",
    "            labels=DiagramaUltimate['CodigoMes'].unique())\n",
    "plt.title('Minutos por llamada por mes ultimate')\n",
    "plt.xlabel('Mes')\n",
    "plt.ylabel('Minutos por llamada')\n",
    "plt.show()\n",
    "\n"
   ]
  },
  {
   "cell_type": "markdown",
   "metadata": {},
   "source": [
    "Conclusiones de las llamadas\n",
    "Despues de analizar los datos de los usuarios se puede concluir lo siguiente: \n",
    "1.Los usuarios de ambos planes tienen comportamientos similares, la mayoria usa 500 minutos o menos al mes.Este numero aumenta durante los meses de fiestas decembrinas. \n",
    "2. Los usuarios de Surf son mas propensos a pasarse de su limite de minutos, sobre todo en meses de fiestas. \n",
    "3. "
   ]
  },
  {
   "cell_type": "markdown",
   "metadata": {
    "id": "8idKy8Wh0q1L"
   },
   "source": [
    "### Mensajes"
   ]
  },
  {
   "cell_type": "code",
   "execution_count": 43,
   "metadata": {
    "id": "NXLxiTit0q1L"
   },
   "outputs": [
    {
     "data": {
      "image/png": "[encoded data removed]",
      "text/plain": [
       "<Figure size 1440x720 with 1 Axes>"
      ]
     },
     "metadata": {
      "needs_background": "light"
     },
     "output_type": "display_data"
    }
   ],
   "source": [
    "# Comprara el número de mensajes que tienden a enviar cada mes los usuarios de cada plan\n",
    "\n",
    "\n",
    "\n",
    "#Para esto vamos a calcular el promedio de mensaje por mes \n",
    "PromedioMensajesPlanSurf = PlanSurfAislado.groupby('mes')['N_de_mensajes_mes'].mean()\n",
    "PromedioMensajesPlanSurf = PromedioMensajesPlanSurf.rename('PlanSurf' )\n",
    "\n",
    "\n",
    "#procedemos a los mismo con el plan ultimate \n",
    "PromedioMensajesPlanUltimate = PlanUltimateAislado.groupby('mes')['N_de_mensajes_mes'].mean()\n",
    "PromedioMensajesPlanUltimate = PromedioMensajesPlanUltimate.rename('PlanUltimate' )\n",
    "\n",
    "\n",
    "\n",
    "PromedioMensualMensajessAmbosPlanes = pd.concat([PromedioMensajesPlanSurf,PromedioMensajesPlanUltimate], axis = 'columns') #juntamos \n",
    "\n",
    "cols = ['PlanSurf', 'PlanUltimate']\n",
    "PromedioMensualMensajessAmbosPlanes.plot(   \n",
    "        y = cols, \n",
    "        title='Promedio de mensajes de Ambos planes',\n",
    "        kind = 'bar',\n",
    "        xlabel='Mes ',\n",
    "        ylabel='Numero de mensajes',\n",
    "        figsize=(20, 10))\n",
    "\n",
    "\n",
    "plt.legend(['PlanSurf','PlanUltimate'])\n",
    "\n",
    "plt.show()\n",
    "\n",
    "\n"
   ]
  },
  {
   "cell_type": "markdown",
   "metadata": {},
   "source": [
    "Podemo ver que los usuarios del plan Surf usan menos mensajes que el plan en ambos casos se mantienen abajo de 50 en promedio. \n",
    "Una posible diferencia grande es que tanto usan mensajes en realidad los usuarios de surf para eso lo veremos con un histograma"
   ]
  },
  {
   "cell_type": "code",
   "execution_count": 44,
   "metadata": {},
   "outputs": [
    {
     "data": {
      "image/png": "[encoded data removed]",
      "text/plain": [
       "<Figure size 1440x720 with 1 Axes>"
      ]
     },
     "metadata": {
      "needs_background": "light"
     },
     "output_type": "display_data"
    }
   ],
   "source": [
    "ConsumoTotalUsuario[ConsumoTotalUsuario['CodigoPlan']==0]['N_de_mensajes_mes'].plot(kind = 'hist',bins= 30, figsize=(20, 10))\n",
    "ConsumoTotalUsuario[ConsumoTotalUsuario['CodigoPlan']==1]['N_de_mensajes_mes'].plot(kind = 'hist',bins= 30,alpha=0.8, figsize=(20, 10))\n",
    "#se usa un alfa para ver ambos al mismo tiempo. \n",
    "plt.legend(['surf', 'Ultimate'])\n",
    "plt.show() "
   ]
  },
  {
   "cell_type": "markdown",
   "metadata": {
    "id": "GRI_R7xF0q1L"
   },
   "source": [
    "Podemos ver que los usuarios de surf es mas usual que manden pocos mensajes"
   ]
  },
  {
   "cell_type": "code",
   "execution_count": 45,
   "metadata": {
    "id": "dtFwCGAp0q1M"
   },
   "outputs": [
    {
     "name": "stdout",
     "output_type": "stream",
     "text": [
      "La media de los planes en conjunto es 42.110188261351055\n",
      "La media del plan surf es  40.10965630114566\n",
      "La media del plan ultimate es  46.29623287671233\n",
      "La varianza de los planes en conjunto es 1096.5210811384227\n",
      "La varianza del plan surf es  1090.4511506183685\n",
      "La varianza del plan ultimate es  1083.3249173156314\n"
     ]
    }
   ],
   "source": [
    "#Vamos a ver la media y varianza de los mensajes \n",
    "\n",
    "MediaMensajesConjunto = ConsumoTotalUsuario['N_de_mensajes_mes'].mean()\n",
    "MediaMensajesPlanSurf = PlanSurfAislado['N_de_mensajes_mes'].mean()\n",
    "MediaMensajesalPlanUltimate = PlanUltimateAislado['N_de_mensajes_mes'].mean()\n",
    "#varianzas \n",
    "\n",
    "VarMensajesConjunto =np.var(ConsumoTotalUsuario['N_de_mensajes_mes'])\n",
    "VarMensajesPlanSurf = np.var(PlanSurfAislado['N_de_mensajes_mes'])\n",
    "VarMensajesPlanUltimate = np.var(PlanUltimateAislado['N_de_mensajes_mes'])\n",
    "\n",
    "\n",
    "\n",
    "#se usa print para que el output sea mas ordenado\n",
    "print ('La media de los planes en conjunto es', MediaMensajesConjunto )\n",
    "print ('La media del plan surf es ', MediaMensajesPlanSurf )\n",
    "print ('La media del plan ultimate es ', MediaMensajesalPlanUltimate )\n",
    "\n",
    "print ('La varianza de los planes en conjunto es', VarMensajesConjunto )\n",
    "print ('La varianza del plan surf es ', VarMensajesPlanSurf )\n",
    "print ('La varianza del plan ultimate es ', VarMensajesPlanUltimate )\n"
   ]
  },
  {
   "cell_type": "markdown",
   "metadata": {},
   "source": [
    "Podemos ver que al igual que con los mensajes no hay una variacion significativa entre ambos planes "
   ]
  },
  {
   "cell_type": "code",
   "execution_count": 46,
   "metadata": {},
   "outputs": [
    {
     "data": {
      "image/png": "[encoded data removed]",
      "text/plain": [
       "<Figure size 720x432 with 1 Axes>"
      ]
     },
     "metadata": {
      "needs_background": "light"
     },
     "output_type": "display_data"
    },
    {
     "data": {
      "image/png": "[encoded data removed]",
      "text/plain": [
       "<Figure size 720x432 with 1 Axes>"
      ]
     },
     "metadata": {
      "needs_background": "light"
     },
     "output_type": "display_data"
    },
    {
     "data": {
      "image/png": "[encoded data removed]",
      "text/plain": [
       "<Figure size 720x432 with 1 Axes>"
      ]
     },
     "metadata": {
      "needs_background": "light"
     },
     "output_type": "display_data"
    }
   ],
   "source": [
    "#finalmente vamos a ver un boxplot para ver las comparaciones entre los planes ya que en llamadas pudimos ver ciertos datos atipicos \n",
    "\n",
    "NaNColumnas = ['N_de_llamadas_mes', 'Minutos_mes', 'N_de_mensajes_mes','MB_mes'] \n",
    "DiagramaMensajes = ConsumoTotalUsuario.sort_values(by = 'mes') # para que el boxplot aparezca en orden\n",
    "\n",
    "#no se porque en el dia anterior este funcionaba y ahora me lo pide declarar de nuevo\n",
    "\n",
    "DiagramaMensajes[NaNColumnas] = DiagramaMensajes[NaNColumnas].fillna(0)\n",
    "\n",
    "\n",
    "plt.figure(figsize=(10, 6)) \n",
    "plt.boxplot([DiagramaMensajes[DiagramaMensajes['CodigoMes'] == mes]['N_de_mensajes_mes'] for mes in DiagramaMensajes['CodigoMes'].unique()],\n",
    "            labels=DiagramaMensajes['CodigoMes'].unique())\n",
    "plt.title('Mensajes Ambos planes ')\n",
    "plt.xlabel('Mes')\n",
    "plt.ylabel('Mensajes enviados')\n",
    "plt.show() \n",
    "\n",
    "\n",
    "DiagramaSurfMensajes = PlanSurfAislado.sort_values(by = 'mes') # para que el boxplot aparezca en orden\n",
    "DiagramaSurfMensajes[NaNColumnas] = DiagramaSurfMensajes[NaNColumnas].fillna(0)\n",
    "\n",
    "plt.figure(figsize=(10, 6)) \n",
    "plt.boxplot([DiagramaSurfMensajes[DiagramaSurfMensajes['CodigoMes'] == mes]['N_de_mensajes_mes'] for mes in DiagramaSurfMensajes['CodigoMes'].unique()],\n",
    "            labels=DiagramaSurfMensajes['CodigoMes'].unique())\n",
    "plt.title('Mensajes por mes surf')\n",
    "plt.xlabel('Mes')\n",
    "plt.ylabel('mensajes por mes')\n",
    "plt.show()\n",
    "\n",
    "\n",
    "DiagramaUltimateMensajes = PlanUltimateAislado.sort_values(by = 'mes') # para que el boxplot aparezca en orden\n",
    "DiagramaUltimateMensajes[NaNColumnas] = DiagramaUltimateMensajes[NaNColumnas].fillna(0)\n",
    "\n",
    "plt.figure(figsize=(10, 6)) \n",
    "plt.boxplot([DiagramaUltimateMensajes[DiagramaUltimateMensajes['CodigoMes'] == mes]['N_de_mensajes_mes'] for mes in DiagramaUltimateMensajes['CodigoMes'].unique()],\n",
    "            labels=DiagramaUltimateMensajes['CodigoMes'].unique())\n",
    "plt.title('Mensajes por mes ultimate')\n",
    "plt.xlabel('Mes')\n",
    "plt.ylabel('mensajes por mes')\n",
    "plt.show()"
   ]
  },
  {
   "cell_type": "markdown",
   "metadata": {},
   "source": [
    "Conclusiones\n",
    "1.En los mensajes podemos ver que los usuarios de ultimate nunca exceden el numero de mensajes que tienen.\n",
    "2. Los usuarios de Surf en cambio es usual que excedan los 50 mensajes sobre todo en fechas de fiestas. La mayoria intenta mantenerse en el limte pero es mas comun que se excedan. \n"
   ]
  },
  {
   "cell_type": "markdown",
   "metadata": {
    "id": "42YSypXz0q1M"
   },
   "source": [
    "### Internet"
   ]
  },
  {
   "cell_type": "code",
   "execution_count": 47,
   "metadata": {
    "id": "lSuKPtjh0q1M",
    "scrolled": true
   },
   "outputs": [
    {
     "data": {
      "image/png": "[encoded data removed]",
      "text/plain": [
       "<Figure size 1296x576 with 1 Axes>"
      ]
     },
     "metadata": {
      "needs_background": "light"
     },
     "output_type": "display_data"
    }
   ],
   "source": [
    "# Compara la cantidad de tráfico de Internet consumido por usuarios por plan\n",
    "\n",
    "\n",
    "#Para esto vamos a calcular el promedio de uso de internet por mes \n",
    "PromedioInternetPlanSurf = PlanSurfAislado.groupby('mes')['MB_mes'].mean()\n",
    "PromedioInternetPlanSurf = PromedioInternetPlanSurf.rename('PlanSurf' )\n",
    "\n",
    "\n",
    "#procedemos a los mismo con el plan ultimate \n",
    "PromedioInternetPlanUltimate = PlanUltimateAislado.groupby('mes')['MB_mes'].mean()\n",
    "PromedioInternetPlanUltimate = PromedioInternetPlanUltimate.rename('PlanUltimate' )\n",
    "\n",
    "\n",
    "\n",
    "PromedioInternetAmbosPlanes = pd.concat([PromedioInternetPlanSurf,PromedioInternetPlanUltimate], axis = 'columns') #juntamos \n",
    "\n",
    "cols = ['PlanSurf', 'PlanUltimate']\n",
    "PromedioInternetAmbosPlanes.plot(   \n",
    "        y = cols, \n",
    "        title='Promedio de MBs de Ambos planes',\n",
    "        kind = 'bar',\n",
    "        xlabel='Mes ',\n",
    "        ylabel='Promedio de MBs usados', \n",
    "    figsize=(18, 8))\n",
    "\n",
    "\n",
    "plt.legend(['PlanSurf','PlanUltimate'])\n",
    "\n",
    "plt.show()\n",
    "\n",
    "\n",
    "\n",
    "\n",
    "\n",
    "\n",
    "\n"
   ]
  },
  {
   "cell_type": "markdown",
   "metadata": {},
   "source": [
    "sabemos que en el caso de internet, los usuarios de surf tienen un limite de 15000 mb mientras que los de ultimate tienen un limite de 30000 mb. Con eso se puede concluir lo siguiente\n",
    "1. Los usuarios de ultimate rara vez se pasan de su limite\n",
    "2. los usuarios de surf, los primeros meses del anio se mantienen abajo de su limite pero conforme va terminando tienden a pasar por poco.\n",
    "\n"
   ]
  },
  {
   "cell_type": "code",
   "execution_count": 48,
   "metadata": {
    "id": "wnh8jYXi0q1N"
   },
   "outputs": [
    {
     "data": {
      "image/png": "[encoded data removed]",
      "text/plain": [
       "<Figure size 1440x720 with 1 Axes>"
      ]
     },
     "metadata": {
      "needs_background": "light"
     },
     "output_type": "display_data"
    }
   ],
   "source": [
    "ConsumoTotalUsuario[ConsumoTotalUsuario['CodigoPlan']==0]['MB_mes'].plot(kind = 'hist',bins= 40, figsize=(20, 10))\n",
    "ConsumoTotalUsuario[ConsumoTotalUsuario['CodigoPlan']==1]['MB_mes'].plot(kind = 'hist',bins= 40,alpha=0.8, figsize=(20, 10))\n",
    "#se usa un alfa para ver ambos al mismo tiempo.  \n",
    "plt.legend(['surf', 'Ultimate'])\n",
    "plt.show() \n"
   ]
  },
  {
   "cell_type": "markdown",
   "metadata": {
    "id": "5VlyJ9ry0q1N"
   },
   "source": [
    "Podemos ver que hay algunos outliers de surf que se pasaron por mucho de la media de consumo de internet. Igualmente ultimate igual se llegan a pasar pero en menor proporcion"
   ]
  },
  {
   "cell_type": "code",
   "execution_count": 49,
   "metadata": {},
   "outputs": [
    {
     "name": "stdout",
     "output_type": "stream",
     "text": [
      "La media de los planes en conjunto es 16882.197501097937\n",
      "La media del plan surf es  16717.702137355584\n",
      "La media del plan ultimate es  17238.642253129346\n",
      "La varianza de los planes en conjunto es 61906313.93878115\n",
      "La varianza del plan surf es  62128323.16300872\n",
      "La varianza del plan ultimate es  61239556.12006475\n"
     ]
    }
   ],
   "source": [
    "#vamos a calcular las medias y varianzas\n",
    "\n",
    "MediaMBsConjunto = ConsumoTotalUsuario['MB_mes'].mean()\n",
    "MediaMBsPlanSurf = PlanSurfAislado['MB_mes'].mean()\n",
    "MediaMBsPlanUltimate = PlanUltimateAislado['MB_mes'].mean()\n",
    "#varianzas \n",
    "\n",
    "VarMBsConjunto =np.var(ConsumoTotalUsuario['MB_mes'])\n",
    "VarMBsPlanSurf = np.var(PlanSurfAislado['MB_mes'])\n",
    "VarMBsPlanUltimate = np.var(PlanUltimateAislado['MB_mes'])\n",
    "\n",
    "\n",
    "\n",
    "#aqui se uso print para que salga mas ordenado\n",
    "print ('La media de los planes en conjunto es', MediaMBsConjunto )\n",
    "print ('La media del plan surf es ', MediaMBsPlanSurf )\n",
    "print ('La media del plan ultimate es ', MediaMBsPlanUltimate )\n",
    "\n",
    "print ('La varianza de los planes en conjunto es', VarMBsConjunto )\n",
    "print ('La varianza del plan surf es ', VarMBsPlanSurf )\n",
    "print ('La varianza del plan ultimate es ', VarMBsPlanUltimate )"
   ]
  },
  {
   "cell_type": "code",
   "execution_count": 50,
   "metadata": {},
   "outputs": [
    {
     "data": {
      "image/png": "[encoded data removed]",
      "text/plain": [
       "<Figure size 720x432 with 1 Axes>"
      ]
     },
     "metadata": {
      "needs_background": "light"
     },
     "output_type": "display_data"
    },
    {
     "data": {
      "image/png": "[encoded data removed]",
      "text/plain": [
       "<Figure size 720x432 with 1 Axes>"
      ]
     },
     "metadata": {
      "needs_background": "light"
     },
     "output_type": "display_data"
    },
    {
     "data": {
      "image/png": "[encoded data removed]",
      "text/plain": [
       "<Figure size 720x432 with 1 Axes>"
      ]
     },
     "metadata": {
      "needs_background": "light"
     },
     "output_type": "display_data"
    }
   ],
   "source": [
    "#finalmente un boxplot para poder ver la dispesion de los datos. \n",
    "\n",
    "\n",
    "\n",
    "\n",
    "NaNColumnas = ['N_de_llamadas_mes', 'Minutos_mes', 'N_de_mensajes_mes','MB_mes'] \n",
    "DiagramaMB = ConsumoTotalUsuario.sort_values(by = 'mes') # para que el boxplot aparezca en orden\n",
    "\n",
    "#no se porque en el dia anterior este funcionaba y ahora me lo pide declarar de nuevo\n",
    "\n",
    "DiagramaMB[NaNColumnas] = DiagramaMB[NaNColumnas].fillna(0)\n",
    "\n",
    "\n",
    "plt.figure(figsize=(10, 6)) \n",
    "plt.boxplot([DiagramaMB[DiagramaMB['CodigoMes'] == mes]['MB_mes'] for mes in DiagramaMB['CodigoMes'].unique()],\n",
    "            labels=DiagramaMB['CodigoMes'].unique())\n",
    "plt.title('MBs Ambos planes ')\n",
    "plt.xlabel('Mes')\n",
    "plt.ylabel('MBs usados')\n",
    "plt.show() \n",
    "\n",
    "\n",
    "DiagramaSurfMB = PlanSurfAislado.sort_values(by = 'mes') # para que el boxplot aparezca en orden\n",
    "DiagramaSurfMB[NaNColumnas] = DiagramaSurfMB[NaNColumnas].fillna(0)\n",
    "\n",
    "plt.figure(figsize=(10, 6)) \n",
    "plt.boxplot([DiagramaSurfMensajes[DiagramaSurfMensajes['CodigoMes'] == mes]['MB_mes'] for mes in DiagramaSurfMensajes['CodigoMes'].unique()],\n",
    "            labels=DiagramaSurfMensajes['CodigoMes'].unique())\n",
    "plt.title('MBs por mes surf')\n",
    "plt.xlabel('Mes')\n",
    "plt.ylabel('MB usados')\n",
    "plt.show()\n",
    "\n",
    "\n",
    "DiagramaUltimateMB= PlanUltimateAislado.sort_values(by = 'mes') # para que el boxplot aparezca en orden\n",
    "DiagramaUltimateMB[NaNColumnas] = DiagramaUltimateMB[NaNColumnas].fillna(0)\n",
    "\n",
    "plt.figure(figsize=(10, 6)) \n",
    "plt.boxplot([DiagramaUltimateMB[DiagramaUltimateMB['CodigoMes'] == mes]['MB_mes'] for mes in DiagramaUltimateMB['CodigoMes'].unique()],\n",
    "            labels=DiagramaUltimateMB['CodigoMes'].unique())\n",
    "plt.title('MBs por mes ultimate')\n",
    "plt.xlabel('Mes')\n",
    "plt.ylabel('MB usados')\n",
    "plt.show()\n",
    "\n",
    "\n",
    "\n",
    "\n"
   ]
  },
  {
   "cell_type": "markdown",
   "metadata": {},
   "source": [
    "Conclusiones\n",
    "1. Los usarios de surf tiended a usar menos internet que los usuarios de ultimate\n",
    "2. los usuarios de ultimate es menos probable que excedan su limite de datos. \n",
    "3. En fechas decembrinas es cuando hay mas exceso de uso. "
   ]
  },
  {
   "cell_type": "markdown",
   "metadata": {
    "id": "tCijq3260q1N"
   },
   "source": [
    "## Ingreso"
   ]
  },
  {
   "cell_type": "markdown",
   "metadata": {},
   "source": [
    "Con esto sabemos que 2/3 son usuarios surf y el resto ultimate. "
   ]
  },
  {
   "cell_type": "code",
   "execution_count": 51,
   "metadata": {
    "id": "tz-dq_V00q1O"
   },
   "outputs": [
    {
     "data": {
      "image/png": "[encoded data removed]",
      "text/plain": [
       "<Figure size 1296x576 with 1 Axes>"
      ]
     },
     "metadata": {
      "needs_background": "light"
     },
     "output_type": "display_data"
    }
   ],
   "source": [
    "#Ahora calculamos el promedio de ingresos \n",
    "\n",
    "#Para esto vamos a calcular el promedio que genera cada uno. \n",
    "IngresoPlanSurf = PlanSurfAislado.groupby('mes')['IngresoGenerado'].mean()\n",
    "IngresoPlanSurf = IngresoPlanSurf.rename('PlanSurf' )\n",
    "\n",
    "#procedemos a los mismo con el plan ultimate \n",
    "IngresoPlanUltimate = PlanUltimateAislado.groupby('mes')['IngresoGenerado'].mean()\n",
    "IngresoPlanUltimate = IngresoPlanUltimate.rename('PlanUltimate' )\n",
    "\n",
    "\n",
    "\n",
    "IngresoAmbosPlanes = pd.concat([IngresoPlanSurf,IngresoPlanUltimate], axis = 'columns') #juntamos \n",
    "\n",
    "cols = ['PlanSurf', 'PlanUltimate']\n",
    "IngresoAmbosPlanes.plot(   \n",
    "        y = cols, \n",
    "        title='Promedio de Ingreso mensual',\n",
    "        kind = 'bar',\n",
    "        xlabel='Mes ',\n",
    "        ylabel='Ingreso en USD', \n",
    "    figsize=(18, 8))\n",
    "\n",
    "\n",
    "plt.legend(['PlanSurf','PlanUltimate'])\n",
    "\n",
    "plt.show()\n"
   ]
  },
  {
   "cell_type": "markdown",
   "metadata": {},
   "source": [
    "A priori podemos ver que los usuarios de surf es mas comun se pasen del limite de su plan. "
   ]
  },
  {
   "cell_type": "code",
   "execution_count": 52,
   "metadata": {
    "id": "0Y1v8ZUz0q1P"
   },
   "outputs": [
    {
     "name": "stdout",
     "output_type": "stream",
     "text": [
      "La media de los planes en conjunto es 64.09111016136066\n",
      "La media del plan surf es  60.32734621741895\n",
      "La media del plan ultimate es  72.31388888888888\n",
      "La varianza de los planes en conjunto es 2165.348533871458\n",
      "La varianza del plan surf es  3052.013980691246\n",
      "La varianza del plan ultimate es  129.66814043209877\n"
     ]
    }
   ],
   "source": [
    " #En ingresos nos sirve ver cual es el promedio y varianca de cada parte \n",
    "    \n",
    "    \n",
    "MediaIngresoT = ConsumoTotalUsuario['IngresoGenerado'].mean()\n",
    "MediaIngresoSurf = PlanSurfAislado['IngresoGenerado'].mean()\n",
    "MediaIngresoUltimate = PlanUltimateAislado['IngresoGenerado'].mean()\n",
    "#varianzas \n",
    "\n",
    "VarIngresoTCon =np.var(ConsumoTotalUsuario['IngresoGenerado'])\n",
    "VarIngresoSurf = np.var(PlanSurfAislado['IngresoGenerado'])\n",
    "VarIngresoUlti = np.var(PlanUltimateAislado['IngresoGenerado'])\n",
    "\n",
    "\n",
    "\n",
    "#aqui se uso print para que salga mas ordenado\n",
    "print ('La media de los planes en conjunto es', MediaIngresoT )\n",
    "print ('La media del plan surf es ', MediaIngresoSurf )\n",
    "print ('La media del plan ultimate es ', MediaIngresoUltimate )\n",
    "\n",
    "print ('La varianza de los planes en conjunto es', VarIngresoTCon )\n",
    "print ('La varianza del plan surf es ', VarIngresoSurf )\n",
    "print ('La varianza del plan ultimate es ', VarIngresoUlti )\n",
    "    \n",
    "    \n",
    "    "
   ]
  },
  {
   "cell_type": "code",
   "execution_count": 53,
   "metadata": {
    "id": "bYmwxyVh0q1P"
   },
   "outputs": [
    {
     "data": {
      "image/png": "[encoded data removed]",
      "text/plain": [
       "<Figure size 720x432 with 1 Axes>"
      ]
     },
     "metadata": {
      "needs_background": "light"
     },
     "output_type": "display_data"
    },
    {
     "data": {
      "image/png": "[encoded data removed]",
      "text/plain": [
       "<Figure size 720x432 with 1 Axes>"
      ]
     },
     "metadata": {
      "needs_background": "light"
     },
     "output_type": "display_data"
    },
    {
     "data": {
      "image/png": "[encoded data removed]",
      "text/plain": [
       "<Figure size 720x432 with 1 Axes>"
      ]
     },
     "metadata": {
      "needs_background": "light"
     },
     "output_type": "display_data"
    }
   ],
   "source": [
    "#por el tipo de media nos sirve verlos como box plot para evaluar su distribucion \n",
    "\n",
    "\n",
    "DiagramaIngresos = ConsumoTotalUsuario.sort_values(by = 'mes') # para que el boxplot aparezca en orden\n",
    "\n",
    "\n",
    "\n",
    "plt.figure(figsize=(10, 6)) \n",
    "plt.boxplot([DiagramaIngresos[DiagramaIngresos['CodigoMes'] == mes]['IngresoGenerado'] for mes in DiagramaIngresos['CodigoMes'].unique()],\n",
    "            labels=DiagramaIngresos['CodigoMes'].unique())\n",
    "plt.title('Ingresos Ambos planes ')\n",
    "plt.xlabel('Mes')\n",
    "plt.ylabel('Ingreso en  USD')\n",
    "plt.show() \n",
    "\n",
    "\n",
    "DiagramaIngresosSurf = PlanSurfAislado.sort_values(by = 'mes') # para que el boxplot aparezca en orden\n",
    "\n",
    "\n",
    "plt.figure(figsize=(10, 6)) \n",
    "plt.boxplot([DiagramaIngresosSurf[DiagramaIngresosSurf['CodigoMes'] == mes]['IngresoGenerado'] for mes in DiagramaIngresosSurf['CodigoMes'].unique()],\n",
    "            labels=DiagramaIngresosSurf['CodigoMes'].unique())\n",
    "plt.title('Ingreso por mes surf')\n",
    "plt.xlabel('Mes')\n",
    "plt.ylabel('Ingreso en USD')\n",
    "plt.show()\n",
    "\n",
    "\n",
    "DiagramaUltimateIngresos = PlanUltimateAislado.sort_values(by = 'mes') # para que el boxplot aparezca en orden\n",
    "\n",
    "\n",
    "plt.figure(figsize=(10, 6)) \n",
    "plt.boxplot([DiagramaUltimateIngresos[DiagramaUltimateIngresos['CodigoMes'] == mes]['IngresoGenerado'] for mes in DiagramaUltimateIngresos['CodigoMes'].unique()],\n",
    "            labels=DiagramaUltimateIngresos['CodigoMes'].unique())\n",
    "plt.title('ingreso por mes ultimate')\n",
    "plt.xlabel('Mes')\n",
    "plt.ylabel('Ingreso  en USD')\n",
    "plt.show()\n",
    "\n",
    "\n",
    "\n",
    "\n",
    "\n"
   ]
  },
  {
   "cell_type": "markdown",
   "metadata": {},
   "source": [
    "Conclusiones \n",
    "1. Los usuarios de Surf son mas propensos a pasarse del limite de su plan sobre todo en fechas decembrinas y por lo tanto pagar mas\n",
    "2. los usuarios de ultimate rara vez se pasan fuera de algunos outliers cada mes. "
   ]
  },
  {
   "cell_type": "markdown",
   "metadata": {
    "id": "ajJ7VKeI0q1Q"
   },
   "source": [
    "## Prueba las hipótesis estadísticas"
   ]
  },
  {
   "cell_type": "markdown",
   "metadata": {
    "id": "nFoPNlPq0q1R"
   },
   "source": [
    "# Prueba las hipótesis\n",
    "Hipotesis nula: Los ingresos promedio de Ultimate y Surf son iguales.  \n",
    "Hipotesis alternativa: Los ingresos promedio generados popr ultimate y surf son diferentes, una vez ajustados a sus proporciones\n",
    "Aqui lo que buscamos es que el promedio de ingresos es diferente del promedio de otra poblacion estadistica. \n",
    "\n",
    "En esta prueba es necesario hablar del ajuste a proporcion. Como tenemos una muestra de solo 500 personas y tenemos que extrapolar a la poblacion total va a ser necesario calcular la siguiente informacion. \n",
    "1. Cuantos ingresos se generaron en total. \n",
    "2. Cuantos de ese total fueron por surf y por ultimate respectivamente.  \n",
    "Podemos asumir que la muestra que se nos proporciono es equivalente a la poblacion general de 2/3 surf y 1/3 ultimate. \n",
    "Un elemento importante a considerar es cuantos usuarios habia en cada mes. \n"
   ]
  },
  {
   "cell_type": "code",
   "execution_count": 54,
   "metadata": {},
   "outputs": [
    {
     "data": {
      "text/html": [
       "<div>\n",
       "<style scoped>\n",
       "    .dataframe tbody tr th:only-of-type {\n",
       "        vertical-align: middle;\n",
       "    }\n",
       "\n",
       "    .dataframe tbody tr th {\n",
       "        vertical-align: top;\n",
       "    }\n",
       "\n",
       "    .dataframe thead th {\n",
       "        text-align: right;\n",
       "    }\n",
       "</style>\n",
       "<table border=\"1\" class=\"dataframe\">\n",
       "  <thead>\n",
       "    <tr style=\"text-align: right;\">\n",
       "      <th></th>\n",
       "      <th>Usuarios por Mes Surf</th>\n",
       "      <th>Usuarios Por Mes Ultimate</th>\n",
       "      <th>Usuarios Por Mes</th>\n",
       "    </tr>\n",
       "    <tr>\n",
       "      <th>mes</th>\n",
       "      <th></th>\n",
       "      <th></th>\n",
       "      <th></th>\n",
       "    </tr>\n",
       "  </thead>\n",
       "  <tbody>\n",
       "    <tr>\n",
       "      <th>1</th>\n",
       "      <td>2</td>\n",
       "      <td>4</td>\n",
       "      <td>6</td>\n",
       "    </tr>\n",
       "    <tr>\n",
       "      <th>2</th>\n",
       "      <td>9</td>\n",
       "      <td>7</td>\n",
       "      <td>16</td>\n",
       "    </tr>\n",
       "    <tr>\n",
       "      <th>3</th>\n",
       "      <td>23</td>\n",
       "      <td>12</td>\n",
       "      <td>35</td>\n",
       "    </tr>\n",
       "    <tr>\n",
       "      <th>4</th>\n",
       "      <td>50</td>\n",
       "      <td>21</td>\n",
       "      <td>71</td>\n",
       "    </tr>\n",
       "    <tr>\n",
       "      <th>5</th>\n",
       "      <td>77</td>\n",
       "      <td>29</td>\n",
       "      <td>106</td>\n",
       "    </tr>\n",
       "    <tr>\n",
       "      <th>6</th>\n",
       "      <td>97</td>\n",
       "      <td>47</td>\n",
       "      <td>144</td>\n",
       "    </tr>\n",
       "    <tr>\n",
       "      <th>7</th>\n",
       "      <td>121</td>\n",
       "      <td>59</td>\n",
       "      <td>180</td>\n",
       "    </tr>\n",
       "    <tr>\n",
       "      <th>8</th>\n",
       "      <td>162</td>\n",
       "      <td>71</td>\n",
       "      <td>233</td>\n",
       "    </tr>\n",
       "    <tr>\n",
       "      <th>9</th>\n",
       "      <td>194</td>\n",
       "      <td>86</td>\n",
       "      <td>280</td>\n",
       "    </tr>\n",
       "    <tr>\n",
       "      <th>10</th>\n",
       "      <td>237</td>\n",
       "      <td>106</td>\n",
       "      <td>343</td>\n",
       "    </tr>\n",
       "    <tr>\n",
       "      <th>11</th>\n",
       "      <td>283</td>\n",
       "      <td>127</td>\n",
       "      <td>410</td>\n",
       "    </tr>\n",
       "    <tr>\n",
       "      <th>12</th>\n",
       "      <td>318</td>\n",
       "      <td>151</td>\n",
       "      <td>469</td>\n",
       "    </tr>\n",
       "  </tbody>\n",
       "</table>\n",
       "</div>"
      ],
      "text/plain": [
       "     Usuarios por Mes Surf  Usuarios Por Mes Ultimate  Usuarios Por Mes\n",
       "mes                                                                    \n",
       "1                        2                          4                 6\n",
       "2                        9                          7                16\n",
       "3                       23                         12                35\n",
       "4                       50                         21                71\n",
       "5                       77                         29               106\n",
       "6                       97                         47               144\n",
       "7                      121                         59               180\n",
       "8                      162                         71               233\n",
       "9                      194                         86               280\n",
       "10                     237                        106               343\n",
       "11                     283                        127               410\n",
       "12                     318                        151               469"
      ]
     },
     "metadata": {},
     "output_type": "display_data"
    }
   ],
   "source": [
    "#Primero vemos cuantos usuarios tenemos cada mes. \n",
    "\n",
    "#En el caso de los ingresos se tienen que tomar en cuenta varios factores\n",
    "#El primero es cuantos usuarios hay de cada tipo y cuanto generan en promedio cada uno. \n",
    "\n",
    "\n",
    "NUsusariosSurfMes = PlanSurfAislado.groupby('mes')['user_id'].nunique()\n",
    "NUsusariosSurfMes = NUsusariosSurfMes.rename('Usuarios por Mes Surf' )\n",
    "\n",
    "NUsuariosUltimateMes = PlanUltimateAislado.groupby('mes')['user_id'].nunique()\n",
    "NUsuariosUltimateMes = NUsuariosUltimateMes.rename('Usuarios Por Mes Ultimate' )\n",
    "\n",
    "NUsuariosAlMes = ConsumoTotalUsuario.groupby('mes')['user_id'].nunique()\n",
    "NUsuariosAlMes = NUsuariosAlMes.rename('Usuarios Por Mes' )\n",
    "\n",
    "NUsuariosAlMesMer = pd.concat([NUsusariosSurfMes,NUsuariosUltimateMes,NUsuariosAlMes], axis = 'columns') #juntamos \n",
    "\n",
    "\n",
    "display( NUsuariosAlMesMer)\n"
   ]
  },
  {
   "cell_type": "code",
   "execution_count": 55,
   "metadata": {},
   "outputs": [
    {
     "data": {
      "text/html": [
       "<div>\n",
       "<style scoped>\n",
       "    .dataframe tbody tr th:only-of-type {\n",
       "        vertical-align: middle;\n",
       "    }\n",
       "\n",
       "    .dataframe tbody tr th {\n",
       "        vertical-align: top;\n",
       "    }\n",
       "\n",
       "    .dataframe thead th {\n",
       "        text-align: right;\n",
       "    }\n",
       "</style>\n",
       "<table border=\"1\" class=\"dataframe\">\n",
       "  <thead>\n",
       "    <tr style=\"text-align: right;\">\n",
       "      <th></th>\n",
       "      <th>Usuarios por Mes Surf</th>\n",
       "      <th>IngresoGeneradoSurf</th>\n",
       "      <th>Usuarios Por Mes Ultimate</th>\n",
       "      <th>IngresoGeneradoUltimate</th>\n",
       "      <th>Usuarios Por Mes</th>\n",
       "      <th>IngresoTotalGenerado</th>\n",
       "    </tr>\n",
       "    <tr>\n",
       "      <th>mes</th>\n",
       "      <th></th>\n",
       "      <th></th>\n",
       "      <th></th>\n",
       "      <th></th>\n",
       "      <th></th>\n",
       "      <th></th>\n",
       "    </tr>\n",
       "  </thead>\n",
       "  <tbody>\n",
       "    <tr>\n",
       "      <th>1</th>\n",
       "      <td>2</td>\n",
       "      <td>40.0000</td>\n",
       "      <td>4</td>\n",
       "      <td>280.0</td>\n",
       "      <td>6</td>\n",
       "      <td>320.0000</td>\n",
       "    </tr>\n",
       "    <tr>\n",
       "      <th>2</th>\n",
       "      <td>9</td>\n",
       "      <td>308.3106</td>\n",
       "      <td>7</td>\n",
       "      <td>490.0</td>\n",
       "      <td>16</td>\n",
       "      <td>798.3106</td>\n",
       "    </tr>\n",
       "    <tr>\n",
       "      <th>3</th>\n",
       "      <td>23</td>\n",
       "      <td>1053.1760</td>\n",
       "      <td>12</td>\n",
       "      <td>896.0</td>\n",
       "      <td>35</td>\n",
       "      <td>1949.1760</td>\n",
       "    </tr>\n",
       "    <tr>\n",
       "      <th>4</th>\n",
       "      <td>50</td>\n",
       "      <td>2022.7350</td>\n",
       "      <td>21</td>\n",
       "      <td>1533.0</td>\n",
       "      <td>71</td>\n",
       "      <td>3555.7350</td>\n",
       "    </tr>\n",
       "    <tr>\n",
       "      <th>5</th>\n",
       "      <td>77</td>\n",
       "      <td>3637.1069</td>\n",
       "      <td>29</td>\n",
       "      <td>2051.0</td>\n",
       "      <td>106</td>\n",
       "      <td>5688.1069</td>\n",
       "    </tr>\n",
       "    <tr>\n",
       "      <th>6</th>\n",
       "      <td>97</td>\n",
       "      <td>4746.2813</td>\n",
       "      <td>47</td>\n",
       "      <td>3367.0</td>\n",
       "      <td>144</td>\n",
       "      <td>8113.2813</td>\n",
       "    </tr>\n",
       "    <tr>\n",
       "      <th>7</th>\n",
       "      <td>121</td>\n",
       "      <td>7528.8550</td>\n",
       "      <td>59</td>\n",
       "      <td>4242.0</td>\n",
       "      <td>180</td>\n",
       "      <td>11770.8550</td>\n",
       "    </tr>\n",
       "    <tr>\n",
       "      <th>8</th>\n",
       "      <td>162</td>\n",
       "      <td>10298.7550</td>\n",
       "      <td>71</td>\n",
       "      <td>5173.0</td>\n",
       "      <td>233</td>\n",
       "      <td>15471.7550</td>\n",
       "    </tr>\n",
       "    <tr>\n",
       "      <th>9</th>\n",
       "      <td>194</td>\n",
       "      <td>11242.0168</td>\n",
       "      <td>86</td>\n",
       "      <td>6195.0</td>\n",
       "      <td>280</td>\n",
       "      <td>17437.0168</td>\n",
       "    </tr>\n",
       "    <tr>\n",
       "      <th>10</th>\n",
       "      <td>237</td>\n",
       "      <td>15416.0702</td>\n",
       "      <td>106</td>\n",
       "      <td>7665.0</td>\n",
       "      <td>343</td>\n",
       "      <td>23081.0702</td>\n",
       "    </tr>\n",
       "    <tr>\n",
       "      <th>11</th>\n",
       "      <td>283</td>\n",
       "      <td>16308.9542</td>\n",
       "      <td>127</td>\n",
       "      <td>9107.0</td>\n",
       "      <td>410</td>\n",
       "      <td>25415.9542</td>\n",
       "    </tr>\n",
       "    <tr>\n",
       "      <th>12</th>\n",
       "      <td>318</td>\n",
       "      <td>22292.6546</td>\n",
       "      <td>151</td>\n",
       "      <td>11067.0</td>\n",
       "      <td>469</td>\n",
       "      <td>33359.6546</td>\n",
       "    </tr>\n",
       "  </tbody>\n",
       "</table>\n",
       "</div>"
      ],
      "text/plain": [
       "     Usuarios por Mes Surf  IngresoGeneradoSurf  Usuarios Por Mes Ultimate  \\\n",
       "mes                                                                          \n",
       "1                        2              40.0000                          4   \n",
       "2                        9             308.3106                          7   \n",
       "3                       23            1053.1760                         12   \n",
       "4                       50            2022.7350                         21   \n",
       "5                       77            3637.1069                         29   \n",
       "6                       97            4746.2813                         47   \n",
       "7                      121            7528.8550                         59   \n",
       "8                      162           10298.7550                         71   \n",
       "9                      194           11242.0168                         86   \n",
       "10                     237           15416.0702                        106   \n",
       "11                     283           16308.9542                        127   \n",
       "12                     318           22292.6546                        151   \n",
       "\n",
       "     IngresoGeneradoUltimate  Usuarios Por Mes  IngresoTotalGenerado  \n",
       "mes                                                                   \n",
       "1                      280.0                 6              320.0000  \n",
       "2                      490.0                16              798.3106  \n",
       "3                      896.0                35             1949.1760  \n",
       "4                     1533.0                71             3555.7350  \n",
       "5                     2051.0               106             5688.1069  \n",
       "6                     3367.0               144             8113.2813  \n",
       "7                     4242.0               180            11770.8550  \n",
       "8                     5173.0               233            15471.7550  \n",
       "9                     6195.0               280            17437.0168  \n",
       "10                    7665.0               343            23081.0702  \n",
       "11                    9107.0               410            25415.9542  \n",
       "12                   11067.0               469            33359.6546  "
      ]
     },
     "metadata": {},
     "output_type": "display_data"
    }
   ],
   "source": [
    "# El primer paso es ver cuantos ingresos se generaron en total y por separado Surf y ultimate en cada mes. \n",
    "\n",
    "IngresoTotal = ConsumoTotalUsuario.groupby('mes')['IngresoGenerado'].sum() \n",
    "IngresoTotal = IngresoTotal.rename('IngresoTotalGenerado' )\n",
    "IngresoSurf = PlanSurfAislado.groupby('mes')['IngresoGenerado'].sum()\n",
    "IngresoSurf = IngresoSurf.rename('IngresoGeneradoSurf')\n",
    "IngresoUltimate = PlanUltimateAislado.groupby('mes')['IngresoGenerado'].sum()\n",
    "IngresoUltimate = IngresoUltimate.rename('IngresoGeneradoUltimate')\n",
    "                                         \n",
    "                                        \n",
    "IngresoAlMesMer = pd.concat([IngresoSurf,IngresoUltimate,IngresoTotal], axis = 'columns') #juntamos \n",
    "#para el analisis nos sirve tenerlos con los usuarios por mes asi que se junta en una sola tabla ambas. \n",
    "\n",
    "IngresosCompleto= pd.concat([NUsusariosSurfMes, IngresoSurf, NUsuariosUltimateMes, IngresoUltimate,NUsuariosAlMes, IngresoTotal ] , axis = 'columns'        )\n",
    "                                  \n",
    "                                         \n",
    "display(IngresosCompleto )                        \n",
    "                                         \n",
    "\n",
    "\n"
   ]
  },
  {
   "cell_type": "code",
   "execution_count": 56,
   "metadata": {},
   "outputs": [
    {
     "data": {
      "text/html": [
       "<div>\n",
       "<style scoped>\n",
       "    .dataframe tbody tr th:only-of-type {\n",
       "        vertical-align: middle;\n",
       "    }\n",
       "\n",
       "    .dataframe tbody tr th {\n",
       "        vertical-align: top;\n",
       "    }\n",
       "\n",
       "    .dataframe thead th {\n",
       "        text-align: right;\n",
       "    }\n",
       "</style>\n",
       "<table border=\"1\" class=\"dataframe\">\n",
       "  <thead>\n",
       "    <tr style=\"text-align: right;\">\n",
       "      <th></th>\n",
       "      <th>PorcentajeIngresosSurf</th>\n",
       "      <th>PorcentajePobSurf</th>\n",
       "    </tr>\n",
       "    <tr>\n",
       "      <th>mes</th>\n",
       "      <th></th>\n",
       "      <th></th>\n",
       "    </tr>\n",
       "  </thead>\n",
       "  <tbody>\n",
       "    <tr>\n",
       "      <th>1</th>\n",
       "      <td>0.125000</td>\n",
       "      <td>0.333333</td>\n",
       "    </tr>\n",
       "    <tr>\n",
       "      <th>2</th>\n",
       "      <td>0.386204</td>\n",
       "      <td>0.562500</td>\n",
       "    </tr>\n",
       "    <tr>\n",
       "      <th>3</th>\n",
       "      <td>0.540319</td>\n",
       "      <td>0.657143</td>\n",
       "    </tr>\n",
       "    <tr>\n",
       "      <th>4</th>\n",
       "      <td>0.568866</td>\n",
       "      <td>0.704225</td>\n",
       "    </tr>\n",
       "    <tr>\n",
       "      <th>5</th>\n",
       "      <td>0.639423</td>\n",
       "      <td>0.726415</td>\n",
       "    </tr>\n",
       "    <tr>\n",
       "      <th>6</th>\n",
       "      <td>0.585001</td>\n",
       "      <td>0.673611</td>\n",
       "    </tr>\n",
       "    <tr>\n",
       "      <th>7</th>\n",
       "      <td>0.639618</td>\n",
       "      <td>0.672222</td>\n",
       "    </tr>\n",
       "    <tr>\n",
       "      <th>8</th>\n",
       "      <td>0.665649</td>\n",
       "      <td>0.695279</td>\n",
       "    </tr>\n",
       "    <tr>\n",
       "      <th>9</th>\n",
       "      <td>0.644721</td>\n",
       "      <td>0.692857</td>\n",
       "    </tr>\n",
       "    <tr>\n",
       "      <th>10</th>\n",
       "      <td>0.667910</td>\n",
       "      <td>0.690962</td>\n",
       "    </tr>\n",
       "    <tr>\n",
       "      <th>11</th>\n",
       "      <td>0.641682</td>\n",
       "      <td>0.690244</td>\n",
       "    </tr>\n",
       "    <tr>\n",
       "      <th>12</th>\n",
       "      <td>0.668252</td>\n",
       "      <td>0.678038</td>\n",
       "    </tr>\n",
       "  </tbody>\n",
       "</table>\n",
       "</div>"
      ],
      "text/plain": [
       "     PorcentajeIngresosSurf  PorcentajePobSurf\n",
       "mes                                           \n",
       "1                  0.125000           0.333333\n",
       "2                  0.386204           0.562500\n",
       "3                  0.540319           0.657143\n",
       "4                  0.568866           0.704225\n",
       "5                  0.639423           0.726415\n",
       "6                  0.585001           0.673611\n",
       "7                  0.639618           0.672222\n",
       "8                  0.665649           0.695279\n",
       "9                  0.644721           0.692857\n",
       "10                 0.667910           0.690962\n",
       "11                 0.641682           0.690244\n",
       "12                 0.668252           0.678038"
      ]
     },
     "metadata": {},
     "output_type": "display_data"
    }
   ],
   "source": [
    "#porcentaje de la ganancia que corresponde a cada uno. \n",
    "#Aqui lo que buscamos es ver que % del total poblacional representa cada uno. Ya que si bien uno puede dar \n",
    "#mas ingresos que otro, si la proporcion de clientes de cierto plan esta sobrepresentada esto puede indicar un sesgo\n",
    "\n",
    "PorcentajeIngresoDeSurf = IngresosCompleto['IngresoGeneradoSurf']/IngresosCompleto['IngresoTotalGenerado'] \n",
    "PorcentajeIngresoDeSurf = PorcentajeIngresoDeSurf.rename('PorcentajeIngresosSurf' )\n",
    "ProcentajeDeUltimate = 1- PorcentajeIngresoDeSurf \n",
    "PorcenProbSurf =  IngresosCompleto['Usuarios por Mes Surf']/IngresosCompleto['Usuarios Por Mes'] \n",
    "PorcenProbSurf = PorcenProbSurf.rename('PorcentajePobSurf' )\n",
    "\n",
    "PorcentINgresoYPoblacion = pd.concat([PorcentajeIngresoDeSurf,PorcenProbSurf], axis = 'columns')\n",
    "display ( PorcentINgresoYPoblacion)\n"
   ]
  },
  {
   "cell_type": "markdown",
   "metadata": {},
   "source": [
    "Aqui podemos ver que si bien el porcentaje de ingresos total que representa Surf aumenta y despues del segundo mes representa mas del 50% de los ingresos, el numero de clientes que son de Surf igual son mayoria. "
   ]
  },
  {
   "cell_type": "code",
   "execution_count": 57,
   "metadata": {},
   "outputs": [
    {
     "data": {
      "text/html": [
       "<div>\n",
       "<style scoped>\n",
       "    .dataframe tbody tr th:only-of-type {\n",
       "        vertical-align: middle;\n",
       "    }\n",
       "\n",
       "    .dataframe tbody tr th {\n",
       "        vertical-align: top;\n",
       "    }\n",
       "\n",
       "    .dataframe thead th {\n",
       "        text-align: right;\n",
       "    }\n",
       "</style>\n",
       "<table border=\"1\" class=\"dataframe\">\n",
       "  <thead>\n",
       "    <tr style=\"text-align: right;\">\n",
       "      <th></th>\n",
       "      <th>IngresoPromedioSurf</th>\n",
       "      <th>IngresoPromedioUltimate</th>\n",
       "    </tr>\n",
       "    <tr>\n",
       "      <th>mes</th>\n",
       "      <th></th>\n",
       "      <th></th>\n",
       "    </tr>\n",
       "  </thead>\n",
       "  <tbody>\n",
       "    <tr>\n",
       "      <th>1</th>\n",
       "      <td>40.0000</td>\n",
       "      <td>280.0</td>\n",
       "    </tr>\n",
       "    <tr>\n",
       "      <th>2</th>\n",
       "      <td>308.3106</td>\n",
       "      <td>490.0</td>\n",
       "    </tr>\n",
       "    <tr>\n",
       "      <th>3</th>\n",
       "      <td>1053.1760</td>\n",
       "      <td>896.0</td>\n",
       "    </tr>\n",
       "    <tr>\n",
       "      <th>4</th>\n",
       "      <td>2022.7350</td>\n",
       "      <td>1533.0</td>\n",
       "    </tr>\n",
       "    <tr>\n",
       "      <th>5</th>\n",
       "      <td>3637.1069</td>\n",
       "      <td>2051.0</td>\n",
       "    </tr>\n",
       "    <tr>\n",
       "      <th>6</th>\n",
       "      <td>4746.2813</td>\n",
       "      <td>3367.0</td>\n",
       "    </tr>\n",
       "    <tr>\n",
       "      <th>7</th>\n",
       "      <td>7528.8550</td>\n",
       "      <td>4242.0</td>\n",
       "    </tr>\n",
       "    <tr>\n",
       "      <th>8</th>\n",
       "      <td>10298.7550</td>\n",
       "      <td>5173.0</td>\n",
       "    </tr>\n",
       "    <tr>\n",
       "      <th>9</th>\n",
       "      <td>11242.0168</td>\n",
       "      <td>6195.0</td>\n",
       "    </tr>\n",
       "    <tr>\n",
       "      <th>10</th>\n",
       "      <td>15416.0702</td>\n",
       "      <td>7665.0</td>\n",
       "    </tr>\n",
       "    <tr>\n",
       "      <th>11</th>\n",
       "      <td>16308.9542</td>\n",
       "      <td>9107.0</td>\n",
       "    </tr>\n",
       "    <tr>\n",
       "      <th>12</th>\n",
       "      <td>22292.6546</td>\n",
       "      <td>11067.0</td>\n",
       "    </tr>\n",
       "  </tbody>\n",
       "</table>\n",
       "</div>"
      ],
      "text/plain": [
       "     IngresoPromedioSurf  IngresoPromedioUltimate\n",
       "mes                                              \n",
       "1                40.0000                    280.0\n",
       "2               308.3106                    490.0\n",
       "3              1053.1760                    896.0\n",
       "4              2022.7350                   1533.0\n",
       "5              3637.1069                   2051.0\n",
       "6              4746.2813                   3367.0\n",
       "7              7528.8550                   4242.0\n",
       "8             10298.7550                   5173.0\n",
       "9             11242.0168                   6195.0\n",
       "10            15416.0702                   7665.0\n",
       "11            16308.9542                   9107.0\n",
       "12            22292.6546                  11067.0"
      ]
     },
     "metadata": {},
     "output_type": "display_data"
    }
   ],
   "source": [
    "#ahora vamos a calcular los ingresos promedio\n",
    "\n",
    "IngresoTotalMean = ConsumoTotalUsuario.groupby('mes')['IngresoGenerado'].mean() \n",
    "IngresoTotalMean = IngresoTotal.rename('IngresoPromedioGenerado' )\n",
    "IngresoSurfMean = PlanSurfAislado.groupby('mes')['IngresoGenerado'].mean()\n",
    "IngresoSurfMean = IngresoSurf.rename('IngresoPromedioSurf')\n",
    "IngresoUltimateMean = PlanUltimateAislado.groupby('mes')['IngresoGenerado'].mean()\n",
    "IngresoUltimateMean = IngresoUltimate.rename('IngresoPromedioUltimate')\n",
    "\n",
    "PromedioIngresos = pd.concat([IngresoSurfMean,IngresoUltimateMean], axis = 'columns')\n",
    "display ( PromedioIngresos)\n",
    "\n",
    "\n"
   ]
  },
  {
   "cell_type": "code",
   "execution_count": 58,
   "metadata": {},
   "outputs": [
    {
     "data": {
      "text/plain": [
       "0.1461613707723021"
      ]
     },
     "metadata": {},
     "output_type": "display_data"
    },
    {
     "name": "stdout",
     "output_type": "stream",
     "text": [
      "No podemos rechazar la hipótesis nula\n"
     ]
    }
   ],
   "source": [
    "alpha = 0.05 # Elegimos 5% al ser el mas usual en estadistica, y que representa un 5% de rechazar la hipotesis nulla\n",
    "#vamos a usar ttest_ind porque las dos variables son independientes entre si en cuanto a la cantidad de dinero que generan. \n",
    "\n",
    "resultado = st.ttest_ind(IngresosCompleto['IngresoGeneradoSurf'],IngresosCompleto['IngresoGeneradoUltimate'], equal_var =False)\n",
    "display (resultado.pvalue)\n",
    "\n",
    "if resultado.pvalue < alpha: # comparar el valor p con el umbral\n",
    "    print(\"Rechazamos la hipótesis nula\")\n",
    "else:\n",
    "    print(\"No podemos rechazar la hipótesis nula\") \n"
   ]
  },
  {
   "cell_type": "markdown",
   "metadata": {},
   "source": [
    "Conclusion\n",
    "No podemos rechazar la hipotesis nula. Si bien el numero de ingresos que dan los usuarios del plan surf es mayor numericamente y mensualmente representa entre 55 y 60% de todos los ingresos, estos se pueden deber a que hay un mayor numero de usuarios de surf y que en promedio, se pasan de sus limites mensuales. \n",
    "Aun con el exceso de limites la tarifa base de los usuarios Ultimate hace que en proporcion sea equivalente a usuarios surf. \n"
   ]
  },
  {
   "cell_type": "markdown",
   "metadata": {
    "id": "tCcAruM60q1R"
   },
   "source": [
    "[Prueba la hipótesis de que el ingreso promedio de los usuarios del área NY-NJ es diferente al de los usuarios de otras regiones.]"
   ]
  },
  {
   "cell_type": "markdown",
   "metadata": {
    "id": "LsBgitqj0q1R"
   },
   "source": [
    "[Elabora las hipótesis nula y alternativa, escoge la prueba estadística, determina el valor alfa.]"
   ]
  },
  {
   "cell_type": "markdown",
   "metadata": {
    "id": "Cqcj7wrZ0q1S"
   },
   "source": [
    "# Prueba las hipótesis\n",
    "En esta pregunta queremos ver si el ingreso promedio de los usuarios de NY-NJ son diferentes de las otras regiones. Para ello primero creamos una hipotesis nula en la que se dice que los ingresos promedio son iguales, y la hipotesis alternativa en la que decimos que son diferentes. Dada la pregunta no sabemos si diferentes es que sean mayores o menores. \n",
    "\n",
    "Hipotesis nula: Los ingresos promedio de los usuarios de \"New York-Newark-Jersey City, NY-NJ-PA MSA\" son iguales a los de otras regiones.\n",
    "\n",
    "Hipotesis alternativa: Los ingresos promedio generados por los usuarios de Ny-NJ son diferentes a los de otras regiones . \n",
    "Aqui buscamos comparar la poblacion de una region con la de otra por lo que es una hipotesis de la media de una poblacion estadistica es mayor o menor que la media de otras poblaciones estadisticas. En esta caso la media de NY contra las otras. En este caso se hara una prueba de dos colas \n",
    "\n",
    "En esta prueba se debe separar los usuarios de cada region y posteriormente hacer la comparacion. Para ello seguiremos los siguientes pasos: \n",
    "1. Se aisla del data frame los usuarios de cada ciudad y cuanto ingreso generaron. \n",
    "2. se agrupan por el numero de usuarios por ciudad y el ingreso total de esas ciudades. \n",
    "3. Se genera una grafica del ingreso total para poder ver cual es la region con mas ingreso.\n",
    "4. Se saca el promedio de cada region dividiendo entre el numero de usuarios los ingresos totales y se grafica.\n",
    "5. Finalmente se le hace una prueba de dos colas \n"
   ]
  },
  {
   "cell_type": "code",
   "execution_count": 59,
   "metadata": {},
   "outputs": [],
   "source": [
    "#Primero vamos a aislar los usuarios por region\n",
    "#para ello vamos a hacer un data frame usando ConstumoTotalUsuario que es el general pero salvando solo las columnas relevantes\n",
    "#que son user_id, Mes, Plan, INgreso GEnerado \n",
    "\n",
    "ColumnasUsuarios = ['user_id', 'city']\n",
    "ColumnasIngresos = ['user_id', 'mes', 'plan','IngresoGenerado']\n",
    "\n",
    "# Merge data frames on the specified columns\n",
    "#IDConPoblacion = pd.merge(ConsumoTotalUsuario, users, left_on=ColumnasUsuarios )\n",
    "IDConPoblacion = pd.merge(ConsumoTotalUsuario, users[['user_id', 'city']], on='user_id', how='left')\n",
    "#columnas a eliminar\n",
    "ColumnasNoImportantes = ['N_de_llamadas_mes','plan', 'Minutos_mes', 'N_de_mensajes_mes','MB_mes', 'CodigoPlan', 'CodigoMes' ]\n",
    "\n",
    "IDConPoblacion = IDConPoblacion.drop(ColumnasNoImportantes, axis=1)\n",
    "\n"
   ]
  },
  {
   "cell_type": "code",
   "execution_count": 60,
   "metadata": {},
   "outputs": [
    {
     "data": {
      "text/html": [
       "<div>\n",
       "<style scoped>\n",
       "    .dataframe tbody tr th:only-of-type {\n",
       "        vertical-align: middle;\n",
       "    }\n",
       "\n",
       "    .dataframe tbody tr th {\n",
       "        vertical-align: top;\n",
       "    }\n",
       "\n",
       "    .dataframe thead th {\n",
       "        text-align: right;\n",
       "    }\n",
       "</style>\n",
       "<table border=\"1\" class=\"dataframe\">\n",
       "  <thead>\n",
       "    <tr style=\"text-align: right;\">\n",
       "      <th></th>\n",
       "      <th>city</th>\n",
       "      <th>user_id</th>\n",
       "      <th>IngresoGenerado</th>\n",
       "    </tr>\n",
       "  </thead>\n",
       "  <tbody>\n",
       "    <tr>\n",
       "      <th>0</th>\n",
       "      <td>Albany-Schenectady-Troy, NY MSA</td>\n",
       "      <td>1</td>\n",
       "      <td>738.9226</td>\n",
       "    </tr>\n",
       "    <tr>\n",
       "      <th>1</th>\n",
       "      <td>Albuquerque, NM MSA</td>\n",
       "      <td>2</td>\n",
       "      <td>945.3859</td>\n",
       "    </tr>\n",
       "    <tr>\n",
       "      <th>2</th>\n",
       "      <td>Atlanta-Sandy Springs-Roswell, GA MSA</td>\n",
       "      <td>12</td>\n",
       "      <td>3526.2813</td>\n",
       "    </tr>\n",
       "    <tr>\n",
       "      <th>3</th>\n",
       "      <td>Austin-Round Rock-Georgetown, TX MSA</td>\n",
       "      <td>5</td>\n",
       "      <td>1350.8319</td>\n",
       "    </tr>\n",
       "    <tr>\n",
       "      <th>4</th>\n",
       "      <td>Bakersfield, CA MSA</td>\n",
       "      <td>4</td>\n",
       "      <td>390.0000</td>\n",
       "    </tr>\n",
       "    <tr>\n",
       "      <th>...</th>\n",
       "      <td>...</td>\n",
       "      <td>...</td>\n",
       "      <td>...</td>\n",
       "    </tr>\n",
       "    <tr>\n",
       "      <th>68</th>\n",
       "      <td>Tucson, AZ MSA</td>\n",
       "      <td>2</td>\n",
       "      <td>650.0000</td>\n",
       "    </tr>\n",
       "    <tr>\n",
       "      <th>69</th>\n",
       "      <td>Tulsa, OK MSA</td>\n",
       "      <td>2</td>\n",
       "      <td>678.5400</td>\n",
       "    </tr>\n",
       "    <tr>\n",
       "      <th>70</th>\n",
       "      <td>Urban Honolulu, HI MSA</td>\n",
       "      <td>5</td>\n",
       "      <td>2360.4263</td>\n",
       "    </tr>\n",
       "    <tr>\n",
       "      <th>71</th>\n",
       "      <td>Virginia Beach-Norfolk-Newport News, VA-NC MSA</td>\n",
       "      <td>4</td>\n",
       "      <td>390.0000</td>\n",
       "    </tr>\n",
       "    <tr>\n",
       "      <th>72</th>\n",
       "      <td>Washington-Arlington-Alexandria, DC-VA-MD-WV MSA</td>\n",
       "      <td>11</td>\n",
       "      <td>3569.5788</td>\n",
       "    </tr>\n",
       "  </tbody>\n",
       "</table>\n",
       "<p>73 rows × 3 columns</p>\n",
       "</div>"
      ],
      "text/plain": [
       "                                                city  user_id  IngresoGenerado\n",
       "0                    Albany-Schenectady-Troy, NY MSA        1         738.9226\n",
       "1                                Albuquerque, NM MSA        2         945.3859\n",
       "2              Atlanta-Sandy Springs-Roswell, GA MSA       12        3526.2813\n",
       "3               Austin-Round Rock-Georgetown, TX MSA        5        1350.8319\n",
       "4                                Bakersfield, CA MSA        4         390.0000\n",
       "..                                               ...      ...              ...\n",
       "68                                    Tucson, AZ MSA        2         650.0000\n",
       "69                                     Tulsa, OK MSA        2         678.5400\n",
       "70                            Urban Honolulu, HI MSA        5        2360.4263\n",
       "71    Virginia Beach-Norfolk-Newport News, VA-NC MSA        4         390.0000\n",
       "72  Washington-Arlington-Alexandria, DC-VA-MD-WV MSA       11        3569.5788\n",
       "\n",
       "[73 rows x 3 columns]"
      ]
     },
     "metadata": {},
     "output_type": "display_data"
    }
   ],
   "source": [
    "#ahora vamos a agrupar por ciudad para poder comparar. \n",
    "#para esto vamos a usar Agg\n",
    "CiudadIngresoPorMes = IDConPoblacion.groupby(['city','mes']).agg({'user_id': 'nunique', 'IngresoGenerado': 'sum'}).reset_index() \n",
    "CiudadIngresoTotal = IDConPoblacion.groupby('city').agg({'user_id': 'nunique', 'IngresoGenerado': 'sum'}).reset_index() \n",
    "\n",
    "display(CiudadIngresoTotal )"
   ]
  },
  {
   "cell_type": "code",
   "execution_count": 61,
   "metadata": {},
   "outputs": [
    {
     "data": {
      "image/png": "[encoded data removed]",
      "text/plain": [
       "<Figure size 1440x720 with 1 Axes>"
      ]
     },
     "metadata": {
      "needs_background": "light"
     },
     "output_type": "display_data"
    }
   ],
   "source": [
    "\n",
    "CiudadIngresoTotal.plot( \n",
    "    x= 'city',\n",
    "        y = 'IngresoGenerado', \n",
    "        title='Ingresos totales por region',\n",
    "        kind = 'bar',\n",
    "        xlabel='Region ',\n",
    "        ylabel='Ingreso en USD ',\n",
    "         figsize=(20, 10))\n",
    "\n",
    "\n",
    "\n",
    "plt.show()"
   ]
  },
  {
   "cell_type": "markdown",
   "metadata": {},
   "source": [
    "Podemos ver en la grafica que los ingresos de la zona de Nueva York, son mucho mayores que cualquier otra zona individualmente. Ahora la pregunta es sobre le ingreso promedio, para ello tenemos que dividir esos ingresos entre el total de la poblacion para poder asi comparar  "
   ]
  },
  {
   "cell_type": "code",
   "execution_count": 62,
   "metadata": {},
   "outputs": [
    {
     "data": {
      "image/png": "[encoded data removed]",
      "text/plain": [
       "<Figure size 1440x720 with 1 Axes>"
      ]
     },
     "metadata": {
      "needs_background": "light"
     },
     "output_type": "display_data"
    }
   ],
   "source": [
    "#vamos a dividir el total de ingresos entre la poblacion \n",
    "\n",
    "CiudadIngresoTotal['promedio'] = CiudadIngresoTotal['IngresoGenerado']/CiudadIngresoTotal['user_id']\n",
    "\n",
    "\n",
    "CiudadIngresoTotal.plot( \n",
    "    x= 'city',\n",
    "        y = 'promedio', \n",
    "        title='Ingresos promedio por region',\n",
    "        kind = 'bar',\n",
    "        xlabel='Region ',\n",
    "        ylabel='Ingreso en USD ',\n",
    "         figsize=(20, 10))\n",
    "\n",
    "\n",
    "\n",
    "plt.show()\n",
    "\n"
   ]
  },
  {
   "cell_type": "markdown",
   "metadata": {},
   "source": [
    "Podemos ver que cuando se hace la grafica con base a los ingresos promedio nueva york queda al nivel de otras de forma que la region que tiene el mayor numero de ingresos promedio es Colorado Springs. \n",
    "Finalmente haremos una prueba estadistica "
   ]
  },
  {
   "cell_type": "code",
   "execution_count": 63,
   "metadata": {},
   "outputs": [
    {
     "data": {
      "text/plain": [
       "43    0.287803\n",
       "Name: promedio, dtype: float64"
      ]
     },
     "metadata": {},
     "output_type": "display_data"
    }
   ],
   "source": [
    "#primero hacemos una serie con todos menos nueva york \n",
    "PromedioSinNuevaYork = CiudadIngresoTotal[CiudadIngresoTotal['city'] != 'New York-Newark-Jersey City, NY-NJ-PA MSA']\n",
    "NY_NJ_Mean = CiudadIngresoTotal[CiudadIngresoTotal['city'] == 'New York-Newark-Jersey City, NY-NJ-PA MSA']['promedio'] \n",
    "\n",
    "\n",
    "alpha = 0.05  #Elegimos 5% para hacer las pruebas. \n",
    "\n",
    "results = st.ttest_1samp(PromedioSinNuevaYork['promedio'], NY_NJ_Mean)\n",
    "\n",
    "# prueba bilateral : \n",
    "display (results.pvalue)\n",
    "\n",
    "# prueba unilateral a la izquierda:\n",
    "# rechaza la hipótesis solo si la media muestral es significativamente menor que el valor propuesto"
   ]
  },
  {
   "cell_type": "markdown",
   "metadata": {},
   "source": [
    "Nuestro valor de P es mucho mayor que el alpha, por lo que no podemos rechazar la hipotesis nula. Esto coincide con lo visto en la grafica de promedio donde vemos que la media de nueva york es similar a la de otras regiones. "
   ]
  },
  {
   "cell_type": "markdown",
   "metadata": {
    "id": "bbTR8UQO0q1T"
   },
   "source": [
    "## Conclusión general\n",
    "\n",
    "[En esta sección final, enumera tus conclusiones importantes. Asegúrate de que estas abarquen todas las decisiones (suposiciones) importantes que adoptaste y que determinaron la forma elegida para procesar y analizar los datos.]"
   ]
  },
  {
   "cell_type": "markdown",
   "metadata": {},
   "source": [
    "Para este estudio se utilizaron 500 datos de usuarios. Se limpiaron las bases de datos, se compaginaron y analizaron de forma individual el comportamiento de llamadas, mensajes, internet, e ingresos. Se realizaron pruebas de hipotesis para ver si habia diferencia entre el promedio de ingresos de ambos planes y luego se reviso por region comparando la region de Ny-NJ con las otras se pueden llegar a las siguientes conclusiones:  de limpiar las bases de datos, analizar y compaginar la informacion. Se pueden llegar a las siguientes conclusiones: \n",
    "1. Los usuarios de Surf son en promedio, mas propensos a pasarse del limite de sus planes. Esto lo vemos en llamadas, mensajes e internet donde habia mas usuarios que se pasaban de los que les otorgaba el plan. \n",
    "2. Asi mismo comparando con los usuarios de ultimate, el uso de datos, mensajes y llamadas era similar en cuanto al numero. \n",
    "3. Los usuarios de Surf representan un mayor porcentaje de ingresos para la empresa pero son cerca del 60% de los usuarios. Cuando ajustamos a la proporcion de usuarios con el % de ingresos, el promedio de ingresos de ambos planes es similar. \n",
    "4. En cuanto al calculo de regiones, los usuarios de Ny-NJ representan un mayor numero de ingresos en total pero al promediarlo con otras regiones con el numero de usuarios, su ingreso promedio es similar al de otras regiones. \n",
    "5. Un factor importante en los datos es el bajo numero de usuarios a principios de anio. Esto ocasiona que los calculos de los meses de Enero a Abril sean con pocos usuarios mientras que los de los ultimos meses sean ya con la poblacion completa. "
   ]
  }
 ],
 "metadata": {
  "ExecuteTimeLog": [
   {
    "duration": 828,
    "start_time": "2021-11-16T09:21:11.304Z"
   },
   {
    "duration": 893,
    "start_time": "2021-11-16T09:21:17.728Z"
   },
   {
    "duration": 1150,
    "start_time": "2021-11-16T09:21:29.568Z"
   },
   {
    "duration": 3,
    "start_time": "2021-11-16T09:24:14.495Z"
   },
   {
    "duration": 120,
    "start_time": "2021-11-16T09:24:46.630Z"
   },
   {
    "duration": 3,
    "start_time": "2021-11-16T09:28:27.882Z"
   },
   {
    "duration": 4,
    "start_time": "2021-11-16T09:29:54.281Z"
   },
   {
    "duration": 3,
    "start_time": "2021-11-16T09:30:45.936Z"
   },
   {
    "duration": 4,
    "start_time": "2021-11-16T09:31:06.300Z"
   },
   {
    "duration": 113,
    "start_time": "2021-11-16T09:31:37.208Z"
   },
   {
    "duration": 143,
    "start_time": "2021-11-16T09:31:48.656Z"
   },
   {
    "duration": 98,
    "start_time": "2021-11-16T09:31:55.678Z"
   },
   {
    "duration": 3,
    "start_time": "2021-11-16T09:32:08.535Z"
   },
   {
    "duration": 111,
    "start_time": "2021-11-16T09:32:10.120Z"
   },
   {
    "duration": 3,
    "start_time": "2021-11-16T09:32:15.732Z"
   },
   {
    "duration": 4,
    "start_time": "2021-11-16T09:32:29.423Z"
   },
   {
    "duration": 3,
    "start_time": "2021-11-16T10:03:03.074Z"
   },
   {
    "duration": 3,
    "start_time": "2021-11-16T10:10:01.288Z"
   },
   {
    "duration": 3,
    "start_time": "2021-11-16T10:10:46.923Z"
   },
   {
    "duration": 121,
    "start_time": "2021-11-16T10:37:46.494Z"
   },
   {
    "duration": 125,
    "start_time": "2021-11-16T10:38:20.632Z"
   },
   {
    "duration": 112,
    "start_time": "2021-11-16T10:46:53.001Z"
   },
   {
    "duration": 110,
    "start_time": "2021-11-16T10:48:25.775Z"
   },
   {
    "duration": 3,
    "start_time": "2021-11-16T10:50:18.720Z"
   },
   {
    "duration": 4,
    "start_time": "2021-11-16T10:50:37.649Z"
   },
   {
    "duration": 2,
    "start_time": "2021-11-16T10:50:51.884Z"
   },
   {
    "duration": 3,
    "start_time": "2021-11-16T10:51:56.237Z"
   },
   {
    "duration": 101,
    "start_time": "2021-11-16T10:53:13.791Z"
   },
   {
    "duration": 3,
    "start_time": "2021-11-16T10:55:59.186Z"
   },
   {
    "duration": 3,
    "start_time": "2021-11-16T10:56:10.751Z"
   },
   {
    "duration": 3,
    "start_time": "2021-11-16T10:56:49.038Z"
   },
   {
    "duration": 3,
    "start_time": "2021-11-16T10:56:49.174Z"
   },
   {
    "duration": 4,
    "start_time": "2021-11-16T10:56:49.414Z"
   },
   {
    "duration": 3,
    "start_time": "2021-11-16T10:56:49.680Z"
   },
   {
    "duration": 3,
    "start_time": "2021-11-16T10:56:50.370Z"
   },
   {
    "duration": 114,
    "start_time": "2021-11-16T10:59:34.518Z"
   },
   {
    "duration": 3,
    "start_time": "2021-11-16T11:01:41.201Z"
   },
   {
    "duration": 116,
    "start_time": "2021-11-16T11:01:48.754Z"
   },
   {
    "duration": 3,
    "start_time": "2021-11-16T11:02:16.685Z"
   },
   {
    "duration": 3,
    "start_time": "2021-11-16T11:02:19.479Z"
   },
   {
    "duration": 3,
    "start_time": "2021-11-16T11:02:47.067Z"
   },
   {
    "duration": 3,
    "start_time": "2021-11-16T11:02:49.353Z"
   },
   {
    "duration": 3,
    "start_time": "2021-11-16T11:03:07.835Z"
   },
   {
    "duration": 3,
    "start_time": "2021-11-16T11:03:07.953Z"
   },
   {
    "duration": 112,
    "start_time": "2021-11-16T11:07:52.072Z"
   },
   {
    "duration": 187,
    "start_time": "2021-11-16T11:09:23.468Z"
   },
   {
    "duration": 4,
    "start_time": "2021-11-16T11:10:01.455Z"
   },
   {
    "duration": 3,
    "start_time": "2021-11-16T11:10:05.069Z"
   },
   {
    "duration": 4,
    "start_time": "2021-11-16T11:10:13.376Z"
   },
   {
    "duration": 3,
    "start_time": "2021-11-16T11:10:14.434Z"
   },
   {
    "duration": 3,
    "start_time": "2021-11-16T11:10:22.853Z"
   },
   {
    "duration": 4,
    "start_time": "2021-11-16T11:27:29.279Z"
   },
   {
    "duration": 4,
    "start_time": "2021-11-16T11:29:08.919Z"
   },
   {
    "duration": 118,
    "start_time": "2021-11-16T11:29:46.703Z"
   },
   {
    "duration": 437,
    "start_time": "2021-11-16T11:36:02.181Z"
   },
   {
    "duration": 157,
    "start_time": "2021-11-16T11:36:14.388Z"
   },
   {
    "duration": 207,
    "start_time": "2021-11-16T11:47:15.898Z"
   },
   {
    "duration": 3,
    "start_time": "2021-11-16T11:53:52.092Z"
   },
   {
    "duration": 3,
    "start_time": "2021-11-16T11:53:52.236Z"
   },
   {
    "duration": 3,
    "start_time": "2021-11-16T11:59:12.005Z"
   },
   {
    "duration": 112,
    "start_time": "2021-11-16T12:00:33.446Z"
   },
   {
    "duration": 3,
    "start_time": "2021-11-16T12:02:14.453Z"
   },
   {
    "duration": 3,
    "start_time": "2021-11-16T12:02:39.512Z"
   },
   {
    "duration": 106,
    "start_time": "2021-11-16T12:03:03.460Z"
   },
   {
    "duration": 3,
    "start_time": "2021-11-17T20:37:21.139Z"
   },
   {
    "duration": 3,
    "start_time": "2021-11-17T20:37:22.229Z"
   },
   {
    "duration": 3,
    "start_time": "2021-11-17T20:38:38.806Z"
   },
   {
    "duration": 3,
    "start_time": "2021-11-17T20:38:41.958Z"
   },
   {
    "duration": 3,
    "start_time": "2021-11-17T20:43:46.551Z"
   },
   {
    "duration": 4,
    "start_time": "2021-11-17T20:58:21.835Z"
   },
   {
    "duration": 3,
    "start_time": "2021-11-17T20:59:21.872Z"
   },
   {
    "duration": 4,
    "start_time": "2021-11-17T20:59:45.352Z"
   },
   {
    "duration": 4,
    "start_time": "2021-11-17T20:59:49.646Z"
   },
   {
    "duration": 159,
    "start_time": "2021-11-17T21:02:26.949Z"
   },
   {
    "duration": 3,
    "start_time": "2021-11-17T21:03:53.461Z"
   },
   {
    "duration": 3,
    "start_time": "2021-11-17T21:03:53.694Z"
   },
   {
    "duration": 3,
    "start_time": "2021-11-17T21:05:28.145Z"
   },
   {
    "duration": 116,
    "start_time": "2021-11-17T21:05:57.787Z"
   },
   {
    "duration": 3,
    "start_time": "2021-11-17T21:06:37.993Z"
   },
   {
    "duration": 3,
    "start_time": "2021-11-17T21:06:38.261Z"
   },
   {
    "duration": 3,
    "start_time": "2021-11-17T21:11:54.358Z"
   },
   {
    "duration": 3,
    "start_time": "2021-11-17T21:12:43.846Z"
   },
   {
    "duration": 4,
    "start_time": "2021-11-17T21:13:08.773Z"
   },
   {
    "duration": 3,
    "start_time": "2021-11-17T21:14:44.441Z"
   },
   {
    "duration": 3,
    "start_time": "2021-11-17T21:15:42.059Z"
   },
   {
    "duration": 4,
    "start_time": "2021-11-17T21:15:51.995Z"
   },
   {
    "duration": 3,
    "start_time": "2021-11-17T21:15:53.923Z"
   },
   {
    "duration": 3,
    "start_time": "2021-11-17T21:15:55.282Z"
   },
   {
    "duration": 3,
    "start_time": "2021-11-17T21:16:28.492Z"
   },
   {
    "duration": 3,
    "start_time": "2021-11-17T21:16:32.603Z"
   },
   {
    "duration": 3,
    "start_time": "2021-11-17T21:17:06.941Z"
   },
   {
    "duration": 98,
    "start_time": "2021-11-17T21:18:05.733Z"
   },
   {
    "duration": 4,
    "start_time": "2021-11-17T21:21:35.255Z"
   },
   {
    "duration": 3,
    "start_time": "2021-11-17T21:21:37.804Z"
   },
   {
    "duration": 4,
    "start_time": "2021-11-17T21:23:06.071Z"
   },
   {
    "duration": 3,
    "start_time": "2021-11-17T21:23:24.799Z"
   },
   {
    "duration": 3,
    "start_time": "2021-11-17T21:23:32.591Z"
   },
   {
    "duration": 98,
    "start_time": "2021-11-17T21:28:31.559Z"
   },
   {
    "duration": 3,
    "start_time": "2021-11-17T21:28:45.448Z"
   },
   {
    "duration": 3,
    "start_time": "2021-11-17T21:29:17.303Z"
   },
   {
    "duration": 3,
    "start_time": "2021-11-17T21:29:29.617Z"
   },
   {
    "duration": 3,
    "start_time": "2021-11-17T21:29:32.681Z"
   },
   {
    "duration": 3,
    "start_time": "2021-11-17T21:36:11.474Z"
   },
   {
    "duration": 3,
    "start_time": "2021-11-17T21:36:14.791Z"
   },
   {
    "duration": 3,
    "start_time": "2021-11-17T21:36:53.943Z"
   },
   {
    "duration": 3,
    "start_time": "2021-11-17T21:36:56.165Z"
   },
   {
    "duration": 4,
    "start_time": "2021-11-17T21:37:16.590Z"
   },
   {
    "duration": 3,
    "start_time": "2021-11-17T21:37:22.702Z"
   },
   {
    "duration": 4,
    "start_time": "2021-11-17T21:38:03.479Z"
   },
   {
    "duration": 3,
    "start_time": "2021-11-17T21:38:08.601Z"
   },
   {
    "duration": 3,
    "start_time": "2021-11-17T21:38:12.928Z"
   },
   {
    "duration": 3,
    "start_time": "2021-11-17T21:38:48.896Z"
   },
   {
    "duration": 2,
    "start_time": "2021-11-17T21:38:49.171Z"
   },
   {
    "duration": 4,
    "start_time": "2021-11-17T21:39:57.889Z"
   },
   {
    "duration": 3,
    "start_time": "2021-11-17T21:39:58.057Z"
   },
   {
    "duration": 3,
    "start_time": "2021-11-17T21:41:20.108Z"
   },
   {
    "duration": 3,
    "start_time": "2021-11-17T21:41:20.629Z"
   },
   {
    "duration": 3,
    "start_time": "2021-11-17T21:42:49.136Z"
   },
   {
    "duration": 3,
    "start_time": "2021-11-17T21:43:15.137Z"
   },
   {
    "duration": 4,
    "start_time": "2021-11-17T21:43:16.766Z"
   },
   {
    "duration": 4,
    "start_time": "2021-11-17T21:43:31.711Z"
   },
   {
    "duration": 3,
    "start_time": "2021-11-17T21:43:36.312Z"
   },
   {
    "duration": 4,
    "start_time": "2021-11-17T21:45:08.825Z"
   },
   {
    "duration": 4,
    "start_time": "2021-11-17T21:45:10.119Z"
   },
   {
    "duration": 4,
    "start_time": "2021-11-17T21:45:13.748Z"
   },
   {
    "duration": 3,
    "start_time": "2021-11-17T21:45:22.219Z"
   },
   {
    "duration": 3,
    "start_time": "2021-11-17T21:45:33.412Z"
   },
   {
    "duration": 2,
    "start_time": "2021-11-17T21:46:01.885Z"
   },
   {
    "duration": 3,
    "start_time": "2021-11-17T21:46:03.628Z"
   },
   {
    "duration": 107,
    "start_time": "2021-11-17T21:47:32.512Z"
   },
   {
    "duration": 103,
    "start_time": "2021-11-17T21:50:36.243Z"
   },
   {
    "duration": 3,
    "start_time": "2021-11-18T06:28:31.440Z"
   },
   {
    "duration": 3,
    "start_time": "2021-11-18T06:29:00.168Z"
   },
   {
    "duration": 3,
    "start_time": "2021-11-18T06:31:27.008Z"
   },
   {
    "duration": 2,
    "start_time": "2021-11-18T06:35:34.288Z"
   },
   {
    "duration": 2,
    "start_time": "2021-11-18T06:38:04.527Z"
   }
  ],
  "colab": {
   "provenance": []
  },
  "kernelspec": {
   "display_name": "Python 3 (ipykernel)",
   "language": "python",
   "name": "python3"
  },
  "language_info": {
   "codemirror_mode": {
    "name": "ipython",
    "version": 3
   },
   "file_extension": ".py",
   "mimetype": "text/x-python",
   "name": "python",
   "nbconvert_exporter": "python",
   "pygments_lexer": "ipython3",
   "version": "3.11.5"
  },
  "toc": {
   "base_numbering": 1,
   "nav_menu": {},
   "number_sections": true,
   "sideBar": true,
   "skip_h1_title": false,
   "title_cell": "Table of Contents",
   "title_sidebar": "Contents",
   "toc_cell": false,
   "toc_position": {
    "height": "calc(100% - 180px)",
    "left": "10px",
    "top": "150px",
    "width": "410.66px"
   },
   "toc_section_display": true,
   "toc_window_display": true
  }
 },
 "nbformat": 4,
 "nbformat_minor": 1
}
