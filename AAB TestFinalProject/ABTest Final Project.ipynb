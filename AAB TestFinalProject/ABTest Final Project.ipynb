{
 "cells": [
  {
   "cell_type": "markdown",
   "id": "3ad6b1ee",
   "metadata": {},
   "source": [
    "### AABTest Project\n",
    "The present project is based on an AAB analysis. We have a data base of the user behaviour, separated in three categories, group A, and group A, to compare them in an A/A test and group B \n",
    "We have the to analyze the sales funnel, and draw conclusions based on that information. \n",
    "the steps we are going to take are: \n",
    "1. check the data base and clean them if necesary\n",
    "2. Do a preliminary analysis to check if there are any anomalies in the data\n",
    "3. Check the events, number of users, average activity\n",
    "4. check the event funnel. draw conclusions.\n",
    "5. check the AB test "
   ]
  },
  {
   "cell_type": "markdown",
   "id": "dde97948",
   "metadata": {},
   "source": [
    "## Data import and initial clean\n",
    "We import the databbases and then we"
   ]
  },
  {
   "cell_type": "code",
   "execution_count": 1,
   "id": "af377a8a",
   "metadata": {},
   "outputs": [],
   "source": [
    "from scipy import stats as st\n",
    "import pandas as pd\n",
    "from matplotlib import pyplot as plt \n",
    "import numpy as np\n",
    "import math\n",
    "import seaborn as sns"
   ]
  },
  {
   "cell_type": "code",
   "execution_count": 2,
   "id": "cae61e33",
   "metadata": {},
   "outputs": [],
   "source": [
    "#Import the dataset\n",
    "#if downloaded from github use the below line \n",
    "#AABTestRaw =  pd.read_csv('logs_exp_us.csv', sep='\\s+')\n",
    "\n",
    "AABTestRaw =  pd.read_csv('/datasets/logs_exp_us.csv', sep='\\s+')\n"
   ]
  },
  {
   "cell_type": "code",
   "execution_count": 3,
   "id": "a7a69a04",
   "metadata": {},
   "outputs": [
    {
     "name": "stdout",
     "output_type": "stream",
     "text": [
      "<class 'pandas.core.frame.DataFrame'>\n",
      "RangeIndex: 244126 entries, 0 to 244125\n",
      "Data columns (total 4 columns):\n",
      " #   Column          Non-Null Count   Dtype \n",
      "---  ------          --------------   ----- \n",
      " 0   EventName       244126 non-null  object\n",
      " 1   DeviceIDHash    244126 non-null  int64 \n",
      " 2   EventTimestamp  244126 non-null  int64 \n",
      " 3   ExpId           244126 non-null  int64 \n",
      "dtypes: int64(3), object(1)\n",
      "memory usage: 7.5+ MB\n"
     ]
    },
    {
     "data": {
      "text/html": [
       "<div>\n",
       "<style scoped>\n",
       "    .dataframe tbody tr th:only-of-type {\n",
       "        vertical-align: middle;\n",
       "    }\n",
       "\n",
       "    .dataframe tbody tr th {\n",
       "        vertical-align: top;\n",
       "    }\n",
       "\n",
       "    .dataframe thead th {\n",
       "        text-align: right;\n",
       "    }\n",
       "</style>\n",
       "<table border=\"1\" class=\"dataframe\">\n",
       "  <thead>\n",
       "    <tr style=\"text-align: right;\">\n",
       "      <th></th>\n",
       "      <th>EventName</th>\n",
       "      <th>DeviceIDHash</th>\n",
       "      <th>EventTimestamp</th>\n",
       "      <th>ExpId</th>\n",
       "    </tr>\n",
       "  </thead>\n",
       "  <tbody>\n",
       "    <tr>\n",
       "      <th>0</th>\n",
       "      <td>MainScreenAppear</td>\n",
       "      <td>4575588528974610257</td>\n",
       "      <td>1564029816</td>\n",
       "      <td>246</td>\n",
       "    </tr>\n",
       "    <tr>\n",
       "      <th>1</th>\n",
       "      <td>MainScreenAppear</td>\n",
       "      <td>7416695313311560658</td>\n",
       "      <td>1564053102</td>\n",
       "      <td>246</td>\n",
       "    </tr>\n",
       "    <tr>\n",
       "      <th>2</th>\n",
       "      <td>PaymentScreenSuccessful</td>\n",
       "      <td>3518123091307005509</td>\n",
       "      <td>1564054127</td>\n",
       "      <td>248</td>\n",
       "    </tr>\n",
       "    <tr>\n",
       "      <th>3</th>\n",
       "      <td>CartScreenAppear</td>\n",
       "      <td>3518123091307005509</td>\n",
       "      <td>1564054127</td>\n",
       "      <td>248</td>\n",
       "    </tr>\n",
       "    <tr>\n",
       "      <th>4</th>\n",
       "      <td>PaymentScreenSuccessful</td>\n",
       "      <td>6217807653094995999</td>\n",
       "      <td>1564055322</td>\n",
       "      <td>248</td>\n",
       "    </tr>\n",
       "    <tr>\n",
       "      <th>5</th>\n",
       "      <td>CartScreenAppear</td>\n",
       "      <td>6217807653094995999</td>\n",
       "      <td>1564055323</td>\n",
       "      <td>248</td>\n",
       "    </tr>\n",
       "    <tr>\n",
       "      <th>6</th>\n",
       "      <td>OffersScreenAppear</td>\n",
       "      <td>8351860793733343758</td>\n",
       "      <td>1564066242</td>\n",
       "      <td>246</td>\n",
       "    </tr>\n",
       "    <tr>\n",
       "      <th>7</th>\n",
       "      <td>MainScreenAppear</td>\n",
       "      <td>5682100281902512875</td>\n",
       "      <td>1564085677</td>\n",
       "      <td>246</td>\n",
       "    </tr>\n",
       "    <tr>\n",
       "      <th>8</th>\n",
       "      <td>MainScreenAppear</td>\n",
       "      <td>1850981295691852772</td>\n",
       "      <td>1564086702</td>\n",
       "      <td>247</td>\n",
       "    </tr>\n",
       "    <tr>\n",
       "      <th>9</th>\n",
       "      <td>MainScreenAppear</td>\n",
       "      <td>5407636962369102641</td>\n",
       "      <td>1564112112</td>\n",
       "      <td>246</td>\n",
       "    </tr>\n",
       "  </tbody>\n",
       "</table>\n",
       "</div>"
      ],
      "text/plain": [
       "                 EventName         DeviceIDHash  EventTimestamp  ExpId\n",
       "0         MainScreenAppear  4575588528974610257      1564029816    246\n",
       "1         MainScreenAppear  7416695313311560658      1564053102    246\n",
       "2  PaymentScreenSuccessful  3518123091307005509      1564054127    248\n",
       "3         CartScreenAppear  3518123091307005509      1564054127    248\n",
       "4  PaymentScreenSuccessful  6217807653094995999      1564055322    248\n",
       "5         CartScreenAppear  6217807653094995999      1564055323    248\n",
       "6       OffersScreenAppear  8351860793733343758      1564066242    246\n",
       "7         MainScreenAppear  5682100281902512875      1564085677    246\n",
       "8         MainScreenAppear  1850981295691852772      1564086702    247\n",
       "9         MainScreenAppear  5407636962369102641      1564112112    246"
      ]
     },
     "metadata": {},
     "output_type": "display_data"
    }
   ],
   "source": [
    "# initial visualization \n",
    "AABTestRaw.info(show_counts = True)\n",
    "display (AABTestRaw.head(10))"
   ]
  },
  {
   "cell_type": "markdown",
   "id": "6d818dbd",
   "metadata": {},
   "source": [
    "We don't have any null values, so far, the timestamp is in INT and in seconds so we need to convert that. We also want a column for the date and another for the day hour "
   ]
  },
  {
   "cell_type": "code",
   "execution_count": 4,
   "id": "4b5a3c52",
   "metadata": {},
   "outputs": [
    {
     "name": "stdout",
     "output_type": "stream",
     "text": [
      "<class 'pandas.core.frame.DataFrame'>\n",
      "RangeIndex: 244126 entries, 0 to 244125\n",
      "Data columns (total 6 columns):\n",
      " #   Column     Non-Null Count   Dtype         \n",
      "---  ------     --------------   -----         \n",
      " 0   EventName  244126 non-null  object        \n",
      " 1   DeviceID   244126 non-null  int64         \n",
      " 2   EventTime  244126 non-null  datetime64[ns]\n",
      " 3   group      244126 non-null  int64         \n",
      " 4   Date       244126 non-null  object        \n",
      " 5   DayHour    244126 non-null  object        \n",
      "dtypes: datetime64[ns](1), int64(2), object(3)\n",
      "memory usage: 11.2+ MB\n"
     ]
    },
    {
     "data": {
      "text/html": [
       "<div>\n",
       "<style scoped>\n",
       "    .dataframe tbody tr th:only-of-type {\n",
       "        vertical-align: middle;\n",
       "    }\n",
       "\n",
       "    .dataframe tbody tr th {\n",
       "        vertical-align: top;\n",
       "    }\n",
       "\n",
       "    .dataframe thead th {\n",
       "        text-align: right;\n",
       "    }\n",
       "</style>\n",
       "<table border=\"1\" class=\"dataframe\">\n",
       "  <thead>\n",
       "    <tr style=\"text-align: right;\">\n",
       "      <th></th>\n",
       "      <th>EventName</th>\n",
       "      <th>DeviceID</th>\n",
       "      <th>EventTime</th>\n",
       "      <th>group</th>\n",
       "      <th>Date</th>\n",
       "      <th>DayHour</th>\n",
       "    </tr>\n",
       "  </thead>\n",
       "  <tbody>\n",
       "    <tr>\n",
       "      <th>0</th>\n",
       "      <td>MainScreenAppear</td>\n",
       "      <td>4575588528974610257</td>\n",
       "      <td>2019-07-25 04:43:36</td>\n",
       "      <td>246</td>\n",
       "      <td>2019-07-25</td>\n",
       "      <td>25 04:43</td>\n",
       "    </tr>\n",
       "    <tr>\n",
       "      <th>1</th>\n",
       "      <td>MainScreenAppear</td>\n",
       "      <td>7416695313311560658</td>\n",
       "      <td>2019-07-25 11:11:42</td>\n",
       "      <td>246</td>\n",
       "      <td>2019-07-25</td>\n",
       "      <td>25 11:11</td>\n",
       "    </tr>\n",
       "    <tr>\n",
       "      <th>2</th>\n",
       "      <td>PaymentScreenSuccessful</td>\n",
       "      <td>3518123091307005509</td>\n",
       "      <td>2019-07-25 11:28:47</td>\n",
       "      <td>248</td>\n",
       "      <td>2019-07-25</td>\n",
       "      <td>25 11:28</td>\n",
       "    </tr>\n",
       "    <tr>\n",
       "      <th>3</th>\n",
       "      <td>CartScreenAppear</td>\n",
       "      <td>3518123091307005509</td>\n",
       "      <td>2019-07-25 11:28:47</td>\n",
       "      <td>248</td>\n",
       "      <td>2019-07-25</td>\n",
       "      <td>25 11:28</td>\n",
       "    </tr>\n",
       "    <tr>\n",
       "      <th>4</th>\n",
       "      <td>PaymentScreenSuccessful</td>\n",
       "      <td>6217807653094995999</td>\n",
       "      <td>2019-07-25 11:48:42</td>\n",
       "      <td>248</td>\n",
       "      <td>2019-07-25</td>\n",
       "      <td>25 11:48</td>\n",
       "    </tr>\n",
       "    <tr>\n",
       "      <th>5</th>\n",
       "      <td>CartScreenAppear</td>\n",
       "      <td>6217807653094995999</td>\n",
       "      <td>2019-07-25 11:48:43</td>\n",
       "      <td>248</td>\n",
       "      <td>2019-07-25</td>\n",
       "      <td>25 11:48</td>\n",
       "    </tr>\n",
       "    <tr>\n",
       "      <th>6</th>\n",
       "      <td>OffersScreenAppear</td>\n",
       "      <td>8351860793733343758</td>\n",
       "      <td>2019-07-25 14:50:42</td>\n",
       "      <td>246</td>\n",
       "      <td>2019-07-25</td>\n",
       "      <td>25 14:50</td>\n",
       "    </tr>\n",
       "    <tr>\n",
       "      <th>7</th>\n",
       "      <td>MainScreenAppear</td>\n",
       "      <td>5682100281902512875</td>\n",
       "      <td>2019-07-25 20:14:37</td>\n",
       "      <td>246</td>\n",
       "      <td>2019-07-25</td>\n",
       "      <td>25 20:14</td>\n",
       "    </tr>\n",
       "    <tr>\n",
       "      <th>8</th>\n",
       "      <td>MainScreenAppear</td>\n",
       "      <td>1850981295691852772</td>\n",
       "      <td>2019-07-25 20:31:42</td>\n",
       "      <td>247</td>\n",
       "      <td>2019-07-25</td>\n",
       "      <td>25 20:31</td>\n",
       "    </tr>\n",
       "    <tr>\n",
       "      <th>9</th>\n",
       "      <td>MainScreenAppear</td>\n",
       "      <td>5407636962369102641</td>\n",
       "      <td>2019-07-26 03:35:12</td>\n",
       "      <td>246</td>\n",
       "      <td>2019-07-26</td>\n",
       "      <td>26 03:35</td>\n",
       "    </tr>\n",
       "  </tbody>\n",
       "</table>\n",
       "</div>"
      ],
      "text/plain": [
       "                 EventName             DeviceID           EventTime  group  \\\n",
       "0         MainScreenAppear  4575588528974610257 2019-07-25 04:43:36    246   \n",
       "1         MainScreenAppear  7416695313311560658 2019-07-25 11:11:42    246   \n",
       "2  PaymentScreenSuccessful  3518123091307005509 2019-07-25 11:28:47    248   \n",
       "3         CartScreenAppear  3518123091307005509 2019-07-25 11:28:47    248   \n",
       "4  PaymentScreenSuccessful  6217807653094995999 2019-07-25 11:48:42    248   \n",
       "5         CartScreenAppear  6217807653094995999 2019-07-25 11:48:43    248   \n",
       "6       OffersScreenAppear  8351860793733343758 2019-07-25 14:50:42    246   \n",
       "7         MainScreenAppear  5682100281902512875 2019-07-25 20:14:37    246   \n",
       "8         MainScreenAppear  1850981295691852772 2019-07-25 20:31:42    247   \n",
       "9         MainScreenAppear  5407636962369102641 2019-07-26 03:35:12    246   \n",
       "\n",
       "         Date   DayHour  \n",
       "0  2019-07-25  25 04:43  \n",
       "1  2019-07-25  25 11:11  \n",
       "2  2019-07-25  25 11:28  \n",
       "3  2019-07-25  25 11:28  \n",
       "4  2019-07-25  25 11:48  \n",
       "5  2019-07-25  25 11:48  \n",
       "6  2019-07-25  25 14:50  \n",
       "7  2019-07-25  25 20:14  \n",
       "8  2019-07-25  25 20:31  \n",
       "9  2019-07-26  26 03:35  "
      ]
     },
     "metadata": {},
     "output_type": "display_data"
    }
   ],
   "source": [
    "# we change the name of the device and timestamp \n",
    "\n",
    "AABTestRaw.rename(columns={'DeviceIDHash': 'DeviceID', 'EventTimestamp': 'EventTime', 'ExpId'\n",
    ": 'group'}, inplace=True)\n",
    "\n",
    "#We convert to datetime \n",
    "AABTestRaw['EventTime'] = pd.to_datetime(AABTestRaw['EventTime'], unit = 's' )\n",
    "#We create two new columns one for day and one for hours \n",
    "\n",
    "AABTestRaw['Date'] = AABTestRaw['EventTime'].dt.date\n",
    "AABTestRaw['DayHour'] = AABTestRaw['EventTime'].dt.strftime('%d %H:%M')\n",
    "\n",
    "AABTestRaw.info(show_counts = True)\n",
    "display (AABTestRaw.head(10))"
   ]
  },
  {
   "cell_type": "code",
   "execution_count": 5,
   "id": "aab2178d",
   "metadata": {},
   "outputs": [
    {
     "data": {
      "text/plain": [
       "413"
      ]
     },
     "metadata": {},
     "output_type": "display_data"
    }
   ],
   "source": [
    "#we check for duplicates, since we need them to be repeated on three columns to prevent false duplicates ( such as events that \n",
    "#happened on the same day but from different devivces) we use the subset of those three columns \n",
    "duplicates = AABTestRaw.duplicated(subset=['EventName','DeviceID','EventTime'])\n",
    "display (duplicates.sum())\n",
    "#we do have some duplicates so we remove them \n",
    "AABTestRaw.drop_duplicates(subset=['EventName','DeviceID','EventTime'],inplace=True )\n"
   ]
  },
  {
   "cell_type": "code",
   "execution_count": 6,
   "id": "0441ea23",
   "metadata": {},
   "outputs": [
    {
     "name": "stdout",
     "output_type": "stream",
     "text": [
      "<class 'pandas.core.frame.DataFrame'>\n",
      "Index: 243713 entries, 0 to 244125\n",
      "Data columns (total 6 columns):\n",
      " #   Column     Non-Null Count   Dtype         \n",
      "---  ------     --------------   -----         \n",
      " 0   EventName  243713 non-null  object        \n",
      " 1   DeviceID   243713 non-null  int64         \n",
      " 2   EventTime  243713 non-null  datetime64[ns]\n",
      " 3   group      243713 non-null  int64         \n",
      " 4   Date       243713 non-null  object        \n",
      " 5   DayHour    243713 non-null  object        \n",
      "dtypes: datetime64[ns](1), int64(2), object(3)\n",
      "memory usage: 13.0+ MB\n"
     ]
    },
    {
     "data": {
      "text/html": [
       "<div>\n",
       "<style scoped>\n",
       "    .dataframe tbody tr th:only-of-type {\n",
       "        vertical-align: middle;\n",
       "    }\n",
       "\n",
       "    .dataframe tbody tr th {\n",
       "        vertical-align: top;\n",
       "    }\n",
       "\n",
       "    .dataframe thead th {\n",
       "        text-align: right;\n",
       "    }\n",
       "</style>\n",
       "<table border=\"1\" class=\"dataframe\">\n",
       "  <thead>\n",
       "    <tr style=\"text-align: right;\">\n",
       "      <th></th>\n",
       "      <th>EventName</th>\n",
       "      <th>DeviceID</th>\n",
       "      <th>EventTime</th>\n",
       "      <th>group</th>\n",
       "      <th>Date</th>\n",
       "      <th>DayHour</th>\n",
       "    </tr>\n",
       "  </thead>\n",
       "  <tbody>\n",
       "    <tr>\n",
       "      <th>0</th>\n",
       "      <td>MainScreenAppear</td>\n",
       "      <td>4575588528974610257</td>\n",
       "      <td>2019-07-25 04:43:36</td>\n",
       "      <td>246</td>\n",
       "      <td>2019-07-25</td>\n",
       "      <td>25 04:43</td>\n",
       "    </tr>\n",
       "    <tr>\n",
       "      <th>1</th>\n",
       "      <td>MainScreenAppear</td>\n",
       "      <td>7416695313311560658</td>\n",
       "      <td>2019-07-25 11:11:42</td>\n",
       "      <td>246</td>\n",
       "      <td>2019-07-25</td>\n",
       "      <td>25 11:11</td>\n",
       "    </tr>\n",
       "    <tr>\n",
       "      <th>2</th>\n",
       "      <td>PaymentScreenSuccessful</td>\n",
       "      <td>3518123091307005509</td>\n",
       "      <td>2019-07-25 11:28:47</td>\n",
       "      <td>248</td>\n",
       "      <td>2019-07-25</td>\n",
       "      <td>25 11:28</td>\n",
       "    </tr>\n",
       "    <tr>\n",
       "      <th>3</th>\n",
       "      <td>CartScreenAppear</td>\n",
       "      <td>3518123091307005509</td>\n",
       "      <td>2019-07-25 11:28:47</td>\n",
       "      <td>248</td>\n",
       "      <td>2019-07-25</td>\n",
       "      <td>25 11:28</td>\n",
       "    </tr>\n",
       "    <tr>\n",
       "      <th>4</th>\n",
       "      <td>PaymentScreenSuccessful</td>\n",
       "      <td>6217807653094995999</td>\n",
       "      <td>2019-07-25 11:48:42</td>\n",
       "      <td>248</td>\n",
       "      <td>2019-07-25</td>\n",
       "      <td>25 11:48</td>\n",
       "    </tr>\n",
       "    <tr>\n",
       "      <th>5</th>\n",
       "      <td>CartScreenAppear</td>\n",
       "      <td>6217807653094995999</td>\n",
       "      <td>2019-07-25 11:48:43</td>\n",
       "      <td>248</td>\n",
       "      <td>2019-07-25</td>\n",
       "      <td>25 11:48</td>\n",
       "    </tr>\n",
       "    <tr>\n",
       "      <th>6</th>\n",
       "      <td>OffersScreenAppear</td>\n",
       "      <td>8351860793733343758</td>\n",
       "      <td>2019-07-25 14:50:42</td>\n",
       "      <td>246</td>\n",
       "      <td>2019-07-25</td>\n",
       "      <td>25 14:50</td>\n",
       "    </tr>\n",
       "    <tr>\n",
       "      <th>7</th>\n",
       "      <td>MainScreenAppear</td>\n",
       "      <td>5682100281902512875</td>\n",
       "      <td>2019-07-25 20:14:37</td>\n",
       "      <td>246</td>\n",
       "      <td>2019-07-25</td>\n",
       "      <td>25 20:14</td>\n",
       "    </tr>\n",
       "    <tr>\n",
       "      <th>8</th>\n",
       "      <td>MainScreenAppear</td>\n",
       "      <td>1850981295691852772</td>\n",
       "      <td>2019-07-25 20:31:42</td>\n",
       "      <td>247</td>\n",
       "      <td>2019-07-25</td>\n",
       "      <td>25 20:31</td>\n",
       "    </tr>\n",
       "    <tr>\n",
       "      <th>9</th>\n",
       "      <td>MainScreenAppear</td>\n",
       "      <td>5407636962369102641</td>\n",
       "      <td>2019-07-26 03:35:12</td>\n",
       "      <td>246</td>\n",
       "      <td>2019-07-26</td>\n",
       "      <td>26 03:35</td>\n",
       "    </tr>\n",
       "  </tbody>\n",
       "</table>\n",
       "</div>"
      ],
      "text/plain": [
       "                 EventName             DeviceID           EventTime  group  \\\n",
       "0         MainScreenAppear  4575588528974610257 2019-07-25 04:43:36    246   \n",
       "1         MainScreenAppear  7416695313311560658 2019-07-25 11:11:42    246   \n",
       "2  PaymentScreenSuccessful  3518123091307005509 2019-07-25 11:28:47    248   \n",
       "3         CartScreenAppear  3518123091307005509 2019-07-25 11:28:47    248   \n",
       "4  PaymentScreenSuccessful  6217807653094995999 2019-07-25 11:48:42    248   \n",
       "5         CartScreenAppear  6217807653094995999 2019-07-25 11:48:43    248   \n",
       "6       OffersScreenAppear  8351860793733343758 2019-07-25 14:50:42    246   \n",
       "7         MainScreenAppear  5682100281902512875 2019-07-25 20:14:37    246   \n",
       "8         MainScreenAppear  1850981295691852772 2019-07-25 20:31:42    247   \n",
       "9         MainScreenAppear  5407636962369102641 2019-07-26 03:35:12    246   \n",
       "\n",
       "         Date   DayHour  \n",
       "0  2019-07-25  25 04:43  \n",
       "1  2019-07-25  25 11:11  \n",
       "2  2019-07-25  25 11:28  \n",
       "3  2019-07-25  25 11:28  \n",
       "4  2019-07-25  25 11:48  \n",
       "5  2019-07-25  25 11:48  \n",
       "6  2019-07-25  25 14:50  \n",
       "7  2019-07-25  25 20:14  \n",
       "8  2019-07-25  25 20:31  \n",
       "9  2019-07-26  26 03:35  "
      ]
     },
     "metadata": {},
     "output_type": "display_data"
    }
   ],
   "source": [
    "#we check the now cleaned database \n",
    "AABTestRaw.info(show_counts = True)\n",
    "display (AABTestRaw.head(10))"
   ]
  },
  {
   "cell_type": "markdown",
   "id": "6e823837",
   "metadata": {},
   "source": [
    "We lost 413 data rows from a total 244126 which amounts to less than 0.01 % "
   ]
  },
  {
   "cell_type": "markdown",
   "id": "d298cf47",
   "metadata": {},
   "source": [
    "First analysis of the data \n",
    "We want to find out the following: \n",
    "1. how many events\n",
    "2. how many users\n",
    "3. average number of events per user\n",
    "4. timeframe of the data \n"
   ]
  },
  {
   "cell_type": "code",
   "execution_count": 7,
   "id": "2ddf0a19",
   "metadata": {},
   "outputs": [],
   "source": [
    "#we clone the data base, if we make any mistakes we can just go back and clone it again. \n",
    "AABFirst = AABTestRaw "
   ]
  },
  {
   "cell_type": "code",
   "execution_count": 8,
   "id": "677910e2",
   "metadata": {},
   "outputs": [
    {
     "data": {
      "text/plain": [
       "array(['MainScreenAppear', 'PaymentScreenSuccessful', 'CartScreenAppear',\n",
       "       'OffersScreenAppear', 'Tutorial'], dtype=object)"
      ]
     },
     "metadata": {},
     "output_type": "display_data"
    },
    {
     "data": {
      "text/plain": [
       "'Number of unique users:'"
      ]
     },
     "metadata": {},
     "output_type": "display_data"
    },
    {
     "data": {
      "text/plain": [
       "7551"
      ]
     },
     "metadata": {},
     "output_type": "display_data"
    },
    {
     "data": {
      "text/plain": [
       "'Average number of events per user:'"
      ]
     },
     "metadata": {},
     "output_type": "display_data"
    },
    {
     "data": {
      "text/plain": [
       "32.27559263673685"
      ]
     },
     "metadata": {},
     "output_type": "display_data"
    }
   ],
   "source": [
    "# count number of events, users and average number of events per user . \n",
    "\n",
    "#events \n",
    "Events = AABFirst['EventName'].unique()\n",
    "display( Events)\n",
    "\n",
    "#unique users \n",
    "UniqueUsersCount = AABFirst['DeviceID'].nunique()\n",
    "display (\"Number of unique users:\", UniqueUsersCount)\n",
    "\n",
    "#Average number of events \n",
    "AverageEventsUser = AABFirst.groupby('DeviceID')['EventName'].count().mean()\n",
    "display(\"Average number of events per user:\", AverageEventsUser)\n",
    "\n",
    "\n"
   ]
  },
  {
   "cell_type": "markdown",
   "id": "1a2af8f7",
   "metadata": {},
   "source": [
    "We have five different events, 7551 users and an average of 32 events per users. \n",
    "We need to check the funnel of the events to better categorize them "
   ]
  },
  {
   "cell_type": "code",
   "execution_count": 9,
   "id": "982e5831",
   "metadata": {},
   "outputs": [
    {
     "data": {
      "text/plain": [
       "'Minimum date:'"
      ]
     },
     "metadata": {},
     "output_type": "display_data"
    },
    {
     "data": {
      "text/plain": [
       "datetime.date(2019, 7, 25)"
      ]
     },
     "metadata": {},
     "output_type": "display_data"
    },
    {
     "data": {
      "text/plain": [
       "'Maximum date:'"
      ]
     },
     "metadata": {},
     "output_type": "display_data"
    },
    {
     "data": {
      "text/plain": [
       "datetime.date(2019, 8, 7)"
      ]
     },
     "metadata": {},
     "output_type": "display_data"
    },
    {
     "data": {
      "image/png": "[encoded data removed]",
      "text/plain": [
       "<Figure size 1800x600 with 1 Axes>"
      ]
     },
     "metadata": {},
     "output_type": "display_data"
    }
   ],
   "source": [
    "MinDate = AABFirst['Date'].min()\n",
    "MaxDate = AABFirst['Date'].max()\n",
    "display(\"Minimum date:\", MinDate)\n",
    "display (\"Maximum date:\", MaxDate)\n",
    "\n",
    "# reate a histogram of Date\n",
    "plt.figure(figsize=(18, 6))\n",
    "AABFirst['Date'].hist(bins=24, color='skyblue', edgecolor='black')\n",
    "plt.title('Histogram of dates')\n",
    "plt.xlabel('DayHour')\n",
    "plt.ylabel('Frequency')\n",
    "plt.grid(False)\n",
    "plt.show()"
   ]
  },
  {
   "cell_type": "markdown",
   "id": "495fc85c",
   "metadata": {},
   "source": [
    "We see that the data starts being relevant  on the first of august, so we can drop all the data from before that time. "
   ]
  },
  {
   "cell_type": "code",
   "execution_count": 10,
   "id": "70e298ac",
   "metadata": {},
   "outputs": [
    {
     "data": {
      "image/png": "[encoded data removed]",
      "text/plain": [
       "<Figure size 1800x600 with 1 Axes>"
      ]
     },
     "metadata": {},
     "output_type": "display_data"
    }
   ],
   "source": [
    "#we drop the data and then visualize again \n",
    "AABFirst['Date'] = pd.to_datetime(AABFirst['Date'])\n",
    "AABCleaned =  AABFirst[AABFirst['Date'] >= '2019-08-01']\n",
    "\n",
    "plt.figure(figsize=(18, 6))\n",
    "AABCleaned['Date'].hist(bins=24, color='skyblue', edgecolor='black')\n",
    "plt.title('Histogram of dates')\n",
    "plt.xlabel('DayHour')\n",
    "plt.ylabel('Frequency')\n",
    "plt.grid(False)\n",
    "plt.show()"
   ]
  },
  {
   "cell_type": "markdown",
   "id": "0367e0cb",
   "metadata": {},
   "source": [
    "We had 244126 and we ended with 240887 so we only loose 3239 data points which amounts to a little over 0.01%. The data is still workable, we only have 7 days of data to compare for the AB tests "
   ]
  },
  {
   "cell_type": "code",
   "execution_count": 11,
   "id": "23ca7a10",
   "metadata": {},
   "outputs": [
    {
     "data": {
      "text/plain": [
       "group\n",
       "248    2537\n",
       "247    2513\n",
       "246    2484\n",
       "Name: count, dtype: int64"
      ]
     },
     "metadata": {},
     "output_type": "display_data"
    }
   ],
   "source": [
    "#We verify we have people from each group \n",
    "UniquePerGroup = AABCleaned.drop_duplicates(subset=['DeviceID', 'group'])\n",
    "\n",
    "UniqueUseCounts = UniquePerGroup['group'].value_counts()\n",
    "\n",
    "display (UniqueUseCounts)"
   ]
  },
  {
   "cell_type": "markdown",
   "id": "d7d0dc0d",
   "metadata": {},
   "source": [
    "We have aproximately 2500 users per group. "
   ]
  },
  {
   "cell_type": "markdown",
   "id": "bb0509a3",
   "metadata": {},
   "source": [
    "Now we can start checking for the activity Funnel \n",
    "\n"
   ]
  },
  {
   "cell_type": "code",
   "execution_count": 12,
   "id": "cb748068",
   "metadata": {},
   "outputs": [
    {
     "data": {
      "text/html": [
       "<div>\n",
       "<style scoped>\n",
       "    .dataframe tbody tr th:only-of-type {\n",
       "        vertical-align: middle;\n",
       "    }\n",
       "\n",
       "    .dataframe tbody tr th {\n",
       "        vertical-align: top;\n",
       "    }\n",
       "\n",
       "    .dataframe thead th {\n",
       "        text-align: right;\n",
       "    }\n",
       "</style>\n",
       "<table border=\"1\" class=\"dataframe\">\n",
       "  <thead>\n",
       "    <tr style=\"text-align: right;\">\n",
       "      <th></th>\n",
       "      <th>EventName</th>\n",
       "      <th>DeviceID</th>\n",
       "      <th>EventTime</th>\n",
       "      <th>group</th>\n",
       "      <th>Date</th>\n",
       "      <th>DayHour</th>\n",
       "    </tr>\n",
       "  </thead>\n",
       "  <tbody>\n",
       "    <tr>\n",
       "      <th>2828</th>\n",
       "      <td>Tutorial</td>\n",
       "      <td>3737462046622621720</td>\n",
       "      <td>2019-08-01 00:07:28</td>\n",
       "      <td>246</td>\n",
       "      <td>2019-08-01</td>\n",
       "      <td>01 00:07</td>\n",
       "    </tr>\n",
       "    <tr>\n",
       "      <th>2829</th>\n",
       "      <td>MainScreenAppear</td>\n",
       "      <td>3737462046622621720</td>\n",
       "      <td>2019-08-01 00:08:00</td>\n",
       "      <td>246</td>\n",
       "      <td>2019-08-01</td>\n",
       "      <td>01 00:08</td>\n",
       "    </tr>\n",
       "    <tr>\n",
       "      <th>2830</th>\n",
       "      <td>MainScreenAppear</td>\n",
       "      <td>3737462046622621720</td>\n",
       "      <td>2019-08-01 00:08:55</td>\n",
       "      <td>246</td>\n",
       "      <td>2019-08-01</td>\n",
       "      <td>01 00:08</td>\n",
       "    </tr>\n",
       "    <tr>\n",
       "      <th>2831</th>\n",
       "      <td>OffersScreenAppear</td>\n",
       "      <td>3737462046622621720</td>\n",
       "      <td>2019-08-01 00:08:58</td>\n",
       "      <td>246</td>\n",
       "      <td>2019-08-01</td>\n",
       "      <td>01 00:08</td>\n",
       "    </tr>\n",
       "    <tr>\n",
       "      <th>2832</th>\n",
       "      <td>MainScreenAppear</td>\n",
       "      <td>1433840883824088890</td>\n",
       "      <td>2019-08-01 00:08:59</td>\n",
       "      <td>247</td>\n",
       "      <td>2019-08-01</td>\n",
       "      <td>01 00:08</td>\n",
       "    </tr>\n",
       "    <tr>\n",
       "      <th>...</th>\n",
       "      <td>...</td>\n",
       "      <td>...</td>\n",
       "      <td>...</td>\n",
       "      <td>...</td>\n",
       "      <td>...</td>\n",
       "      <td>...</td>\n",
       "    </tr>\n",
       "    <tr>\n",
       "      <th>244121</th>\n",
       "      <td>MainScreenAppear</td>\n",
       "      <td>4599628364049201812</td>\n",
       "      <td>2019-08-07 21:12:25</td>\n",
       "      <td>247</td>\n",
       "      <td>2019-08-07</td>\n",
       "      <td>07 21:12</td>\n",
       "    </tr>\n",
       "    <tr>\n",
       "      <th>244122</th>\n",
       "      <td>MainScreenAppear</td>\n",
       "      <td>5849806612437486590</td>\n",
       "      <td>2019-08-07 21:13:59</td>\n",
       "      <td>246</td>\n",
       "      <td>2019-08-07</td>\n",
       "      <td>07 21:13</td>\n",
       "    </tr>\n",
       "    <tr>\n",
       "      <th>244123</th>\n",
       "      <td>MainScreenAppear</td>\n",
       "      <td>5746969938801999050</td>\n",
       "      <td>2019-08-07 21:14:43</td>\n",
       "      <td>246</td>\n",
       "      <td>2019-08-07</td>\n",
       "      <td>07 21:14</td>\n",
       "    </tr>\n",
       "    <tr>\n",
       "      <th>244124</th>\n",
       "      <td>MainScreenAppear</td>\n",
       "      <td>5746969938801999050</td>\n",
       "      <td>2019-08-07 21:14:58</td>\n",
       "      <td>246</td>\n",
       "      <td>2019-08-07</td>\n",
       "      <td>07 21:14</td>\n",
       "    </tr>\n",
       "    <tr>\n",
       "      <th>244125</th>\n",
       "      <td>OffersScreenAppear</td>\n",
       "      <td>5746969938801999050</td>\n",
       "      <td>2019-08-07 21:15:17</td>\n",
       "      <td>246</td>\n",
       "      <td>2019-08-07</td>\n",
       "      <td>07 21:15</td>\n",
       "    </tr>\n",
       "  </tbody>\n",
       "</table>\n",
       "<p>240887 rows × 6 columns</p>\n",
       "</div>"
      ],
      "text/plain": [
       "                 EventName             DeviceID           EventTime  group  \\\n",
       "2828              Tutorial  3737462046622621720 2019-08-01 00:07:28    246   \n",
       "2829      MainScreenAppear  3737462046622621720 2019-08-01 00:08:00    246   \n",
       "2830      MainScreenAppear  3737462046622621720 2019-08-01 00:08:55    246   \n",
       "2831    OffersScreenAppear  3737462046622621720 2019-08-01 00:08:58    246   \n",
       "2832      MainScreenAppear  1433840883824088890 2019-08-01 00:08:59    247   \n",
       "...                    ...                  ...                 ...    ...   \n",
       "244121    MainScreenAppear  4599628364049201812 2019-08-07 21:12:25    247   \n",
       "244122    MainScreenAppear  5849806612437486590 2019-08-07 21:13:59    246   \n",
       "244123    MainScreenAppear  5746969938801999050 2019-08-07 21:14:43    246   \n",
       "244124    MainScreenAppear  5746969938801999050 2019-08-07 21:14:58    246   \n",
       "244125  OffersScreenAppear  5746969938801999050 2019-08-07 21:15:17    246   \n",
       "\n",
       "             Date   DayHour  \n",
       "2828   2019-08-01  01 00:07  \n",
       "2829   2019-08-01  01 00:08  \n",
       "2830   2019-08-01  01 00:08  \n",
       "2831   2019-08-01  01 00:08  \n",
       "2832   2019-08-01  01 00:08  \n",
       "...           ...       ...  \n",
       "244121 2019-08-07  07 21:12  \n",
       "244122 2019-08-07  07 21:13  \n",
       "244123 2019-08-07  07 21:14  \n",
       "244124 2019-08-07  07 21:14  \n",
       "244125 2019-08-07  07 21:15  \n",
       "\n",
       "[240887 rows x 6 columns]"
      ]
     },
     "metadata": {},
     "output_type": "display_data"
    }
   ],
   "source": [
    "#we uye the cleaned version \n",
    "AABCFunnel =AABCleaned\n",
    "display (AABCFunnel)"
   ]
  },
  {
   "cell_type": "code",
   "execution_count": 13,
   "id": "e2583692",
   "metadata": {},
   "outputs": [
    {
     "data": {
      "text/plain": [
       "EventName\n",
       "MainScreenAppear           117328\n",
       "OffersScreenAppear          46333\n",
       "CartScreenAppear            42303\n",
       "PaymentScreenSuccessful     33918\n",
       "Tutorial                     1005\n",
       "Name: count, dtype: int64"
      ]
     },
     "metadata": {},
     "output_type": "display_data"
    },
    {
     "data": {
      "image/png": "[encoded data removed]",
      "text/plain": [
       "<Figure size 1000x600 with 1 Axes>"
      ]
     },
     "metadata": {},
     "output_type": "display_data"
    }
   ],
   "source": [
    "#first we get the events and their frequency \n",
    "\n",
    "EventFreq = AABCFunnel['EventName'].value_counts()\n",
    "\n",
    "display ( EventFreq)\n",
    "plt.figure(figsize=(10, 6))\n",
    "EventFreq.plot(kind='bar', color='skyblue')\n",
    "plt.title('EventName Frequency')\n",
    "plt.xlabel('EventName')\n",
    "plt.ylabel('Frequency')\n",
    "plt.xticks(rotation=45) \n",
    "plt.tight_layout()\n",
    "plt.show()\n",
    "\n"
   ]
  },
  {
   "cell_type": "code",
   "execution_count": 14,
   "id": "3c9c0b4b",
   "metadata": {},
   "outputs": [
    {
     "data": {
      "text/plain": [
       "EventName\n",
       "MainScreenAppear           7419\n",
       "OffersScreenAppear         4593\n",
       "CartScreenAppear           3734\n",
       "PaymentScreenSuccessful    3539\n",
       "Tutorial                    840\n",
       "Name: DeviceID, dtype: int64"
      ]
     },
     "metadata": {},
     "output_type": "display_data"
    },
    {
     "data": {
      "image/png": "[encoded data removed]",
      "text/plain": [
       "<Figure size 1000x600 with 1 Axes>"
      ]
     },
     "metadata": {},
     "output_type": "display_data"
    }
   ],
   "source": [
    "UniqueUsersPerEvent = AABCFunnel.groupby('EventName')['DeviceID'].nunique().sort_values(ascending=False)\n",
    "display( UniqueUsersPerEvent)\n",
    "\n",
    "plt.figure(figsize=(10, 6))\n",
    "UniqueUsersPerEvent.plot(kind='bar', color='skyblue')\n",
    "plt.title('Unique Users per EventName')\n",
    "plt.xlabel('EventName')\n",
    "plt.ylabel('Number of Unique Users')\n",
    "plt.xticks(rotation=45) \n",
    "plt.tight_layout()\n",
    "plt.show()"
   ]
  },
  {
   "cell_type": "markdown",
   "id": "1802c0dd",
   "metadata": {},
   "source": [
    "Based on the number of unique users per event we can elucidate that the funnel is \n",
    "1. Main screen appear > offer screen appear > cartscreen appear>  Payment succesful\n",
    "The odd one is tutorial but we can infer that not all users use the tutorial so that event is not relevant to the funnel. \n",
    "MainScreenAppear', 'PaymentScreenSuccessful', 'CartScreenAppear',\n",
    "       'OffersScreenAppear', 'Tutorial'], dtype=object)"
   ]
  },
  {
   "cell_type": "code",
   "execution_count": 15,
   "id": "ed234617",
   "metadata": {},
   "outputs": [
    {
     "data": {
      "text/plain": [
       "EventName\n",
       "MainScreenAppear           7419\n",
       "OffersScreenAppear         4593\n",
       "CartScreenAppear           3734\n",
       "PaymentScreenSuccessful    3539\n",
       "Tutorial                    840\n",
       "Name: DeviceID, dtype: int64"
      ]
     },
     "metadata": {},
     "output_type": "display_data"
    }
   ],
   "source": [
    "display( UniqueUsersPerEvent)"
   ]
  },
  {
   "cell_type": "code",
   "execution_count": null,
   "id": "05a46650",
   "metadata": {},
   "outputs": [],
   "source": []
  },
  {
   "cell_type": "code",
   "execution_count": 16,
   "id": "a51c61ef",
   "metadata": {},
   "outputs": [
    {
     "data": {
      "text/plain": [
       "61.908613020622724"
      ]
     },
     "metadata": {},
     "output_type": "display_data"
    },
    {
     "data": {
      "text/plain": [
       "81.29762682342695"
      ]
     },
     "metadata": {},
     "output_type": "display_data"
    },
    {
     "data": {
      "text/plain": [
       "94.7777182645956"
      ]
     },
     "metadata": {},
     "output_type": "display_data"
    }
   ],
   "source": [
    "firstStep = (UniqueUsersPerEvent['OffersScreenAppear']/UniqueUsersPerEvent['MainScreenAppear'])*100\n",
    "SecondStep = (UniqueUsersPerEvent['CartScreenAppear']/UniqueUsersPerEvent['OffersScreenAppear'])*100\n",
    "ThirdStep = (UniqueUsersPerEvent['PaymentScreenSuccessful']/UniqueUsersPerEvent['CartScreenAppear'])*100\n",
    "\n",
    "\n",
    "display (firstStep)\n",
    "display (SecondStep)\n",
    "display (ThirdStep)"
   ]
  },
  {
   "cell_type": "markdown",
   "id": "eac91006",
   "metadata": {},
   "source": [
    "analysis\n",
    "We see that we had 7419 unique visitors. From those 4593 saw the offer and 3734 reached the cart but only 3539 paid. The percentages in each step are:\n",
    "Visitors to offer : 62% \n",
    "retention Offer to cart: 81% \n",
    "Cart to paid: 94% \n",
    "The point where we lost the most customers was in the mian screen to offer \n",
    "\n",
    "Aproximetely 47% of the uses make the full funnel."
   ]
  },
  {
   "cell_type": "markdown",
   "id": "e1c38825",
   "metadata": {},
   "source": [
    "## Aqui utilice otro metodo y los resultados salieron diferentes, quisiera entender porque "
   ]
  },
  {
   "cell_type": "code",
   "execution_count": 17,
   "id": "31488b5c",
   "metadata": {},
   "outputs": [
    {
     "data": {
      "text/plain": [
       "'Vistiors:'"
      ]
     },
     "metadata": {},
     "output_type": "display_data"
    },
    {
     "data": {
      "text/plain": [
       "7419"
      ]
     },
     "metadata": {},
     "output_type": "display_data"
    },
    {
     "data": {
      "text/plain": [
       "'Saw the offer:'"
      ]
     },
     "metadata": {},
     "output_type": "display_data"
    },
    {
     "data": {
      "text/plain": [
       "4201"
      ]
     },
     "metadata": {},
     "output_type": "display_data"
    },
    {
     "data": {
      "text/plain": [
       "'Saw the cart:'"
      ]
     },
     "metadata": {},
     "output_type": "display_data"
    },
    {
     "data": {
      "text/plain": [
       "1767"
      ]
     },
     "metadata": {},
     "output_type": "display_data"
    },
    {
     "data": {
      "text/plain": [
       "'paid:'"
      ]
     },
     "metadata": {},
     "output_type": "display_data"
    },
    {
     "data": {
      "text/plain": [
       "454"
      ]
     },
     "metadata": {},
     "output_type": "display_data"
    }
   ],
   "source": [
    "#We analyze the funnel step by step \n",
    "\n",
    "sales = AABCFunnel.pivot_table(\n",
    "    index='DeviceID', \n",
    "    columns='EventName', \n",
    "    values='EventTime',\n",
    "    aggfunc='min')\n",
    "\n",
    "step_1 = ~sales['MainScreenAppear'].isna()\n",
    "step_2 = step_1 & (sales['OffersScreenAppear'] > sales['MainScreenAppear'])\n",
    "\n",
    "step_3 = step_2 & (sales['CartScreenAppear'] > sales['OffersScreenAppear'])\n",
    "step_4 = step_3 & (sales['PaymentScreenSuccessful'] > sales['CartScreenAppear']) \n",
    "\n",
    "UsersIntheFirstStep = sales[step_1].shape[0]\n",
    "Noffered = sales[step_2].shape[0]\n",
    "NcartScreen = sales[step_3].shape[0]\n",
    "NPayment = sales[step_4].shape[0]\n",
    "\n",
    "display('Vistiors:', UsersIntheFirstStep)\n",
    "display('Saw the offer:', Noffered)\n",
    "display('Saw the cart:', NcartScreen)\n",
    "display('paid:', NPayment)"
   ]
  },
  {
   "cell_type": "markdown",
   "id": "17a57329",
   "metadata": {},
   "source": [
    "## analysis \n",
    "We see that we had 7419 unique visitors. From those 4201 saw the offer and 1767 reached the cart but only 454 paid.\n",
    "The percentages in each step are: \n",
    "Visitors to offer : 56% retention\n",
    "Offer to cart:  42% \n",
    "Cart to paid: 25% \n",
    "The point where we lost the most customers was in the cart to final payment \n"
   ]
  },
  {
   "cell_type": "markdown",
   "id": "9ee5858f",
   "metadata": {},
   "source": [
    "## AAB Test \n",
    "For the AAB test we are going  to check the following:\n",
    "1. How many users are in each group\n",
    "2. check any statistical difference between 246 and 247 since those are the A/A group to check if we make a correct separation\n",
    "3. Check the most popular event, \n",
    "4. Compare with the B group \n",
    "5. do the statistcial analysis \n"
   ]
  },
  {
   "cell_type": "code",
   "execution_count": 18,
   "id": "b93076ce",
   "metadata": {},
   "outputs": [],
   "source": [
    "AACTests = AABCleaned "
   ]
  },
  {
   "cell_type": "code",
   "execution_count": 19,
   "id": "ccad7a99",
   "metadata": {},
   "outputs": [
    {
     "data": {
      "text/html": [
       "<div>\n",
       "<style scoped>\n",
       "    .dataframe tbody tr th:only-of-type {\n",
       "        vertical-align: middle;\n",
       "    }\n",
       "\n",
       "    .dataframe tbody tr th {\n",
       "        vertical-align: top;\n",
       "    }\n",
       "\n",
       "    .dataframe thead th {\n",
       "        text-align: right;\n",
       "    }\n",
       "</style>\n",
       "<table border=\"1\" class=\"dataframe\">\n",
       "  <thead>\n",
       "    <tr style=\"text-align: right;\">\n",
       "      <th></th>\n",
       "      <th>EventName</th>\n",
       "      <th>DeviceID</th>\n",
       "      <th>EventTime</th>\n",
       "      <th>group</th>\n",
       "      <th>Date</th>\n",
       "      <th>DayHour</th>\n",
       "    </tr>\n",
       "  </thead>\n",
       "  <tbody>\n",
       "    <tr>\n",
       "      <th>2828</th>\n",
       "      <td>Tutorial</td>\n",
       "      <td>3737462046622621720</td>\n",
       "      <td>2019-08-01 00:07:28</td>\n",
       "      <td>246</td>\n",
       "      <td>2019-08-01</td>\n",
       "      <td>01 00:07</td>\n",
       "    </tr>\n",
       "    <tr>\n",
       "      <th>2829</th>\n",
       "      <td>MainScreenAppear</td>\n",
       "      <td>3737462046622621720</td>\n",
       "      <td>2019-08-01 00:08:00</td>\n",
       "      <td>246</td>\n",
       "      <td>2019-08-01</td>\n",
       "      <td>01 00:08</td>\n",
       "    </tr>\n",
       "    <tr>\n",
       "      <th>2830</th>\n",
       "      <td>MainScreenAppear</td>\n",
       "      <td>3737462046622621720</td>\n",
       "      <td>2019-08-01 00:08:55</td>\n",
       "      <td>246</td>\n",
       "      <td>2019-08-01</td>\n",
       "      <td>01 00:08</td>\n",
       "    </tr>\n",
       "    <tr>\n",
       "      <th>2831</th>\n",
       "      <td>OffersScreenAppear</td>\n",
       "      <td>3737462046622621720</td>\n",
       "      <td>2019-08-01 00:08:58</td>\n",
       "      <td>246</td>\n",
       "      <td>2019-08-01</td>\n",
       "      <td>01 00:08</td>\n",
       "    </tr>\n",
       "    <tr>\n",
       "      <th>2832</th>\n",
       "      <td>MainScreenAppear</td>\n",
       "      <td>1433840883824088890</td>\n",
       "      <td>2019-08-01 00:08:59</td>\n",
       "      <td>247</td>\n",
       "      <td>2019-08-01</td>\n",
       "      <td>01 00:08</td>\n",
       "    </tr>\n",
       "    <tr>\n",
       "      <th>...</th>\n",
       "      <td>...</td>\n",
       "      <td>...</td>\n",
       "      <td>...</td>\n",
       "      <td>...</td>\n",
       "      <td>...</td>\n",
       "      <td>...</td>\n",
       "    </tr>\n",
       "    <tr>\n",
       "      <th>244121</th>\n",
       "      <td>MainScreenAppear</td>\n",
       "      <td>4599628364049201812</td>\n",
       "      <td>2019-08-07 21:12:25</td>\n",
       "      <td>247</td>\n",
       "      <td>2019-08-07</td>\n",
       "      <td>07 21:12</td>\n",
       "    </tr>\n",
       "    <tr>\n",
       "      <th>244122</th>\n",
       "      <td>MainScreenAppear</td>\n",
       "      <td>5849806612437486590</td>\n",
       "      <td>2019-08-07 21:13:59</td>\n",
       "      <td>246</td>\n",
       "      <td>2019-08-07</td>\n",
       "      <td>07 21:13</td>\n",
       "    </tr>\n",
       "    <tr>\n",
       "      <th>244123</th>\n",
       "      <td>MainScreenAppear</td>\n",
       "      <td>5746969938801999050</td>\n",
       "      <td>2019-08-07 21:14:43</td>\n",
       "      <td>246</td>\n",
       "      <td>2019-08-07</td>\n",
       "      <td>07 21:14</td>\n",
       "    </tr>\n",
       "    <tr>\n",
       "      <th>244124</th>\n",
       "      <td>MainScreenAppear</td>\n",
       "      <td>5746969938801999050</td>\n",
       "      <td>2019-08-07 21:14:58</td>\n",
       "      <td>246</td>\n",
       "      <td>2019-08-07</td>\n",
       "      <td>07 21:14</td>\n",
       "    </tr>\n",
       "    <tr>\n",
       "      <th>244125</th>\n",
       "      <td>OffersScreenAppear</td>\n",
       "      <td>5746969938801999050</td>\n",
       "      <td>2019-08-07 21:15:17</td>\n",
       "      <td>246</td>\n",
       "      <td>2019-08-07</td>\n",
       "      <td>07 21:15</td>\n",
       "    </tr>\n",
       "  </tbody>\n",
       "</table>\n",
       "<p>240887 rows × 6 columns</p>\n",
       "</div>"
      ],
      "text/plain": [
       "                 EventName             DeviceID           EventTime  group  \\\n",
       "2828              Tutorial  3737462046622621720 2019-08-01 00:07:28    246   \n",
       "2829      MainScreenAppear  3737462046622621720 2019-08-01 00:08:00    246   \n",
       "2830      MainScreenAppear  3737462046622621720 2019-08-01 00:08:55    246   \n",
       "2831    OffersScreenAppear  3737462046622621720 2019-08-01 00:08:58    246   \n",
       "2832      MainScreenAppear  1433840883824088890 2019-08-01 00:08:59    247   \n",
       "...                    ...                  ...                 ...    ...   \n",
       "244121    MainScreenAppear  4599628364049201812 2019-08-07 21:12:25    247   \n",
       "244122    MainScreenAppear  5849806612437486590 2019-08-07 21:13:59    246   \n",
       "244123    MainScreenAppear  5746969938801999050 2019-08-07 21:14:43    246   \n",
       "244124    MainScreenAppear  5746969938801999050 2019-08-07 21:14:58    246   \n",
       "244125  OffersScreenAppear  5746969938801999050 2019-08-07 21:15:17    246   \n",
       "\n",
       "             Date   DayHour  \n",
       "2828   2019-08-01  01 00:07  \n",
       "2829   2019-08-01  01 00:08  \n",
       "2830   2019-08-01  01 00:08  \n",
       "2831   2019-08-01  01 00:08  \n",
       "2832   2019-08-01  01 00:08  \n",
       "...           ...       ...  \n",
       "244121 2019-08-07  07 21:12  \n",
       "244122 2019-08-07  07 21:13  \n",
       "244123 2019-08-07  07 21:14  \n",
       "244124 2019-08-07  07 21:14  \n",
       "244125 2019-08-07  07 21:15  \n",
       "\n",
       "[240887 rows x 6 columns]"
      ]
     },
     "metadata": {},
     "output_type": "display_data"
    }
   ],
   "source": [
    "display ( AACTests)"
   ]
  },
  {
   "cell_type": "code",
   "execution_count": 20,
   "id": "d7b8132a",
   "metadata": {},
   "outputs": [
    {
     "data": {
      "text/plain": [
       "group\n",
       "248    2537\n",
       "247    2513\n",
       "246    2484\n",
       "Name: count, dtype: int64"
      ]
     },
     "metadata": {},
     "output_type": "display_data"
    }
   ],
   "source": [
    "# for the population we use the same code as before \n",
    "\n",
    "UniquePerGroup = AACTests.drop_duplicates(subset=['DeviceID', 'group'])\n",
    "\n",
    "UniqueUseCounts = UniquePerGroup['group'].value_counts()\n",
    "\n",
    "display (UniqueUseCounts)\n"
   ]
  },
  {
   "cell_type": "markdown",
   "id": "6e86cb98",
   "metadata": {},
   "source": [
    "We now create a funciton to compare how did the behaviour compares in each case "
   ]
  },
  {
   "cell_type": "code",
   "execution_count": 21,
   "id": "aacdb3da",
   "metadata": {},
   "outputs": [
    {
     "data": {
      "text/html": [
       "<div>\n",
       "<style scoped>\n",
       "    .dataframe tbody tr th:only-of-type {\n",
       "        vertical-align: middle;\n",
       "    }\n",
       "\n",
       "    .dataframe tbody tr th {\n",
       "        vertical-align: top;\n",
       "    }\n",
       "\n",
       "    .dataframe thead th {\n",
       "        text-align: right;\n",
       "    }\n",
       "</style>\n",
       "<table border=\"1\" class=\"dataframe\">\n",
       "  <thead>\n",
       "    <tr style=\"text-align: right;\">\n",
       "      <th>EventName</th>\n",
       "      <th>MainScreenAppear</th>\n",
       "      <th>OffersScreenAppear</th>\n",
       "      <th>CartScreenAppear</th>\n",
       "      <th>PaymentScreenSuccessful</th>\n",
       "    </tr>\n",
       "    <tr>\n",
       "      <th>group</th>\n",
       "      <th></th>\n",
       "      <th></th>\n",
       "      <th></th>\n",
       "      <th></th>\n",
       "    </tr>\n",
       "  </thead>\n",
       "  <tbody>\n",
       "    <tr>\n",
       "      <th>246</th>\n",
       "      <td>2450</td>\n",
       "      <td>1542</td>\n",
       "      <td>1266</td>\n",
       "      <td>1200</td>\n",
       "    </tr>\n",
       "    <tr>\n",
       "      <th>247</th>\n",
       "      <td>2476</td>\n",
       "      <td>1520</td>\n",
       "      <td>1238</td>\n",
       "      <td>1158</td>\n",
       "    </tr>\n",
       "    <tr>\n",
       "      <th>248</th>\n",
       "      <td>2493</td>\n",
       "      <td>1531</td>\n",
       "      <td>1230</td>\n",
       "      <td>1181</td>\n",
       "    </tr>\n",
       "  </tbody>\n",
       "</table>\n",
       "</div>"
      ],
      "text/plain": [
       "EventName  MainScreenAppear  OffersScreenAppear  CartScreenAppear  \\\n",
       "group                                                               \n",
       "246                    2450                1542              1266   \n",
       "247                    2476                1520              1238   \n",
       "248                    2493                1531              1230   \n",
       "\n",
       "EventName  PaymentScreenSuccessful  \n",
       "group                               \n",
       "246                           1200  \n",
       "247                           1158  \n",
       "248                           1181  "
      ]
     },
     "metadata": {},
     "output_type": "display_data"
    }
   ],
   "source": [
    "def GroupBehavour(df, Events ):\n",
    "\n",
    "\n",
    "    # Filter to only the events  \n",
    "    RelevantEvent = df[df['EventName'].isin(events )]\n",
    "    \n",
    "    # group by group  and device so only unique uses are counted\n",
    "    EventCounts = RelevantEvent.groupby(['group', 'EventName'])['DeviceID'].nunique().unstack(fill_value=0)\n",
    "    #we make sure the columns correspond to the funnel to ease the analysis \n",
    "    EventCounts = EventCounts.reindex(columns=events, fill_value=0)\n",
    "    return EventCounts\n",
    "\n",
    "\n",
    "events = ['MainScreenAppear', 'OffersScreenAppear', 'CartScreenAppear', 'PaymentScreenSuccessful']\n",
    "EventsPerGroup = GroupBehavour(AACTests, events)\n",
    "\n",
    "\n",
    "display (EventsPerGroup)"
   ]
  },
  {
   "cell_type": "code",
   "execution_count": 26,
   "id": "c6388107",
   "metadata": {},
   "outputs": [
    {
     "data": {
      "text/plain": [
       "'p-value: '"
      ]
     },
     "metadata": {},
     "output_type": "display_data"
    },
    {
     "data": {
      "text/plain": [
       "1.0"
      ]
     },
     "metadata": {},
     "output_type": "display_data"
    },
    {
     "data": {
      "text/plain": [
       "'Para el evento'"
      ]
     },
     "metadata": {},
     "output_type": "display_data"
    },
    {
     "data": {
      "text/plain": [
       "'MainScreenAppear'"
      ]
     },
     "metadata": {},
     "output_type": "display_data"
    },
    {
     "data": {
      "text/plain": [
       "'No se pudo rechazar la hipótesis nula: no podemos sacar conclusiones sobre la diferencia'"
      ]
     },
     "metadata": {},
     "output_type": "display_data"
    },
    {
     "data": {
      "text/plain": [
       "'p-value: '"
      ]
     },
     "metadata": {},
     "output_type": "display_data"
    },
    {
     "data": {
      "text/plain": [
       "1.0"
      ]
     },
     "metadata": {},
     "output_type": "display_data"
    },
    {
     "data": {
      "text/plain": [
       "'Para el evento'"
      ]
     },
     "metadata": {},
     "output_type": "display_data"
    },
    {
     "data": {
      "text/plain": [
       "'OffersScreenAppear'"
      ]
     },
     "metadata": {},
     "output_type": "display_data"
    },
    {
     "data": {
      "text/plain": [
       "'No se pudo rechazar la hipótesis nula: no podemos sacar conclusiones sobre la diferencia'"
      ]
     },
     "metadata": {},
     "output_type": "display_data"
    },
    {
     "data": {
      "text/plain": [
       "'p-value: '"
      ]
     },
     "metadata": {},
     "output_type": "display_data"
    },
    {
     "data": {
      "text/plain": [
       "1.0"
      ]
     },
     "metadata": {},
     "output_type": "display_data"
    },
    {
     "data": {
      "text/plain": [
       "'Para el evento'"
      ]
     },
     "metadata": {},
     "output_type": "display_data"
    },
    {
     "data": {
      "text/plain": [
       "'CartScreenAppear'"
      ]
     },
     "metadata": {},
     "output_type": "display_data"
    },
    {
     "data": {
      "text/plain": [
       "'No se pudo rechazar la hipótesis nula: no podemos sacar conclusiones sobre la diferencia'"
      ]
     },
     "metadata": {},
     "output_type": "display_data"
    },
    {
     "data": {
      "text/plain": [
       "'p-value: '"
      ]
     },
     "metadata": {},
     "output_type": "display_data"
    },
    {
     "data": {
      "text/plain": [
       "1.0"
      ]
     },
     "metadata": {},
     "output_type": "display_data"
    },
    {
     "data": {
      "text/plain": [
       "'Para el evento'"
      ]
     },
     "metadata": {},
     "output_type": "display_data"
    },
    {
     "data": {
      "text/plain": [
       "'PaymentScreenSuccessful'"
      ]
     },
     "metadata": {},
     "output_type": "display_data"
    },
    {
     "data": {
      "text/plain": [
       "'No se pudo rechazar la hipótesis nula: no podemos sacar conclusiones sobre la diferencia'"
      ]
     },
     "metadata": {},
     "output_type": "display_data"
    }
   ],
   "source": [
    "# we want to know if two populations are equal or not, so we use the MannWithney u test \n",
    "\n",
    "def StatAnalysis(df, group1, group2):\n",
    "\n",
    "    # Create a dictionary for results \n",
    "    results = {}\n",
    "\n",
    "\n",
    "    for event in df.columns:\n",
    "        \n",
    "       \n",
    "        results = st.mannwhitneyu(df.loc[group1, event], df.loc[group2, event])\n",
    "        display ('p-value: ', results.pvalue)\n",
    "        alpha = .05\n",
    "        display ('Para el evento',event)\n",
    "\n",
    "        if (results.pvalue < alpha):\n",
    "            display (\"Hipótesis nula rechazada: existen diferencias significativas entre las distribuciones de los dos grupos comparados\")\n",
    "        else:\n",
    "            display (\"No se pudo rechazar la hipótesis nula: no podemos sacar conclusiones sobre la diferencia\")\n",
    "\n",
    "\n",
    "    return \n",
    "#probamos con la prueba A/A\n",
    "#we try with the A/A test \n",
    "group1 = 246\n",
    "group2 = 247\n",
    "\n",
    "results = StatAnalysis(EventsPerGroup, group1, group2)\n",
    "\n",
    "\n"
   ]
  },
  {
   "cell_type": "markdown",
   "id": "bdba15b3",
   "metadata": {},
   "source": [
    "We can see that the two control groups, 246 and 247 are very close and have almost not any significant difference. "
   ]
  },
  {
   "cell_type": "code",
   "execution_count": 27,
   "id": "a1271c34",
   "metadata": {},
   "outputs": [
    {
     "data": {
      "text/plain": [
       "'p-value: '"
      ]
     },
     "metadata": {},
     "output_type": "display_data"
    },
    {
     "data": {
      "text/plain": [
       "1.0"
      ]
     },
     "metadata": {},
     "output_type": "display_data"
    },
    {
     "data": {
      "text/plain": [
       "'Para el evento'"
      ]
     },
     "metadata": {},
     "output_type": "display_data"
    },
    {
     "data": {
      "text/plain": [
       "'MainScreenAppear'"
      ]
     },
     "metadata": {},
     "output_type": "display_data"
    },
    {
     "data": {
      "text/plain": [
       "'No se pudo rechazar la hipótesis nula: no podemos sacar conclusiones sobre la diferencia'"
      ]
     },
     "metadata": {},
     "output_type": "display_data"
    },
    {
     "data": {
      "text/plain": [
       "'p-value: '"
      ]
     },
     "metadata": {},
     "output_type": "display_data"
    },
    {
     "data": {
      "text/plain": [
       "1.0"
      ]
     },
     "metadata": {},
     "output_type": "display_data"
    },
    {
     "data": {
      "text/plain": [
       "'Para el evento'"
      ]
     },
     "metadata": {},
     "output_type": "display_data"
    },
    {
     "data": {
      "text/plain": [
       "'OffersScreenAppear'"
      ]
     },
     "metadata": {},
     "output_type": "display_data"
    },
    {
     "data": {
      "text/plain": [
       "'No se pudo rechazar la hipótesis nula: no podemos sacar conclusiones sobre la diferencia'"
      ]
     },
     "metadata": {},
     "output_type": "display_data"
    },
    {
     "data": {
      "text/plain": [
       "'p-value: '"
      ]
     },
     "metadata": {},
     "output_type": "display_data"
    },
    {
     "data": {
      "text/plain": [
       "1.0"
      ]
     },
     "metadata": {},
     "output_type": "display_data"
    },
    {
     "data": {
      "text/plain": [
       "'Para el evento'"
      ]
     },
     "metadata": {},
     "output_type": "display_data"
    },
    {
     "data": {
      "text/plain": [
       "'CartScreenAppear'"
      ]
     },
     "metadata": {},
     "output_type": "display_data"
    },
    {
     "data": {
      "text/plain": [
       "'No se pudo rechazar la hipótesis nula: no podemos sacar conclusiones sobre la diferencia'"
      ]
     },
     "metadata": {},
     "output_type": "display_data"
    },
    {
     "data": {
      "text/plain": [
       "'p-value: '"
      ]
     },
     "metadata": {},
     "output_type": "display_data"
    },
    {
     "data": {
      "text/plain": [
       "1.0"
      ]
     },
     "metadata": {},
     "output_type": "display_data"
    },
    {
     "data": {
      "text/plain": [
       "'Para el evento'"
      ]
     },
     "metadata": {},
     "output_type": "display_data"
    },
    {
     "data": {
      "text/plain": [
       "'PaymentScreenSuccessful'"
      ]
     },
     "metadata": {},
     "output_type": "display_data"
    },
    {
     "data": {
      "text/plain": [
       "'No se pudo rechazar la hipótesis nula: no podemos sacar conclusiones sobre la diferencia'"
      ]
     },
     "metadata": {},
     "output_type": "display_data"
    }
   ],
   "source": [
    "#we try with the A/B data \n",
    "groupControl = 246\n",
    "groupExperiment = 248\n",
    "\n",
    "resultsAB = StatAnalysis(EventsPerGroup, groupControl, groupExperiment)\n"
   ]
  },
  {
   "cell_type": "markdown",
   "id": "95758086",
   "metadata": {},
   "source": [
    "Conclusions\n",
    "🔍 Summary of key findings: The objective of the A/B test was to see if there was any difference with the new letter style. The populations are similar in both A/A/B. Nevertheles when comparing the results and the conversions the behaviour of the users and conversion rates is very similar with no statistcal significance. \n",
    "\n",
    "\n",
    "🎯 Relation to the initial objectives: The analysis answered the questions presented.\n",
    "\n",
    "🚀 Suggestions and recommendations: The letter style didn't change in a relevant way the behaviour of the people. \n",
    "\n",
    "The company needs to stop the test and change its approach as the current version does not present any advantage or difference \n",
    "📝 Final thoughts :\n",
    "\n",
    "The project offered a funnel A/B test where there were 5 different events to test and compare, the populations needed to be tested individually to see any significant difference.  \n",
    "\n",
    "\n",
    "Conclusiones 🔍 Resumen de los Hallazgos Clave: El objetivo del proyeto era probar si habia una diferencia al cambiar las fuentes en el app. Las poblaciones fueron similares tanto en numeros, como en comportamientos, al grado que no hubo una diferencia significativa en los resultados. \n",
    "\n",
    "\n",
    "El proyecto ofrecio una prueba donde el aun comparando grupos A con B y haciendo un embudo de trabajo el resultado fue neutro. "
   ]
  },
  {
   "cell_type": "code",
   "execution_count": 30,
   "id": "33d459c0",
   "metadata": {},
   "outputs": [
    {
     "name": "stdout",
     "output_type": "stream",
     "text": [
      "P-value for MainScreenAppear: 1.0\n",
      "P-value for OffersScreenAppear: 1.0\n",
      "P-value for CartScreenAppear: 1.0\n",
      "P-value for PaymentScreenSuccessful: 1.0\n"
     ]
    }
   ],
   "source": []
  },
  {
   "cell_type": "code",
   "execution_count": null,
   "id": "c7dbb3f9",
   "metadata": {},
   "outputs": [],
   "source": []
  }
 ],
 "metadata": {
  "kernelspec": {
   "display_name": "Python 3 (ipykernel)",
   "language": "python",
   "name": "python3"
  },
  "language_info": {
   "codemirror_mode": {
    "name": "ipython",
    "version": 3
   },
   "file_extension": ".py",
   "mimetype": "text/x-python",
   "name": "python",
   "nbconvert_exporter": "python",
   "pygments_lexer": "ipython3",
   "version": "3.11.5"
  }
 },
 "nbformat": 4,
 "nbformat_minor": 5
}
